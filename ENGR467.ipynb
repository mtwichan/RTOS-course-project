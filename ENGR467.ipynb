{
 "cells": [
  {
   "cell_type": "code",
   "execution_count": 1,
   "metadata": {},
   "outputs": [
    {
     "data": {
      "application/javascript": [
       "\n",
       "            setTimeout(function() {\n",
       "                var nbb_cell_id = 1;\n",
       "                var nbb_unformatted_code = \"# Auto PEP8: pip install nb_black\\n# Loading extension\\n%load_ext nb_black\";\n",
       "                var nbb_formatted_code = \"# Auto PEP8: pip install nb_black\\n# Loading extension\\n%load_ext nb_black\";\n",
       "                var nbb_cells = Jupyter.notebook.get_cells();\n",
       "                for (var i = 0; i < nbb_cells.length; ++i) {\n",
       "                    if (nbb_cells[i].input_prompt_number == nbb_cell_id) {\n",
       "                        if (nbb_cells[i].get_text() == nbb_unformatted_code) {\n",
       "                             nbb_cells[i].set_text(nbb_formatted_code);\n",
       "                        }\n",
       "                        break;\n",
       "                    }\n",
       "                }\n",
       "            }, 500);\n",
       "            "
      ],
      "text/plain": [
       "<IPython.core.display.Javascript object>"
      ]
     },
     "metadata": {},
     "output_type": "display_data"
    }
   ],
   "source": [
    "# Auto PEP8: pip install nb_black\n",
    "# Loading extension\n",
    "%load_ext nb_black"
   ]
  },
  {
   "cell_type": "code",
   "execution_count": 7,
   "metadata": {},
   "outputs": [
    {
     "data": {
      "application/javascript": [
       "\n",
       "            setTimeout(function() {\n",
       "                var nbb_cell_id = 7;\n",
       "                var nbb_unformatted_code = \"import plotly.graph_objects as go\\nimport pandas as pd\";\n",
       "                var nbb_formatted_code = \"import plotly.graph_objects as go\\nimport pandas as pd\";\n",
       "                var nbb_cells = Jupyter.notebook.get_cells();\n",
       "                for (var i = 0; i < nbb_cells.length; ++i) {\n",
       "                    if (nbb_cells[i].input_prompt_number == nbb_cell_id) {\n",
       "                        if (nbb_cells[i].get_text() == nbb_unformatted_code) {\n",
       "                             nbb_cells[i].set_text(nbb_formatted_code);\n",
       "                        }\n",
       "                        break;\n",
       "                    }\n",
       "                }\n",
       "            }, 500);\n",
       "            "
      ],
      "text/plain": [
       "<IPython.core.display.Javascript object>"
      ]
     },
     "metadata": {},
     "output_type": "display_data"
    }
   ],
   "source": [
    "import plotly.graph_objects as go\n",
    "import pandas as pd"
   ]
  },
  {
   "cell_type": "code",
   "execution_count": 8,
   "metadata": {
    "scrolled": true
   },
   "outputs": [
    {
     "data": {
      "application/vnd.plotly.v1+json": {
       "config": {
        "plotlyServerURL": "https://plot.ly"
       },
       "data": [
        {
         "base": [
          1,
          3,
          5
         ],
         "name": "Job 1",
         "orientation": "h",
         "type": "bar",
         "x": [
          1,
          1,
          1
         ],
         "y": [
          0,
          0,
          0
         ]
        },
        {
         "base": [
          1,
          2,
          5
         ],
         "name": "Job 2",
         "orientation": "h",
         "type": "bar",
         "x": [
          0,
          3,
          1
         ],
         "y": [
          1,
          1,
          1
         ]
        }
       ],
       "layout": {
        "template": {
         "data": {
          "bar": [
           {
            "error_x": {
             "color": "#2a3f5f"
            },
            "error_y": {
             "color": "#2a3f5f"
            },
            "marker": {
             "line": {
              "color": "#E5ECF6",
              "width": 0.5
             }
            },
            "type": "bar"
           }
          ],
          "barpolar": [
           {
            "marker": {
             "line": {
              "color": "#E5ECF6",
              "width": 0.5
             }
            },
            "type": "barpolar"
           }
          ],
          "carpet": [
           {
            "aaxis": {
             "endlinecolor": "#2a3f5f",
             "gridcolor": "white",
             "linecolor": "white",
             "minorgridcolor": "white",
             "startlinecolor": "#2a3f5f"
            },
            "baxis": {
             "endlinecolor": "#2a3f5f",
             "gridcolor": "white",
             "linecolor": "white",
             "minorgridcolor": "white",
             "startlinecolor": "#2a3f5f"
            },
            "type": "carpet"
           }
          ],
          "choropleth": [
           {
            "colorbar": {
             "outlinewidth": 0,
             "ticks": ""
            },
            "type": "choropleth"
           }
          ],
          "contour": [
           {
            "colorbar": {
             "outlinewidth": 0,
             "ticks": ""
            },
            "colorscale": [
             [
              0,
              "#0d0887"
             ],
             [
              0.1111111111111111,
              "#46039f"
             ],
             [
              0.2222222222222222,
              "#7201a8"
             ],
             [
              0.3333333333333333,
              "#9c179e"
             ],
             [
              0.4444444444444444,
              "#bd3786"
             ],
             [
              0.5555555555555556,
              "#d8576b"
             ],
             [
              0.6666666666666666,
              "#ed7953"
             ],
             [
              0.7777777777777778,
              "#fb9f3a"
             ],
             [
              0.8888888888888888,
              "#fdca26"
             ],
             [
              1,
              "#f0f921"
             ]
            ],
            "type": "contour"
           }
          ],
          "contourcarpet": [
           {
            "colorbar": {
             "outlinewidth": 0,
             "ticks": ""
            },
            "type": "contourcarpet"
           }
          ],
          "heatmap": [
           {
            "colorbar": {
             "outlinewidth": 0,
             "ticks": ""
            },
            "colorscale": [
             [
              0,
              "#0d0887"
             ],
             [
              0.1111111111111111,
              "#46039f"
             ],
             [
              0.2222222222222222,
              "#7201a8"
             ],
             [
              0.3333333333333333,
              "#9c179e"
             ],
             [
              0.4444444444444444,
              "#bd3786"
             ],
             [
              0.5555555555555556,
              "#d8576b"
             ],
             [
              0.6666666666666666,
              "#ed7953"
             ],
             [
              0.7777777777777778,
              "#fb9f3a"
             ],
             [
              0.8888888888888888,
              "#fdca26"
             ],
             [
              1,
              "#f0f921"
             ]
            ],
            "type": "heatmap"
           }
          ],
          "heatmapgl": [
           {
            "colorbar": {
             "outlinewidth": 0,
             "ticks": ""
            },
            "colorscale": [
             [
              0,
              "#0d0887"
             ],
             [
              0.1111111111111111,
              "#46039f"
             ],
             [
              0.2222222222222222,
              "#7201a8"
             ],
             [
              0.3333333333333333,
              "#9c179e"
             ],
             [
              0.4444444444444444,
              "#bd3786"
             ],
             [
              0.5555555555555556,
              "#d8576b"
             ],
             [
              0.6666666666666666,
              "#ed7953"
             ],
             [
              0.7777777777777778,
              "#fb9f3a"
             ],
             [
              0.8888888888888888,
              "#fdca26"
             ],
             [
              1,
              "#f0f921"
             ]
            ],
            "type": "heatmapgl"
           }
          ],
          "histogram": [
           {
            "marker": {
             "colorbar": {
              "outlinewidth": 0,
              "ticks": ""
             }
            },
            "type": "histogram"
           }
          ],
          "histogram2d": [
           {
            "colorbar": {
             "outlinewidth": 0,
             "ticks": ""
            },
            "colorscale": [
             [
              0,
              "#0d0887"
             ],
             [
              0.1111111111111111,
              "#46039f"
             ],
             [
              0.2222222222222222,
              "#7201a8"
             ],
             [
              0.3333333333333333,
              "#9c179e"
             ],
             [
              0.4444444444444444,
              "#bd3786"
             ],
             [
              0.5555555555555556,
              "#d8576b"
             ],
             [
              0.6666666666666666,
              "#ed7953"
             ],
             [
              0.7777777777777778,
              "#fb9f3a"
             ],
             [
              0.8888888888888888,
              "#fdca26"
             ],
             [
              1,
              "#f0f921"
             ]
            ],
            "type": "histogram2d"
           }
          ],
          "histogram2dcontour": [
           {
            "colorbar": {
             "outlinewidth": 0,
             "ticks": ""
            },
            "colorscale": [
             [
              0,
              "#0d0887"
             ],
             [
              0.1111111111111111,
              "#46039f"
             ],
             [
              0.2222222222222222,
              "#7201a8"
             ],
             [
              0.3333333333333333,
              "#9c179e"
             ],
             [
              0.4444444444444444,
              "#bd3786"
             ],
             [
              0.5555555555555556,
              "#d8576b"
             ],
             [
              0.6666666666666666,
              "#ed7953"
             ],
             [
              0.7777777777777778,
              "#fb9f3a"
             ],
             [
              0.8888888888888888,
              "#fdca26"
             ],
             [
              1,
              "#f0f921"
             ]
            ],
            "type": "histogram2dcontour"
           }
          ],
          "mesh3d": [
           {
            "colorbar": {
             "outlinewidth": 0,
             "ticks": ""
            },
            "type": "mesh3d"
           }
          ],
          "parcoords": [
           {
            "line": {
             "colorbar": {
              "outlinewidth": 0,
              "ticks": ""
             }
            },
            "type": "parcoords"
           }
          ],
          "pie": [
           {
            "automargin": true,
            "type": "pie"
           }
          ],
          "scatter": [
           {
            "marker": {
             "colorbar": {
              "outlinewidth": 0,
              "ticks": ""
             }
            },
            "type": "scatter"
           }
          ],
          "scatter3d": [
           {
            "line": {
             "colorbar": {
              "outlinewidth": 0,
              "ticks": ""
             }
            },
            "marker": {
             "colorbar": {
              "outlinewidth": 0,
              "ticks": ""
             }
            },
            "type": "scatter3d"
           }
          ],
          "scattercarpet": [
           {
            "marker": {
             "colorbar": {
              "outlinewidth": 0,
              "ticks": ""
             }
            },
            "type": "scattercarpet"
           }
          ],
          "scattergeo": [
           {
            "marker": {
             "colorbar": {
              "outlinewidth": 0,
              "ticks": ""
             }
            },
            "type": "scattergeo"
           }
          ],
          "scattergl": [
           {
            "marker": {
             "colorbar": {
              "outlinewidth": 0,
              "ticks": ""
             }
            },
            "type": "scattergl"
           }
          ],
          "scattermapbox": [
           {
            "marker": {
             "colorbar": {
              "outlinewidth": 0,
              "ticks": ""
             }
            },
            "type": "scattermapbox"
           }
          ],
          "scatterpolar": [
           {
            "marker": {
             "colorbar": {
              "outlinewidth": 0,
              "ticks": ""
             }
            },
            "type": "scatterpolar"
           }
          ],
          "scatterpolargl": [
           {
            "marker": {
             "colorbar": {
              "outlinewidth": 0,
              "ticks": ""
             }
            },
            "type": "scatterpolargl"
           }
          ],
          "scatterternary": [
           {
            "marker": {
             "colorbar": {
              "outlinewidth": 0,
              "ticks": ""
             }
            },
            "type": "scatterternary"
           }
          ],
          "surface": [
           {
            "colorbar": {
             "outlinewidth": 0,
             "ticks": ""
            },
            "colorscale": [
             [
              0,
              "#0d0887"
             ],
             [
              0.1111111111111111,
              "#46039f"
             ],
             [
              0.2222222222222222,
              "#7201a8"
             ],
             [
              0.3333333333333333,
              "#9c179e"
             ],
             [
              0.4444444444444444,
              "#bd3786"
             ],
             [
              0.5555555555555556,
              "#d8576b"
             ],
             [
              0.6666666666666666,
              "#ed7953"
             ],
             [
              0.7777777777777778,
              "#fb9f3a"
             ],
             [
              0.8888888888888888,
              "#fdca26"
             ],
             [
              1,
              "#f0f921"
             ]
            ],
            "type": "surface"
           }
          ],
          "table": [
           {
            "cells": {
             "fill": {
              "color": "#EBF0F8"
             },
             "line": {
              "color": "white"
             }
            },
            "header": {
             "fill": {
              "color": "#C8D4E3"
             },
             "line": {
              "color": "white"
             }
            },
            "type": "table"
           }
          ]
         },
         "layout": {
          "annotationdefaults": {
           "arrowcolor": "#2a3f5f",
           "arrowhead": 0,
           "arrowwidth": 1
          },
          "coloraxis": {
           "colorbar": {
            "outlinewidth": 0,
            "ticks": ""
           }
          },
          "colorscale": {
           "diverging": [
            [
             0,
             "#8e0152"
            ],
            [
             0.1,
             "#c51b7d"
            ],
            [
             0.2,
             "#de77ae"
            ],
            [
             0.3,
             "#f1b6da"
            ],
            [
             0.4,
             "#fde0ef"
            ],
            [
             0.5,
             "#f7f7f7"
            ],
            [
             0.6,
             "#e6f5d0"
            ],
            [
             0.7,
             "#b8e186"
            ],
            [
             0.8,
             "#7fbc41"
            ],
            [
             0.9,
             "#4d9221"
            ],
            [
             1,
             "#276419"
            ]
           ],
           "sequential": [
            [
             0,
             "#0d0887"
            ],
            [
             0.1111111111111111,
             "#46039f"
            ],
            [
             0.2222222222222222,
             "#7201a8"
            ],
            [
             0.3333333333333333,
             "#9c179e"
            ],
            [
             0.4444444444444444,
             "#bd3786"
            ],
            [
             0.5555555555555556,
             "#d8576b"
            ],
            [
             0.6666666666666666,
             "#ed7953"
            ],
            [
             0.7777777777777778,
             "#fb9f3a"
            ],
            [
             0.8888888888888888,
             "#fdca26"
            ],
            [
             1,
             "#f0f921"
            ]
           ],
           "sequentialminus": [
            [
             0,
             "#0d0887"
            ],
            [
             0.1111111111111111,
             "#46039f"
            ],
            [
             0.2222222222222222,
             "#7201a8"
            ],
            [
             0.3333333333333333,
             "#9c179e"
            ],
            [
             0.4444444444444444,
             "#bd3786"
            ],
            [
             0.5555555555555556,
             "#d8576b"
            ],
            [
             0.6666666666666666,
             "#ed7953"
            ],
            [
             0.7777777777777778,
             "#fb9f3a"
            ],
            [
             0.8888888888888888,
             "#fdca26"
            ],
            [
             1,
             "#f0f921"
            ]
           ]
          },
          "colorway": [
           "#636efa",
           "#EF553B",
           "#00cc96",
           "#ab63fa",
           "#FFA15A",
           "#19d3f3",
           "#FF6692",
           "#B6E880",
           "#FF97FF",
           "#FECB52"
          ],
          "font": {
           "color": "#2a3f5f"
          },
          "geo": {
           "bgcolor": "white",
           "lakecolor": "white",
           "landcolor": "#E5ECF6",
           "showlakes": true,
           "showland": true,
           "subunitcolor": "white"
          },
          "hoverlabel": {
           "align": "left"
          },
          "hovermode": "closest",
          "mapbox": {
           "style": "light"
          },
          "paper_bgcolor": "white",
          "plot_bgcolor": "#E5ECF6",
          "polar": {
           "angularaxis": {
            "gridcolor": "white",
            "linecolor": "white",
            "ticks": ""
           },
           "bgcolor": "#E5ECF6",
           "radialaxis": {
            "gridcolor": "white",
            "linecolor": "white",
            "ticks": ""
           }
          },
          "scene": {
           "xaxis": {
            "backgroundcolor": "#E5ECF6",
            "gridcolor": "white",
            "gridwidth": 2,
            "linecolor": "white",
            "showbackground": true,
            "ticks": "",
            "zerolinecolor": "white"
           },
           "yaxis": {
            "backgroundcolor": "#E5ECF6",
            "gridcolor": "white",
            "gridwidth": 2,
            "linecolor": "white",
            "showbackground": true,
            "ticks": "",
            "zerolinecolor": "white"
           },
           "zaxis": {
            "backgroundcolor": "#E5ECF6",
            "gridcolor": "white",
            "gridwidth": 2,
            "linecolor": "white",
            "showbackground": true,
            "ticks": "",
            "zerolinecolor": "white"
           }
          },
          "shapedefaults": {
           "line": {
            "color": "#2a3f5f"
           }
          },
          "ternary": {
           "aaxis": {
            "gridcolor": "white",
            "linecolor": "white",
            "ticks": ""
           },
           "baxis": {
            "gridcolor": "white",
            "linecolor": "white",
            "ticks": ""
           },
           "bgcolor": "#E5ECF6",
           "caxis": {
            "gridcolor": "white",
            "linecolor": "white",
            "ticks": ""
           }
          },
          "title": {
           "x": 0.05
          },
          "xaxis": {
           "automargin": true,
           "gridcolor": "white",
           "linecolor": "white",
           "ticks": "",
           "title": {
            "standoff": 15
           },
           "zerolinecolor": "white",
           "zerolinewidth": 2
          },
          "yaxis": {
           "automargin": true,
           "gridcolor": "white",
           "linecolor": "white",
           "ticks": "",
           "title": {
            "standoff": 15
           },
           "zerolinecolor": "white",
           "zerolinewidth": 2
          }
         }
        }
       }
      },
      "text/html": [
       "<div>                            <div id=\"46451086-9c2b-421b-80a9-061ced35ab11\" class=\"plotly-graph-div\" style=\"height:525px; width:100%;\"></div>            <script type=\"text/javascript\">                require([\"plotly\"], function(Plotly) {                    window.PLOTLYENV=window.PLOTLYENV || {};                                    if (document.getElementById(\"46451086-9c2b-421b-80a9-061ced35ab11\")) {                    Plotly.newPlot(                        \"46451086-9c2b-421b-80a9-061ced35ab11\",                        [{\"base\": [1, 3, 5], \"name\": \"Job 1\", \"orientation\": \"h\", \"type\": \"bar\", \"x\": [1, 1, 1], \"y\": [0, 0, 0]}, {\"base\": [1, 2, 5], \"name\": \"Job 2\", \"orientation\": \"h\", \"type\": \"bar\", \"x\": [0, 3, 1], \"y\": [1, 1, 1]}],                        {\"template\": {\"data\": {\"bar\": [{\"error_x\": {\"color\": \"#2a3f5f\"}, \"error_y\": {\"color\": \"#2a3f5f\"}, \"marker\": {\"line\": {\"color\": \"#E5ECF6\", \"width\": 0.5}}, \"type\": \"bar\"}], \"barpolar\": [{\"marker\": {\"line\": {\"color\": \"#E5ECF6\", \"width\": 0.5}}, \"type\": \"barpolar\"}], \"carpet\": [{\"aaxis\": {\"endlinecolor\": \"#2a3f5f\", \"gridcolor\": \"white\", \"linecolor\": \"white\", \"minorgridcolor\": \"white\", \"startlinecolor\": \"#2a3f5f\"}, \"baxis\": {\"endlinecolor\": \"#2a3f5f\", \"gridcolor\": \"white\", \"linecolor\": \"white\", \"minorgridcolor\": \"white\", \"startlinecolor\": \"#2a3f5f\"}, \"type\": \"carpet\"}], \"choropleth\": [{\"colorbar\": {\"outlinewidth\": 0, \"ticks\": \"\"}, \"type\": \"choropleth\"}], \"contour\": [{\"colorbar\": {\"outlinewidth\": 0, \"ticks\": \"\"}, \"colorscale\": [[0.0, \"#0d0887\"], [0.1111111111111111, \"#46039f\"], [0.2222222222222222, \"#7201a8\"], [0.3333333333333333, \"#9c179e\"], [0.4444444444444444, \"#bd3786\"], [0.5555555555555556, \"#d8576b\"], [0.6666666666666666, \"#ed7953\"], [0.7777777777777778, \"#fb9f3a\"], [0.8888888888888888, \"#fdca26\"], [1.0, \"#f0f921\"]], \"type\": \"contour\"}], \"contourcarpet\": [{\"colorbar\": {\"outlinewidth\": 0, \"ticks\": \"\"}, \"type\": \"contourcarpet\"}], \"heatmap\": [{\"colorbar\": {\"outlinewidth\": 0, \"ticks\": \"\"}, \"colorscale\": [[0.0, \"#0d0887\"], [0.1111111111111111, \"#46039f\"], [0.2222222222222222, \"#7201a8\"], [0.3333333333333333, \"#9c179e\"], [0.4444444444444444, \"#bd3786\"], [0.5555555555555556, \"#d8576b\"], [0.6666666666666666, \"#ed7953\"], [0.7777777777777778, \"#fb9f3a\"], [0.8888888888888888, \"#fdca26\"], [1.0, \"#f0f921\"]], \"type\": \"heatmap\"}], \"heatmapgl\": [{\"colorbar\": {\"outlinewidth\": 0, \"ticks\": \"\"}, \"colorscale\": [[0.0, \"#0d0887\"], [0.1111111111111111, \"#46039f\"], [0.2222222222222222, \"#7201a8\"], [0.3333333333333333, \"#9c179e\"], [0.4444444444444444, \"#bd3786\"], [0.5555555555555556, \"#d8576b\"], [0.6666666666666666, \"#ed7953\"], [0.7777777777777778, \"#fb9f3a\"], [0.8888888888888888, \"#fdca26\"], [1.0, \"#f0f921\"]], \"type\": \"heatmapgl\"}], \"histogram\": [{\"marker\": {\"colorbar\": {\"outlinewidth\": 0, \"ticks\": \"\"}}, \"type\": \"histogram\"}], \"histogram2d\": [{\"colorbar\": {\"outlinewidth\": 0, \"ticks\": \"\"}, \"colorscale\": [[0.0, \"#0d0887\"], [0.1111111111111111, \"#46039f\"], [0.2222222222222222, \"#7201a8\"], [0.3333333333333333, \"#9c179e\"], [0.4444444444444444, \"#bd3786\"], [0.5555555555555556, \"#d8576b\"], [0.6666666666666666, \"#ed7953\"], [0.7777777777777778, \"#fb9f3a\"], [0.8888888888888888, \"#fdca26\"], [1.0, \"#f0f921\"]], \"type\": \"histogram2d\"}], \"histogram2dcontour\": [{\"colorbar\": {\"outlinewidth\": 0, \"ticks\": \"\"}, \"colorscale\": [[0.0, \"#0d0887\"], [0.1111111111111111, \"#46039f\"], [0.2222222222222222, \"#7201a8\"], [0.3333333333333333, \"#9c179e\"], [0.4444444444444444, \"#bd3786\"], [0.5555555555555556, \"#d8576b\"], [0.6666666666666666, \"#ed7953\"], [0.7777777777777778, \"#fb9f3a\"], [0.8888888888888888, \"#fdca26\"], [1.0, \"#f0f921\"]], \"type\": \"histogram2dcontour\"}], \"mesh3d\": [{\"colorbar\": {\"outlinewidth\": 0, \"ticks\": \"\"}, \"type\": \"mesh3d\"}], \"parcoords\": [{\"line\": {\"colorbar\": {\"outlinewidth\": 0, \"ticks\": \"\"}}, \"type\": \"parcoords\"}], \"pie\": [{\"automargin\": true, \"type\": \"pie\"}], \"scatter\": [{\"marker\": {\"colorbar\": {\"outlinewidth\": 0, \"ticks\": \"\"}}, \"type\": \"scatter\"}], \"scatter3d\": [{\"line\": {\"colorbar\": {\"outlinewidth\": 0, \"ticks\": \"\"}}, \"marker\": {\"colorbar\": {\"outlinewidth\": 0, \"ticks\": \"\"}}, \"type\": \"scatter3d\"}], \"scattercarpet\": [{\"marker\": {\"colorbar\": {\"outlinewidth\": 0, \"ticks\": \"\"}}, \"type\": \"scattercarpet\"}], \"scattergeo\": [{\"marker\": {\"colorbar\": {\"outlinewidth\": 0, \"ticks\": \"\"}}, \"type\": \"scattergeo\"}], \"scattergl\": [{\"marker\": {\"colorbar\": {\"outlinewidth\": 0, \"ticks\": \"\"}}, \"type\": \"scattergl\"}], \"scattermapbox\": [{\"marker\": {\"colorbar\": {\"outlinewidth\": 0, \"ticks\": \"\"}}, \"type\": \"scattermapbox\"}], \"scatterpolar\": [{\"marker\": {\"colorbar\": {\"outlinewidth\": 0, \"ticks\": \"\"}}, \"type\": \"scatterpolar\"}], \"scatterpolargl\": [{\"marker\": {\"colorbar\": {\"outlinewidth\": 0, \"ticks\": \"\"}}, \"type\": \"scatterpolargl\"}], \"scatterternary\": [{\"marker\": {\"colorbar\": {\"outlinewidth\": 0, \"ticks\": \"\"}}, \"type\": \"scatterternary\"}], \"surface\": [{\"colorbar\": {\"outlinewidth\": 0, \"ticks\": \"\"}, \"colorscale\": [[0.0, \"#0d0887\"], [0.1111111111111111, \"#46039f\"], [0.2222222222222222, \"#7201a8\"], [0.3333333333333333, \"#9c179e\"], [0.4444444444444444, \"#bd3786\"], [0.5555555555555556, \"#d8576b\"], [0.6666666666666666, \"#ed7953\"], [0.7777777777777778, \"#fb9f3a\"], [0.8888888888888888, \"#fdca26\"], [1.0, \"#f0f921\"]], \"type\": \"surface\"}], \"table\": [{\"cells\": {\"fill\": {\"color\": \"#EBF0F8\"}, \"line\": {\"color\": \"white\"}}, \"header\": {\"fill\": {\"color\": \"#C8D4E3\"}, \"line\": {\"color\": \"white\"}}, \"type\": \"table\"}]}, \"layout\": {\"annotationdefaults\": {\"arrowcolor\": \"#2a3f5f\", \"arrowhead\": 0, \"arrowwidth\": 1}, \"coloraxis\": {\"colorbar\": {\"outlinewidth\": 0, \"ticks\": \"\"}}, \"colorscale\": {\"diverging\": [[0, \"#8e0152\"], [0.1, \"#c51b7d\"], [0.2, \"#de77ae\"], [0.3, \"#f1b6da\"], [0.4, \"#fde0ef\"], [0.5, \"#f7f7f7\"], [0.6, \"#e6f5d0\"], [0.7, \"#b8e186\"], [0.8, \"#7fbc41\"], [0.9, \"#4d9221\"], [1, \"#276419\"]], \"sequential\": [[0.0, \"#0d0887\"], [0.1111111111111111, \"#46039f\"], [0.2222222222222222, \"#7201a8\"], [0.3333333333333333, \"#9c179e\"], [0.4444444444444444, \"#bd3786\"], [0.5555555555555556, \"#d8576b\"], [0.6666666666666666, \"#ed7953\"], [0.7777777777777778, \"#fb9f3a\"], [0.8888888888888888, \"#fdca26\"], [1.0, \"#f0f921\"]], \"sequentialminus\": [[0.0, \"#0d0887\"], [0.1111111111111111, \"#46039f\"], [0.2222222222222222, \"#7201a8\"], [0.3333333333333333, \"#9c179e\"], [0.4444444444444444, \"#bd3786\"], [0.5555555555555556, \"#d8576b\"], [0.6666666666666666, \"#ed7953\"], [0.7777777777777778, \"#fb9f3a\"], [0.8888888888888888, \"#fdca26\"], [1.0, \"#f0f921\"]]}, \"colorway\": [\"#636efa\", \"#EF553B\", \"#00cc96\", \"#ab63fa\", \"#FFA15A\", \"#19d3f3\", \"#FF6692\", \"#B6E880\", \"#FF97FF\", \"#FECB52\"], \"font\": {\"color\": \"#2a3f5f\"}, \"geo\": {\"bgcolor\": \"white\", \"lakecolor\": \"white\", \"landcolor\": \"#E5ECF6\", \"showlakes\": true, \"showland\": true, \"subunitcolor\": \"white\"}, \"hoverlabel\": {\"align\": \"left\"}, \"hovermode\": \"closest\", \"mapbox\": {\"style\": \"light\"}, \"paper_bgcolor\": \"white\", \"plot_bgcolor\": \"#E5ECF6\", \"polar\": {\"angularaxis\": {\"gridcolor\": \"white\", \"linecolor\": \"white\", \"ticks\": \"\"}, \"bgcolor\": \"#E5ECF6\", \"radialaxis\": {\"gridcolor\": \"white\", \"linecolor\": \"white\", \"ticks\": \"\"}}, \"scene\": {\"xaxis\": {\"backgroundcolor\": \"#E5ECF6\", \"gridcolor\": \"white\", \"gridwidth\": 2, \"linecolor\": \"white\", \"showbackground\": true, \"ticks\": \"\", \"zerolinecolor\": \"white\"}, \"yaxis\": {\"backgroundcolor\": \"#E5ECF6\", \"gridcolor\": \"white\", \"gridwidth\": 2, \"linecolor\": \"white\", \"showbackground\": true, \"ticks\": \"\", \"zerolinecolor\": \"white\"}, \"zaxis\": {\"backgroundcolor\": \"#E5ECF6\", \"gridcolor\": \"white\", \"gridwidth\": 2, \"linecolor\": \"white\", \"showbackground\": true, \"ticks\": \"\", \"zerolinecolor\": \"white\"}}, \"shapedefaults\": {\"line\": {\"color\": \"#2a3f5f\"}}, \"ternary\": {\"aaxis\": {\"gridcolor\": \"white\", \"linecolor\": \"white\", \"ticks\": \"\"}, \"baxis\": {\"gridcolor\": \"white\", \"linecolor\": \"white\", \"ticks\": \"\"}, \"bgcolor\": \"#E5ECF6\", \"caxis\": {\"gridcolor\": \"white\", \"linecolor\": \"white\", \"ticks\": \"\"}}, \"title\": {\"x\": 0.05}, \"xaxis\": {\"automargin\": true, \"gridcolor\": \"white\", \"linecolor\": \"white\", \"ticks\": \"\", \"title\": {\"standoff\": 15}, \"zerolinecolor\": \"white\", \"zerolinewidth\": 2}, \"yaxis\": {\"automargin\": true, \"gridcolor\": \"white\", \"linecolor\": \"white\", \"ticks\": \"\", \"title\": {\"standoff\": 15}, \"zerolinecolor\": \"white\", \"zerolinewidth\": 2}}}},                        {\"responsive\": true}                    ).then(function(){\n",
       "                            \n",
       "var gd = document.getElementById('46451086-9c2b-421b-80a9-061ced35ab11');\n",
       "var x = new MutationObserver(function (mutations, observer) {{\n",
       "        var display = window.getComputedStyle(gd).display;\n",
       "        if (!display || display === 'none') {{\n",
       "            console.log([gd, 'removed!']);\n",
       "            Plotly.purge(gd);\n",
       "            observer.disconnect();\n",
       "        }}\n",
       "}});\n",
       "\n",
       "// Listen for the removal of the full notebook cells\n",
       "var notebookContainer = gd.closest('#notebook-container');\n",
       "if (notebookContainer) {{\n",
       "    x.observe(notebookContainer, {childList: true});\n",
       "}}\n",
       "\n",
       "// Listen for the clearing of the current output cell\n",
       "var outputEl = gd.closest('.output');\n",
       "if (outputEl) {{\n",
       "    x.observe(outputEl, {childList: true});\n",
       "}}\n",
       "\n",
       "                        })                };                });            </script>        </div>"
      ]
     },
     "metadata": {},
     "output_type": "display_data"
    },
    {
     "data": {
      "application/javascript": [
       "\n",
       "            setTimeout(function() {\n",
       "                var nbb_cell_id = 8;\n",
       "                var nbb_unformatted_code = \"animals = [\\\"giraffes\\\", \\\"orangutans\\\", \\\"monkeys\\\"]\\n\\nfig = go.Figure(\\n    data=[\\n        go.Bar(name=\\\"Job 1\\\", x=[1, 1, 1], y=[0, 0, 0], base=[1, 3, 5], orientation=\\\"h\\\"),\\n        go.Bar(name=\\\"Job 2\\\", x=[0, 3, 1], y=[1, 1, 1], base=[1, 2, 5], orientation=\\\"h\\\"),\\n    ]\\n)\\n# Change the bar mode\\nfig.show()\";\n",
       "                var nbb_formatted_code = \"animals = [\\\"giraffes\\\", \\\"orangutans\\\", \\\"monkeys\\\"]\\n\\nfig = go.Figure(\\n    data=[\\n        go.Bar(name=\\\"Job 1\\\", x=[1, 1, 1], y=[0, 0, 0], base=[1, 3, 5], orientation=\\\"h\\\"),\\n        go.Bar(name=\\\"Job 2\\\", x=[0, 3, 1], y=[1, 1, 1], base=[1, 2, 5], orientation=\\\"h\\\"),\\n    ]\\n)\\n# Change the bar mode\\nfig.show()\";\n",
       "                var nbb_cells = Jupyter.notebook.get_cells();\n",
       "                for (var i = 0; i < nbb_cells.length; ++i) {\n",
       "                    if (nbb_cells[i].input_prompt_number == nbb_cell_id) {\n",
       "                        if (nbb_cells[i].get_text() == nbb_unformatted_code) {\n",
       "                             nbb_cells[i].set_text(nbb_formatted_code);\n",
       "                        }\n",
       "                        break;\n",
       "                    }\n",
       "                }\n",
       "            }, 500);\n",
       "            "
      ],
      "text/plain": [
       "<IPython.core.display.Javascript object>"
      ]
     },
     "metadata": {},
     "output_type": "display_data"
    }
   ],
   "source": [
    "animals = [\"giraffes\", \"orangutans\", \"monkeys\"]\n",
    "\n",
    "fig = go.Figure(\n",
    "    data=[\n",
    "        go.Bar(name=\"Job 1\", x=[1, 1, 1], y=[0, 0, 0], base=[1, 3, 5], orientation=\"h\"),\n",
    "        go.Bar(name=\"Job 2\", x=[0, 3, 1], y=[1, 1, 1], base=[1, 2, 5], orientation=\"h\"),\n",
    "    ]\n",
    ")\n",
    "# Change the bar mode\n",
    "fig.show()"
   ]
  },
  {
   "cell_type": "code",
   "execution_count": 9,
   "metadata": {},
   "outputs": [
    {
     "name": "stdout",
     "output_type": "stream",
     "text": [
      "Table Data: \n",
      " [{'Task': 0, 'Worst Case': 3, 'Period': 8, 'Invocation-1': 2, 'Invocation-2': 1}, {'Task': 1, 'Worst Case': 3, 'Period': 10, 'Invocation-1': 1, 'Invocation-2': 1}, {'Task': 2, 'Worst Case': 1, 'Period': 14, 'Invocation-1': 1, 'Invocation-2': 1}]\n",
      "Table Columns: \n",
      " [{'name': 'Task', 'id': 'Task', 'type': 'numeric'}, {'name': 'Worst Case', 'id': 'Worst Case', 'type': 'numeric'}, {'name': 'Period', 'id': 'Period', 'type': 'numeric'}, {'name': 'Invocation-1', 'id': 'Invocation-1', 'type': 'numeric'}, {'name': 'Invocation-2', 'id': 'Invocation-2', 'type': 'numeric'}]\n"
     ]
    },
    {
     "data": {
      "application/javascript": [
       "\n",
       "            setTimeout(function() {\n",
       "                var nbb_cell_id = 9;\n",
       "                var nbb_unformatted_code = \"from typing import Union\\n# Create mock dataset for testing\\n# Mock Inputs (refer to slides - it follows the same format as the data given there)\\n# Start from task 0 though ;) \\ntask_1 = [0, 3, 8, 2, 1]\\ntask_2 = [1, 3, 10, 1, 1]\\ntask_3 = [2, 1, 14, 1, 1]\\ntasks = [task_1, task_2, task_3]\\n\\n# Dash table outputs its property \\\"data\\\" for every row, where key is the column, and value is the value\\n# Left spaces in the names since they are used for the column names in Dash Table\\ntask_template = [\\\"Task\\\", \\\"Worst Case\\\", \\\"Period\\\", \\\"Invocation-1\\\", \\\"Invocation-2\\\"]\\n\\ntable_data = []\\n\\nfor task in tasks:\\n    task_tup = tuple(zip(task_template, task))\\n    task_dict = {key: val for key, val in task_tup}\\n    table_data.append(task_dict)\\n    \\n# Dash table outputs its property \\\"column\\\" for every column name, where key is the column_id, and value is the value\\n# Sadly we need to iterate over the \\\"data\\\" property to get the Invocation values\\ntable_col = [{key: key} for key in task_template]\\n\\ndef generate_init_data() -> Union[list, list]:\\n\\n    task_1 = [0, 3, 8, 2, 1]\\n    task_2 = [1, 3, 10, 1, 1]\\n    task_3 = [2, 1, 14, 1, 1]\\n    tasks = [task_1, task_2, task_3]\\n\\n    task_template = [\\\"Task\\\", \\\"Worst Case\\\", \\\"Period\\\", \\\"Invocation-1\\\", \\\"Invocation-2\\\"]\\n\\n    table_data = []\\n\\n    for task in tasks:\\n        task_tup = tuple(zip(task_template, task))\\n        task_dict = {key: val for key, val in task_tup}\\n        table_data.append(task_dict)\\n    table_col = [{\\\"name\\\": val, \\\"id\\\": val, 'type': 'numeric',} for val in task_template]\\n    return table_data, table_col\\n\\n# Dash table outputs its property \\\"column\\\" for every column name, where key is the column_id, and value is the value\\n# Sadly we need to iterate over the \\\"data\\\" property to get the Invocation values\\ntable_col = [{\\\"name\\\": val, \\\"id\\\": val, 'type': 'numeric'} for val in task_template]\\nprint(\\\"Table Data: \\\\n\\\", table_data)\\nprint(\\\"Table Columns: \\\\n\\\", table_col)\";\n",
       "                var nbb_formatted_code = \"from typing import Union\\n\\n# Create mock dataset for testing\\n# Mock Inputs (refer to slides - it follows the same format as the data given there)\\n# Start from task 0 though ;)\\ntask_1 = [0, 3, 8, 2, 1]\\ntask_2 = [1, 3, 10, 1, 1]\\ntask_3 = [2, 1, 14, 1, 1]\\ntasks = [task_1, task_2, task_3]\\n\\n# Dash table outputs its property \\\"data\\\" for every row, where key is the column, and value is the value\\n# Left spaces in the names since they are used for the column names in Dash Table\\ntask_template = [\\\"Task\\\", \\\"Worst Case\\\", \\\"Period\\\", \\\"Invocation-1\\\", \\\"Invocation-2\\\"]\\n\\ntable_data = []\\n\\nfor task in tasks:\\n    task_tup = tuple(zip(task_template, task))\\n    task_dict = {key: val for key, val in task_tup}\\n    table_data.append(task_dict)\\n\\n# Dash table outputs its property \\\"column\\\" for every column name, where key is the column_id, and value is the value\\n# Sadly we need to iterate over the \\\"data\\\" property to get the Invocation values\\ntable_col = [{key: key} for key in task_template]\\n\\n\\ndef generate_init_data() -> Union[list, list]:\\n\\n    task_1 = [0, 3, 8, 2, 1]\\n    task_2 = [1, 3, 10, 1, 1]\\n    task_3 = [2, 1, 14, 1, 1]\\n    tasks = [task_1, task_2, task_3]\\n\\n    task_template = [\\\"Task\\\", \\\"Worst Case\\\", \\\"Period\\\", \\\"Invocation-1\\\", \\\"Invocation-2\\\"]\\n\\n    table_data = []\\n\\n    for task in tasks:\\n        task_tup = tuple(zip(task_template, task))\\n        task_dict = {key: val for key, val in task_tup}\\n        table_data.append(task_dict)\\n    table_col = [\\n        {\\n            \\\"name\\\": val,\\n            \\\"id\\\": val,\\n            \\\"type\\\": \\\"numeric\\\",\\n        }\\n        for val in task_template\\n    ]\\n    return table_data, table_col\\n\\n\\n# Dash table outputs its property \\\"column\\\" for every column name, where key is the column_id, and value is the value\\n# Sadly we need to iterate over the \\\"data\\\" property to get the Invocation values\\ntable_col = [{\\\"name\\\": val, \\\"id\\\": val, \\\"type\\\": \\\"numeric\\\"} for val in task_template]\\nprint(\\\"Table Data: \\\\n\\\", table_data)\\nprint(\\\"Table Columns: \\\\n\\\", table_col)\";\n",
       "                var nbb_cells = Jupyter.notebook.get_cells();\n",
       "                for (var i = 0; i < nbb_cells.length; ++i) {\n",
       "                    if (nbb_cells[i].input_prompt_number == nbb_cell_id) {\n",
       "                        if (nbb_cells[i].get_text() == nbb_unformatted_code) {\n",
       "                             nbb_cells[i].set_text(nbb_formatted_code);\n",
       "                        }\n",
       "                        break;\n",
       "                    }\n",
       "                }\n",
       "            }, 500);\n",
       "            "
      ],
      "text/plain": [
       "<IPython.core.display.Javascript object>"
      ]
     },
     "metadata": {},
     "output_type": "display_data"
    }
   ],
   "source": [
    "from typing import Union\n",
    "# Create mock dataset for testing\n",
    "# Mock Inputs (refer to slides - it follows the same format as the data given there)\n",
    "# Start from task 0 though ;) \n",
    "task_1 = [0, 3, 8, 2, 1]\n",
    "task_2 = [1, 3, 10, 1, 1]\n",
    "task_3 = [2, 1, 14, 1, 1]\n",
    "tasks = [task_1, task_2, task_3]\n",
    "\n",
    "# Dash table outputs its property \"data\" for every row, where key is the column, and value is the value\n",
    "# Left spaces in the names since they are used for the column names in Dash Table\n",
    "task_template = [\"Task\", \"Worst Case\", \"Period\", \"Invocation-1\", \"Invocation-2\"]\n",
    "\n",
    "table_data = []\n",
    "\n",
    "for task in tasks:\n",
    "    task_tup = tuple(zip(task_template, task))\n",
    "    task_dict = {key: val for key, val in task_tup}\n",
    "    table_data.append(task_dict)\n",
    "    \n",
    "# Dash table outputs its property \"column\" for every column name, where key is the column_id, and value is the value\n",
    "# Sadly we need to iterate over the \"data\" property to get the Invocation values\n",
    "table_col = [{key: key} for key in task_template]\n",
    "\n",
    "def generate_init_data() -> Union[list, list]:\n",
    "\n",
    "    task_1 = [0, 3, 8, 2, 1]\n",
    "    task_2 = [1, 3, 10, 1, 1]\n",
    "    task_3 = [2, 1, 14, 1, 1]\n",
    "    tasks = [task_1, task_2, task_3]\n",
    "\n",
    "    task_template = [\"Task\", \"Worst Case\", \"Period\", \"Invocation-1\", \"Invocation-2\"]\n",
    "\n",
    "    table_data = []\n",
    "\n",
    "    for task in tasks:\n",
    "        task_tup = tuple(zip(task_template, task))\n",
    "        task_dict = {key: val for key, val in task_tup}\n",
    "        table_data.append(task_dict)\n",
    "    table_col = [{\"name\": val, \"id\": val, 'type': 'numeric',} for val in task_template]\n",
    "    return table_data, table_col\n",
    "\n",
    "# Dash table outputs its property \"column\" for every column name, where key is the column_id, and value is the value\n",
    "# Sadly we need to iterate over the \"data\" property to get the Invocation values\n",
    "table_col = [{\"name\": val, \"id\": val, 'type': 'numeric'} for val in task_template]\n",
    "print(\"Table Data: \\n\", table_data)\n",
    "print(\"Table Columns: \\n\", table_col)\n"
   ]
  },
  {
   "cell_type": "code",
   "execution_count": 10,
   "metadata": {},
   "outputs": [
    {
     "name": "stdout",
     "output_type": "stream",
     "text": [
      "df_params: \n",
      "    Task  Worst Case  Period  Invocation-1  Invocation-2\n",
      "0     0           3       8             2             1\n",
      "1     1           3      10             1             1\n",
      "2     2           1      14             1             1\n",
      "df_invoc: \n",
      "    Invocation-1  Invocation-2\n",
      "0             2             1\n",
      "1             1             1\n",
      "2             1             1\n"
     ]
    },
    {
     "data": {
      "application/javascript": [
       "\n",
       "            setTimeout(function() {\n",
       "                var nbb_cell_id = 10;\n",
       "                var nbb_unformatted_code = \"# Data parsing to get inputs we need for our algorithim\\ndf_params = pd.DataFrame(table_data)\\n\\n# Invocations to list\\ndf_invoc = df_params.filter(regex=\\\"Invocation\\\")\\ntask_invoc = [df_invoc[col].tolist() for col in df_invoc.columns]\\nprint(\\\"df_params: \\\\n\\\", df_params)\\nprint(\\\"df_invoc: \\\\n\\\", df_invoc)\";\n",
       "                var nbb_formatted_code = \"# Data parsing to get inputs we need for our algorithim\\ndf_params = pd.DataFrame(table_data)\\n\\n# Invocations to list\\ndf_invoc = df_params.filter(regex=\\\"Invocation\\\")\\ntask_invoc = [df_invoc[col].tolist() for col in df_invoc.columns]\\nprint(\\\"df_params: \\\\n\\\", df_params)\\nprint(\\\"df_invoc: \\\\n\\\", df_invoc)\";\n",
       "                var nbb_cells = Jupyter.notebook.get_cells();\n",
       "                for (var i = 0; i < nbb_cells.length; ++i) {\n",
       "                    if (nbb_cells[i].input_prompt_number == nbb_cell_id) {\n",
       "                        if (nbb_cells[i].get_text() == nbb_unformatted_code) {\n",
       "                             nbb_cells[i].set_text(nbb_formatted_code);\n",
       "                        }\n",
       "                        break;\n",
       "                    }\n",
       "                }\n",
       "            }, 500);\n",
       "            "
      ],
      "text/plain": [
       "<IPython.core.display.Javascript object>"
      ]
     },
     "metadata": {},
     "output_type": "display_data"
    }
   ],
   "source": [
    "# Data parsing to get inputs we need for our algorithim\n",
    "df_params = pd.DataFrame(table_data)\n",
    "\n",
    "# Invocations to list\n",
    "df_invoc = df_params.filter(regex=\"Invocation\")\n",
    "task_invoc = [df_invoc[col].tolist() for col in df_invoc.columns]\n",
    "print(\"df_params: \\n\", df_params)\n",
    "print(\"df_invoc: \\n\", df_invoc)"
   ]
  },
  {
   "cell_type": "code",
   "execution_count": 11,
   "metadata": {},
   "outputs": [
    {
     "name": "stdout",
     "output_type": "stream",
     "text": [
      "start time: >>> [0, 2.679425837320574, 4.288621239619425, 8, 10, 14]\n",
      "end time: >>> [2.679425837320574, 4.288621239619425, 6.661502595551628, 9.830065359477125, 12.014388489208633, 17.373493975903614]\n"
     ]
    },
    {
     "data": {
      "application/javascript": [
       "\n",
       "            setTimeout(function() {\n",
       "                var nbb_cell_id = 11;\n",
       "                var nbb_unformatted_code = \"import pandas as pd\\n\\n# Stop at missed deadline\\ndef edf_algo(df_params: pd.DataFrame, fm_all=False, fm_val=1) -> list:\\n    deadline = False\\n    curr_period = 0\\n    start_time = []\\n    end_time = []\\n\\n    # Get lists from Pandas (way easier than converting Table Data mess)\\n    # There is probably a better way to do this...\\n    task_id = df_params[\\\"Task\\\"].tolist()\\n    task_state = df_params[\\\"Worst Case\\\"].tolist()\\n    task_wc = df_params[\\\"Worst Case\\\"].tolist()\\n    task_period = df_params[\\\"Period\\\"].tolist()\\n\\n    # Plotly data templating\\n    plot_data = []\\n    hovertemplate = (\\n        \\\"<b>Start:</b> %{base:.2f}s<br>\\\"\\n        + \\\"<b>Finish:</b> %{x:.2f}s<br>\\\"\\n        + \\\"<b>%{text}</b>\\\"\\n    )\\n\\n    for task in task_id:\\n        fig = {\\n            \\\"name\\\": \\\"Task-{}\\\".format(task),\\n            \\\"x\\\": [],\\n            \\\"y\\\": [],\\n            \\\"base\\\": [],\\n            \\\"text\\\": [],\\n            \\\"type\\\": \\\"bar\\\",\\n            \\\"orientation\\\": \\\"h\\\",\\n            \\\"hovertemplate\\\": hovertemplate,\\n        }\\n        plot_data.append(fig)\\n\\n    # Get a list of invocations\\n    df_invoc = df_params.filter(regex=\\\"Invocation\\\")\\n    task_invoc = [df_invoc[col].tolist() for col in df_invoc.columns]\\n\\n    for inv_num, invocation in enumerate(task_invoc, start=1):\\n        for task_num in range(len(task_state)):\\n            # If at start of algo\\n            if inv_num == 1 and task_num == 0:\\n                t_start = 0\\n            # If waiting till next period\\n            elif inv_num is not 1 and start_time[-1] < (\\n                curr_period * task_period[task_num]\\n            ):\\n                t_start = curr_period * task_period[task_num]\\n            # Else make last end time start time (sequential)\\n            else:\\n                t_start = end_time[-1]\\n\\n            start_time.append(t_start)\\n\\n            # Set running task T as worst case\\n            task_state[task_num] = task_wc[task_num]\\n\\n            # Calculate utility\\n            util = [\\n                task_state[idx] / task_period[idx] for idx in range(len(task_state))\\n            ]\\n            util = sum(util) * fm_val\\n\\n            # Round to other util if enabled\\n            if fm_all:\\n                if util < 0.5:\\n                    util = 0.5\\n                elif util < 0.75:\\n                    util = 0.75\\n\\n            # Set task state to invocation number\\n            task_state[task_num] = invocation[task_num]\\n\\n            # Calculate t\\n            t = invocation[task_num] / util\\n\\n            # If waiting till next period\\n            if inv_num is not 1 and start_time[-1] < (\\n                curr_period * task_period[task_num]\\n            ):\\n                t_end = curr_period * task_period[task_num] + t\\n            #                 end_time.append(t_end)\\n            else:\\n                t_end = t + start_time[-1]\\n\\n            end_time.append(t_end)\\n\\n            # Append data to plotly figures\\n            fig = plot_data[task_num]\\n\\n            task_number = task_id[task_num]\\n            fig[\\\"x\\\"].append(t_end - t_start)\\n            fig[\\\"y\\\"].append(\\\"Task-{}\\\".format(task_number))\\n            fig[\\\"text\\\"].append(\\\"Frequency (Fm={}): {:.3f}\\\".format(fm_val, util))\\n            fig[\\\"base\\\"].append(t_start)\\n\\n            # Hacky way to check if we past the deadline (the two breaks irk me :()\\n            if t > (inv_num * task_period[task_num]):\\n                deadline = True\\n                print(\\\"Calculated deadline >>> \\\", t)\\n                print(\\\"Period >>> {}\\\".format(inv_num * task_period[task_num]))\\n                break\\n\\n        if deadline:\\n            break\\n        curr_period = +1\\n\\n    print(\\\"start time: >>>\\\", start_time)\\n    print(\\\"end time: >>>\\\", end_time)\\n    plot_data = [go.Bar(fig) for fig in plot_data]\\n    return plot_data\\n\\n\\ndata = edf_algo(df_params)\";\n",
       "                var nbb_formatted_code = \"import pandas as pd\\n\\n# Stop at missed deadline\\ndef edf_algo(df_params: pd.DataFrame, fm_all=False, fm_val=1) -> list:\\n    deadline = False\\n    curr_period = 0\\n    start_time = []\\n    end_time = []\\n\\n    # Get lists from Pandas (way easier than converting Table Data mess)\\n    # There is probably a better way to do this...\\n    task_id = df_params[\\\"Task\\\"].tolist()\\n    task_state = df_params[\\\"Worst Case\\\"].tolist()\\n    task_wc = df_params[\\\"Worst Case\\\"].tolist()\\n    task_period = df_params[\\\"Period\\\"].tolist()\\n\\n    # Plotly data templating\\n    plot_data = []\\n    hovertemplate = (\\n        \\\"<b>Start:</b> %{base:.2f}s<br>\\\"\\n        + \\\"<b>Finish:</b> %{x:.2f}s<br>\\\"\\n        + \\\"<b>%{text}</b>\\\"\\n    )\\n\\n    for task in task_id:\\n        fig = {\\n            \\\"name\\\": \\\"Task-{}\\\".format(task),\\n            \\\"x\\\": [],\\n            \\\"y\\\": [],\\n            \\\"base\\\": [],\\n            \\\"text\\\": [],\\n            \\\"type\\\": \\\"bar\\\",\\n            \\\"orientation\\\": \\\"h\\\",\\n            \\\"hovertemplate\\\": hovertemplate,\\n        }\\n        plot_data.append(fig)\\n\\n    # Get a list of invocations\\n    df_invoc = df_params.filter(regex=\\\"Invocation\\\")\\n    task_invoc = [df_invoc[col].tolist() for col in df_invoc.columns]\\n\\n    for inv_num, invocation in enumerate(task_invoc, start=1):\\n        for task_num in range(len(task_state)):\\n            # If at start of algo\\n            if inv_num == 1 and task_num == 0:\\n                t_start = 0\\n            # If waiting till next period\\n            elif inv_num is not 1 and start_time[-1] < (\\n                curr_period * task_period[task_num]\\n            ):\\n                t_start = curr_period * task_period[task_num]\\n            # Else make last end time start time (sequential)\\n            else:\\n                t_start = end_time[-1]\\n\\n            start_time.append(t_start)\\n\\n            # Set running task T as worst case\\n            task_state[task_num] = task_wc[task_num]\\n\\n            # Calculate utility\\n            util = [\\n                task_state[idx] / task_period[idx] for idx in range(len(task_state))\\n            ]\\n            util = sum(util) * fm_val\\n\\n            # Round to other util if enabled\\n            if fm_all:\\n                if util < 0.5:\\n                    util = 0.5\\n                elif util < 0.75:\\n                    util = 0.75\\n\\n            # Set task state to invocation number\\n            task_state[task_num] = invocation[task_num]\\n\\n            # Calculate t\\n            t = invocation[task_num] / util\\n\\n            # If waiting till next period\\n            if inv_num is not 1 and start_time[-1] < (\\n                curr_period * task_period[task_num]\\n            ):\\n                t_end = curr_period * task_period[task_num] + t\\n            #                 end_time.append(t_end)\\n            else:\\n                t_end = t + start_time[-1]\\n\\n            end_time.append(t_end)\\n\\n            # Append data to plotly figures\\n            fig = plot_data[task_num]\\n\\n            task_number = task_id[task_num]\\n            fig[\\\"x\\\"].append(t_end - t_start)\\n            fig[\\\"y\\\"].append(\\\"Task-{}\\\".format(task_number))\\n            fig[\\\"text\\\"].append(\\\"Frequency (Fm={}): {:.3f}\\\".format(fm_val, util))\\n            fig[\\\"base\\\"].append(t_start)\\n\\n            # Hacky way to check if we past the deadline (the two breaks irk me :()\\n            if t > (inv_num * task_period[task_num]):\\n                deadline = True\\n                print(\\\"Calculated deadline >>> \\\", t)\\n                print(\\\"Period >>> {}\\\".format(inv_num * task_period[task_num]))\\n                break\\n\\n        if deadline:\\n            break\\n        curr_period = +1\\n\\n    print(\\\"start time: >>>\\\", start_time)\\n    print(\\\"end time: >>>\\\", end_time)\\n    plot_data = [go.Bar(fig) for fig in plot_data]\\n    return plot_data\\n\\n\\ndata = edf_algo(df_params)\";\n",
       "                var nbb_cells = Jupyter.notebook.get_cells();\n",
       "                for (var i = 0; i < nbb_cells.length; ++i) {\n",
       "                    if (nbb_cells[i].input_prompt_number == nbb_cell_id) {\n",
       "                        if (nbb_cells[i].get_text() == nbb_unformatted_code) {\n",
       "                             nbb_cells[i].set_text(nbb_formatted_code);\n",
       "                        }\n",
       "                        break;\n",
       "                    }\n",
       "                }\n",
       "            }, 500);\n",
       "            "
      ],
      "text/plain": [
       "<IPython.core.display.Javascript object>"
      ]
     },
     "metadata": {},
     "output_type": "display_data"
    }
   ],
   "source": [
    "import pandas as pd\n",
    "\n",
    "# Stop at missed deadline\n",
    "def edf_algo(df_params: pd.DataFrame, fm_all=False, fm_val=1) -> list:\n",
    "    deadline = False\n",
    "    curr_period = 0\n",
    "    start_time = []\n",
    "    end_time = []\n",
    "\n",
    "    # Get lists from Pandas (way easier than converting Table Data mess)\n",
    "    # There is probably a better way to do this...\n",
    "    task_id = df_params[\"Task\"].tolist()\n",
    "    task_state = df_params[\"Worst Case\"].tolist()\n",
    "    task_wc = df_params[\"Worst Case\"].tolist()\n",
    "    task_period = df_params[\"Period\"].tolist()\n",
    "\n",
    "    # Plotly data templating\n",
    "    plot_data = []\n",
    "    hovertemplate = (\n",
    "        \"<b>Start:</b> %{base:.2f}s<br>\"\n",
    "        + \"<b>Finish:</b> %{x:.2f}s<br>\"\n",
    "        + \"<b>%{text}</b>\"\n",
    "    )\n",
    "\n",
    "    for task in task_id:\n",
    "        fig = {\n",
    "            \"name\": \"Task-{}\".format(task),\n",
    "            \"x\": [],\n",
    "            \"y\": [],\n",
    "            \"base\": [],\n",
    "            \"text\": [],\n",
    "            \"type\": \"bar\",\n",
    "            \"orientation\": \"h\",\n",
    "            \"hovertemplate\": hovertemplate,\n",
    "        }\n",
    "        plot_data.append(fig)\n",
    "\n",
    "    # Get a list of invocations\n",
    "    df_invoc = df_params.filter(regex=\"Invocation\")\n",
    "    task_invoc = [df_invoc[col].tolist() for col in df_invoc.columns]\n",
    "\n",
    "    for inv_num, invocation in enumerate(task_invoc, start=1):\n",
    "        for task_num in range(len(task_state)):\n",
    "            # If at start of algo\n",
    "            if inv_num == 1 and task_num == 0:\n",
    "                t_start = 0\n",
    "            # If waiting till next period\n",
    "            elif inv_num is not 1 and start_time[-1] < (\n",
    "                curr_period * task_period[task_num]\n",
    "            ):\n",
    "                t_start = curr_period * task_period[task_num]\n",
    "            # Else make last end time start time (sequential)\n",
    "            else:\n",
    "                t_start = end_time[-1]\n",
    "\n",
    "            start_time.append(t_start)\n",
    "\n",
    "            # Set running task T as worst case\n",
    "            task_state[task_num] = task_wc[task_num]\n",
    "\n",
    "            # Calculate utility\n",
    "            util = [\n",
    "                task_state[idx] / task_period[idx] for idx in range(len(task_state))\n",
    "            ]\n",
    "            util = sum(util) * fm_val\n",
    "\n",
    "            # Round to other util if enabled\n",
    "            if fm_all:\n",
    "                if util < 0.5:\n",
    "                    util = 0.5\n",
    "                elif util < 0.75:\n",
    "                    util = 0.75\n",
    "\n",
    "            # Set task state to invocation number\n",
    "            task_state[task_num] = invocation[task_num]\n",
    "\n",
    "            # Calculate t\n",
    "            t = invocation[task_num] / util\n",
    "\n",
    "            # If waiting till next period\n",
    "            if inv_num is not 1 and start_time[-1] < (\n",
    "                curr_period * task_period[task_num]\n",
    "            ):\n",
    "                t_end = curr_period * task_period[task_num] + t\n",
    "            #                 end_time.append(t_end)\n",
    "            else:\n",
    "                t_end = t + start_time[-1]\n",
    "\n",
    "            end_time.append(t_end)\n",
    "\n",
    "            # Append data to plotly figures\n",
    "            fig = plot_data[task_num]\n",
    "\n",
    "            task_number = task_id[task_num]\n",
    "            fig[\"x\"].append(t_end - t_start)\n",
    "            fig[\"y\"].append(\"Task-{}\".format(task_number))\n",
    "            fig[\"text\"].append(\"Frequency (Fm={}): {:.3f}\".format(fm_val, util))\n",
    "            fig[\"base\"].append(t_start)\n",
    "\n",
    "            # Hacky way to check if we past the deadline (the two breaks irk me :()\n",
    "            if t > (inv_num * task_period[task_num]):\n",
    "                deadline = True\n",
    "                print(\"Calculated deadline >>> \", t)\n",
    "                print(\"Period >>> {}\".format(inv_num * task_period[task_num]))\n",
    "                break\n",
    "\n",
    "        if deadline:\n",
    "            break\n",
    "        curr_period = +1\n",
    "\n",
    "    print(\"start time: >>>\", start_time)\n",
    "    print(\"end time: >>>\", end_time)\n",
    "    plot_data = [go.Bar(fig) for fig in plot_data]\n",
    "    return plot_data\n",
    "\n",
    "\n",
    "data = edf_algo(df_params)"
   ]
  },
  {
   "cell_type": "code",
   "execution_count": 12,
   "metadata": {},
   "outputs": [
    {
     "data": {
      "application/vnd.plotly.v1+json": {
       "config": {
        "plotlyServerURL": "https://plot.ly"
       },
       "data": [
        {
         "base": [
          0,
          8
         ],
         "hovertemplate": "<b>Start:</b> %{base:.2f}s<br><b>Finish:</b> %{x:.2f}s<br><b>%{text}</b>",
         "name": "Task-0",
         "orientation": "h",
         "text": [
          "Frequency (Fm=1): 0.746",
          "Frequency (Fm=1): 0.546"
         ],
         "type": "bar",
         "x": [
          2.679425837320574,
          1.8300653594771248
         ],
         "y": [
          "Task-0",
          "Task-0"
         ]
        },
        {
         "base": [
          2.679425837320574,
          10
         ],
         "hovertemplate": "<b>Start:</b> %{base:.2f}s<br><b>Finish:</b> %{x:.2f}s<br><b>%{text}</b>",
         "name": "Task-1",
         "orientation": "h",
         "text": [
          "Frequency (Fm=1): 0.621",
          "Frequency (Fm=1): 0.496"
         ],
         "type": "bar",
         "x": [
          1.6091954022988508,
          2.014388489208633
         ],
         "y": [
          "Task-1",
          "Task-1"
         ]
        },
        {
         "base": [
          4.288621239619425,
          14
         ],
         "hovertemplate": "<b>Start:</b> %{base:.2f}s<br><b>Finish:</b> %{x:.2f}s<br><b>%{text}</b>",
         "name": "Task-2",
         "orientation": "h",
         "text": [
          "Frequency (Fm=1): 0.421",
          "Frequency (Fm=1): 0.296"
         ],
         "type": "bar",
         "x": [
          2.3728813559322033,
          3.3734939759036138
         ],
         "y": [
          "Task-2",
          "Task-2"
         ]
        }
       ],
       "layout": {
        "template": {
         "data": {
          "bar": [
           {
            "error_x": {
             "color": "#2a3f5f"
            },
            "error_y": {
             "color": "#2a3f5f"
            },
            "marker": {
             "line": {
              "color": "#E5ECF6",
              "width": 0.5
             }
            },
            "type": "bar"
           }
          ],
          "barpolar": [
           {
            "marker": {
             "line": {
              "color": "#E5ECF6",
              "width": 0.5
             }
            },
            "type": "barpolar"
           }
          ],
          "carpet": [
           {
            "aaxis": {
             "endlinecolor": "#2a3f5f",
             "gridcolor": "white",
             "linecolor": "white",
             "minorgridcolor": "white",
             "startlinecolor": "#2a3f5f"
            },
            "baxis": {
             "endlinecolor": "#2a3f5f",
             "gridcolor": "white",
             "linecolor": "white",
             "minorgridcolor": "white",
             "startlinecolor": "#2a3f5f"
            },
            "type": "carpet"
           }
          ],
          "choropleth": [
           {
            "colorbar": {
             "outlinewidth": 0,
             "ticks": ""
            },
            "type": "choropleth"
           }
          ],
          "contour": [
           {
            "colorbar": {
             "outlinewidth": 0,
             "ticks": ""
            },
            "colorscale": [
             [
              0,
              "#0d0887"
             ],
             [
              0.1111111111111111,
              "#46039f"
             ],
             [
              0.2222222222222222,
              "#7201a8"
             ],
             [
              0.3333333333333333,
              "#9c179e"
             ],
             [
              0.4444444444444444,
              "#bd3786"
             ],
             [
              0.5555555555555556,
              "#d8576b"
             ],
             [
              0.6666666666666666,
              "#ed7953"
             ],
             [
              0.7777777777777778,
              "#fb9f3a"
             ],
             [
              0.8888888888888888,
              "#fdca26"
             ],
             [
              1,
              "#f0f921"
             ]
            ],
            "type": "contour"
           }
          ],
          "contourcarpet": [
           {
            "colorbar": {
             "outlinewidth": 0,
             "ticks": ""
            },
            "type": "contourcarpet"
           }
          ],
          "heatmap": [
           {
            "colorbar": {
             "outlinewidth": 0,
             "ticks": ""
            },
            "colorscale": [
             [
              0,
              "#0d0887"
             ],
             [
              0.1111111111111111,
              "#46039f"
             ],
             [
              0.2222222222222222,
              "#7201a8"
             ],
             [
              0.3333333333333333,
              "#9c179e"
             ],
             [
              0.4444444444444444,
              "#bd3786"
             ],
             [
              0.5555555555555556,
              "#d8576b"
             ],
             [
              0.6666666666666666,
              "#ed7953"
             ],
             [
              0.7777777777777778,
              "#fb9f3a"
             ],
             [
              0.8888888888888888,
              "#fdca26"
             ],
             [
              1,
              "#f0f921"
             ]
            ],
            "type": "heatmap"
           }
          ],
          "heatmapgl": [
           {
            "colorbar": {
             "outlinewidth": 0,
             "ticks": ""
            },
            "colorscale": [
             [
              0,
              "#0d0887"
             ],
             [
              0.1111111111111111,
              "#46039f"
             ],
             [
              0.2222222222222222,
              "#7201a8"
             ],
             [
              0.3333333333333333,
              "#9c179e"
             ],
             [
              0.4444444444444444,
              "#bd3786"
             ],
             [
              0.5555555555555556,
              "#d8576b"
             ],
             [
              0.6666666666666666,
              "#ed7953"
             ],
             [
              0.7777777777777778,
              "#fb9f3a"
             ],
             [
              0.8888888888888888,
              "#fdca26"
             ],
             [
              1,
              "#f0f921"
             ]
            ],
            "type": "heatmapgl"
           }
          ],
          "histogram": [
           {
            "marker": {
             "colorbar": {
              "outlinewidth": 0,
              "ticks": ""
             }
            },
            "type": "histogram"
           }
          ],
          "histogram2d": [
           {
            "colorbar": {
             "outlinewidth": 0,
             "ticks": ""
            },
            "colorscale": [
             [
              0,
              "#0d0887"
             ],
             [
              0.1111111111111111,
              "#46039f"
             ],
             [
              0.2222222222222222,
              "#7201a8"
             ],
             [
              0.3333333333333333,
              "#9c179e"
             ],
             [
              0.4444444444444444,
              "#bd3786"
             ],
             [
              0.5555555555555556,
              "#d8576b"
             ],
             [
              0.6666666666666666,
              "#ed7953"
             ],
             [
              0.7777777777777778,
              "#fb9f3a"
             ],
             [
              0.8888888888888888,
              "#fdca26"
             ],
             [
              1,
              "#f0f921"
             ]
            ],
            "type": "histogram2d"
           }
          ],
          "histogram2dcontour": [
           {
            "colorbar": {
             "outlinewidth": 0,
             "ticks": ""
            },
            "colorscale": [
             [
              0,
              "#0d0887"
             ],
             [
              0.1111111111111111,
              "#46039f"
             ],
             [
              0.2222222222222222,
              "#7201a8"
             ],
             [
              0.3333333333333333,
              "#9c179e"
             ],
             [
              0.4444444444444444,
              "#bd3786"
             ],
             [
              0.5555555555555556,
              "#d8576b"
             ],
             [
              0.6666666666666666,
              "#ed7953"
             ],
             [
              0.7777777777777778,
              "#fb9f3a"
             ],
             [
              0.8888888888888888,
              "#fdca26"
             ],
             [
              1,
              "#f0f921"
             ]
            ],
            "type": "histogram2dcontour"
           }
          ],
          "mesh3d": [
           {
            "colorbar": {
             "outlinewidth": 0,
             "ticks": ""
            },
            "type": "mesh3d"
           }
          ],
          "parcoords": [
           {
            "line": {
             "colorbar": {
              "outlinewidth": 0,
              "ticks": ""
             }
            },
            "type": "parcoords"
           }
          ],
          "pie": [
           {
            "automargin": true,
            "type": "pie"
           }
          ],
          "scatter": [
           {
            "marker": {
             "colorbar": {
              "outlinewidth": 0,
              "ticks": ""
             }
            },
            "type": "scatter"
           }
          ],
          "scatter3d": [
           {
            "line": {
             "colorbar": {
              "outlinewidth": 0,
              "ticks": ""
             }
            },
            "marker": {
             "colorbar": {
              "outlinewidth": 0,
              "ticks": ""
             }
            },
            "type": "scatter3d"
           }
          ],
          "scattercarpet": [
           {
            "marker": {
             "colorbar": {
              "outlinewidth": 0,
              "ticks": ""
             }
            },
            "type": "scattercarpet"
           }
          ],
          "scattergeo": [
           {
            "marker": {
             "colorbar": {
              "outlinewidth": 0,
              "ticks": ""
             }
            },
            "type": "scattergeo"
           }
          ],
          "scattergl": [
           {
            "marker": {
             "colorbar": {
              "outlinewidth": 0,
              "ticks": ""
             }
            },
            "type": "scattergl"
           }
          ],
          "scattermapbox": [
           {
            "marker": {
             "colorbar": {
              "outlinewidth": 0,
              "ticks": ""
             }
            },
            "type": "scattermapbox"
           }
          ],
          "scatterpolar": [
           {
            "marker": {
             "colorbar": {
              "outlinewidth": 0,
              "ticks": ""
             }
            },
            "type": "scatterpolar"
           }
          ],
          "scatterpolargl": [
           {
            "marker": {
             "colorbar": {
              "outlinewidth": 0,
              "ticks": ""
             }
            },
            "type": "scatterpolargl"
           }
          ],
          "scatterternary": [
           {
            "marker": {
             "colorbar": {
              "outlinewidth": 0,
              "ticks": ""
             }
            },
            "type": "scatterternary"
           }
          ],
          "surface": [
           {
            "colorbar": {
             "outlinewidth": 0,
             "ticks": ""
            },
            "colorscale": [
             [
              0,
              "#0d0887"
             ],
             [
              0.1111111111111111,
              "#46039f"
             ],
             [
              0.2222222222222222,
              "#7201a8"
             ],
             [
              0.3333333333333333,
              "#9c179e"
             ],
             [
              0.4444444444444444,
              "#bd3786"
             ],
             [
              0.5555555555555556,
              "#d8576b"
             ],
             [
              0.6666666666666666,
              "#ed7953"
             ],
             [
              0.7777777777777778,
              "#fb9f3a"
             ],
             [
              0.8888888888888888,
              "#fdca26"
             ],
             [
              1,
              "#f0f921"
             ]
            ],
            "type": "surface"
           }
          ],
          "table": [
           {
            "cells": {
             "fill": {
              "color": "#EBF0F8"
             },
             "line": {
              "color": "white"
             }
            },
            "header": {
             "fill": {
              "color": "#C8D4E3"
             },
             "line": {
              "color": "white"
             }
            },
            "type": "table"
           }
          ]
         },
         "layout": {
          "annotationdefaults": {
           "arrowcolor": "#2a3f5f",
           "arrowhead": 0,
           "arrowwidth": 1
          },
          "coloraxis": {
           "colorbar": {
            "outlinewidth": 0,
            "ticks": ""
           }
          },
          "colorscale": {
           "diverging": [
            [
             0,
             "#8e0152"
            ],
            [
             0.1,
             "#c51b7d"
            ],
            [
             0.2,
             "#de77ae"
            ],
            [
             0.3,
             "#f1b6da"
            ],
            [
             0.4,
             "#fde0ef"
            ],
            [
             0.5,
             "#f7f7f7"
            ],
            [
             0.6,
             "#e6f5d0"
            ],
            [
             0.7,
             "#b8e186"
            ],
            [
             0.8,
             "#7fbc41"
            ],
            [
             0.9,
             "#4d9221"
            ],
            [
             1,
             "#276419"
            ]
           ],
           "sequential": [
            [
             0,
             "#0d0887"
            ],
            [
             0.1111111111111111,
             "#46039f"
            ],
            [
             0.2222222222222222,
             "#7201a8"
            ],
            [
             0.3333333333333333,
             "#9c179e"
            ],
            [
             0.4444444444444444,
             "#bd3786"
            ],
            [
             0.5555555555555556,
             "#d8576b"
            ],
            [
             0.6666666666666666,
             "#ed7953"
            ],
            [
             0.7777777777777778,
             "#fb9f3a"
            ],
            [
             0.8888888888888888,
             "#fdca26"
            ],
            [
             1,
             "#f0f921"
            ]
           ],
           "sequentialminus": [
            [
             0,
             "#0d0887"
            ],
            [
             0.1111111111111111,
             "#46039f"
            ],
            [
             0.2222222222222222,
             "#7201a8"
            ],
            [
             0.3333333333333333,
             "#9c179e"
            ],
            [
             0.4444444444444444,
             "#bd3786"
            ],
            [
             0.5555555555555556,
             "#d8576b"
            ],
            [
             0.6666666666666666,
             "#ed7953"
            ],
            [
             0.7777777777777778,
             "#fb9f3a"
            ],
            [
             0.8888888888888888,
             "#fdca26"
            ],
            [
             1,
             "#f0f921"
            ]
           ]
          },
          "colorway": [
           "#636efa",
           "#EF553B",
           "#00cc96",
           "#ab63fa",
           "#FFA15A",
           "#19d3f3",
           "#FF6692",
           "#B6E880",
           "#FF97FF",
           "#FECB52"
          ],
          "font": {
           "color": "#2a3f5f"
          },
          "geo": {
           "bgcolor": "white",
           "lakecolor": "white",
           "landcolor": "#E5ECF6",
           "showlakes": true,
           "showland": true,
           "subunitcolor": "white"
          },
          "hoverlabel": {
           "align": "left"
          },
          "hovermode": "closest",
          "mapbox": {
           "style": "light"
          },
          "paper_bgcolor": "white",
          "plot_bgcolor": "#E5ECF6",
          "polar": {
           "angularaxis": {
            "gridcolor": "white",
            "linecolor": "white",
            "ticks": ""
           },
           "bgcolor": "#E5ECF6",
           "radialaxis": {
            "gridcolor": "white",
            "linecolor": "white",
            "ticks": ""
           }
          },
          "scene": {
           "xaxis": {
            "backgroundcolor": "#E5ECF6",
            "gridcolor": "white",
            "gridwidth": 2,
            "linecolor": "white",
            "showbackground": true,
            "ticks": "",
            "zerolinecolor": "white"
           },
           "yaxis": {
            "backgroundcolor": "#E5ECF6",
            "gridcolor": "white",
            "gridwidth": 2,
            "linecolor": "white",
            "showbackground": true,
            "ticks": "",
            "zerolinecolor": "white"
           },
           "zaxis": {
            "backgroundcolor": "#E5ECF6",
            "gridcolor": "white",
            "gridwidth": 2,
            "linecolor": "white",
            "showbackground": true,
            "ticks": "",
            "zerolinecolor": "white"
           }
          },
          "shapedefaults": {
           "line": {
            "color": "#2a3f5f"
           }
          },
          "ternary": {
           "aaxis": {
            "gridcolor": "white",
            "linecolor": "white",
            "ticks": ""
           },
           "baxis": {
            "gridcolor": "white",
            "linecolor": "white",
            "ticks": ""
           },
           "bgcolor": "#E5ECF6",
           "caxis": {
            "gridcolor": "white",
            "linecolor": "white",
            "ticks": ""
           }
          },
          "title": {
           "x": 0.05
          },
          "xaxis": {
           "automargin": true,
           "gridcolor": "white",
           "linecolor": "white",
           "ticks": "",
           "title": {
            "standoff": 15
           },
           "zerolinecolor": "white",
           "zerolinewidth": 2
          },
          "yaxis": {
           "automargin": true,
           "gridcolor": "white",
           "linecolor": "white",
           "ticks": "",
           "title": {
            "standoff": 15
           },
           "zerolinecolor": "white",
           "zerolinewidth": 2
          }
         }
        },
        "title": {
         "text": "EDF Graph"
        },
        "xaxis": {
         "title": {
          "text": "Time (s)"
         }
        },
        "yaxis": {
         "title": {
          "text": "Task"
         }
        }
       }
      },
      "text/html": [
       "<div>                            <div id=\"9d3cb575-396a-4b8d-bbd2-19dd4a870c4a\" class=\"plotly-graph-div\" style=\"height:525px; width:100%;\"></div>            <script type=\"text/javascript\">                require([\"plotly\"], function(Plotly) {                    window.PLOTLYENV=window.PLOTLYENV || {};                                    if (document.getElementById(\"9d3cb575-396a-4b8d-bbd2-19dd4a870c4a\")) {                    Plotly.newPlot(                        \"9d3cb575-396a-4b8d-bbd2-19dd4a870c4a\",                        [{\"base\": [0, 8], \"hovertemplate\": \"<b>Start:</b> %{base:.2f}s<br><b>Finish:</b> %{x:.2f}s<br><b>%{text}</b>\", \"name\": \"Task-0\", \"orientation\": \"h\", \"text\": [\"Frequency (Fm=1): 0.746\", \"Frequency (Fm=1): 0.546\"], \"type\": \"bar\", \"x\": [2.679425837320574, 1.8300653594771248], \"y\": [\"Task-0\", \"Task-0\"]}, {\"base\": [2.679425837320574, 10], \"hovertemplate\": \"<b>Start:</b> %{base:.2f}s<br><b>Finish:</b> %{x:.2f}s<br><b>%{text}</b>\", \"name\": \"Task-1\", \"orientation\": \"h\", \"text\": [\"Frequency (Fm=1): 0.621\", \"Frequency (Fm=1): 0.496\"], \"type\": \"bar\", \"x\": [1.6091954022988508, 2.014388489208633], \"y\": [\"Task-1\", \"Task-1\"]}, {\"base\": [4.288621239619425, 14], \"hovertemplate\": \"<b>Start:</b> %{base:.2f}s<br><b>Finish:</b> %{x:.2f}s<br><b>%{text}</b>\", \"name\": \"Task-2\", \"orientation\": \"h\", \"text\": [\"Frequency (Fm=1): 0.421\", \"Frequency (Fm=1): 0.296\"], \"type\": \"bar\", \"x\": [2.3728813559322033, 3.3734939759036138], \"y\": [\"Task-2\", \"Task-2\"]}],                        {\"template\": {\"data\": {\"bar\": [{\"error_x\": {\"color\": \"#2a3f5f\"}, \"error_y\": {\"color\": \"#2a3f5f\"}, \"marker\": {\"line\": {\"color\": \"#E5ECF6\", \"width\": 0.5}}, \"type\": \"bar\"}], \"barpolar\": [{\"marker\": {\"line\": {\"color\": \"#E5ECF6\", \"width\": 0.5}}, \"type\": \"barpolar\"}], \"carpet\": [{\"aaxis\": {\"endlinecolor\": \"#2a3f5f\", \"gridcolor\": \"white\", \"linecolor\": \"white\", \"minorgridcolor\": \"white\", \"startlinecolor\": \"#2a3f5f\"}, \"baxis\": {\"endlinecolor\": \"#2a3f5f\", \"gridcolor\": \"white\", \"linecolor\": \"white\", \"minorgridcolor\": \"white\", \"startlinecolor\": \"#2a3f5f\"}, \"type\": \"carpet\"}], \"choropleth\": [{\"colorbar\": {\"outlinewidth\": 0, \"ticks\": \"\"}, \"type\": \"choropleth\"}], \"contour\": [{\"colorbar\": {\"outlinewidth\": 0, \"ticks\": \"\"}, \"colorscale\": [[0.0, \"#0d0887\"], [0.1111111111111111, \"#46039f\"], [0.2222222222222222, \"#7201a8\"], [0.3333333333333333, \"#9c179e\"], [0.4444444444444444, \"#bd3786\"], [0.5555555555555556, \"#d8576b\"], [0.6666666666666666, \"#ed7953\"], [0.7777777777777778, \"#fb9f3a\"], [0.8888888888888888, \"#fdca26\"], [1.0, \"#f0f921\"]], \"type\": \"contour\"}], \"contourcarpet\": [{\"colorbar\": {\"outlinewidth\": 0, \"ticks\": \"\"}, \"type\": \"contourcarpet\"}], \"heatmap\": [{\"colorbar\": {\"outlinewidth\": 0, \"ticks\": \"\"}, \"colorscale\": [[0.0, \"#0d0887\"], [0.1111111111111111, \"#46039f\"], [0.2222222222222222, \"#7201a8\"], [0.3333333333333333, \"#9c179e\"], [0.4444444444444444, \"#bd3786\"], [0.5555555555555556, \"#d8576b\"], [0.6666666666666666, \"#ed7953\"], [0.7777777777777778, \"#fb9f3a\"], [0.8888888888888888, \"#fdca26\"], [1.0, \"#f0f921\"]], \"type\": \"heatmap\"}], \"heatmapgl\": [{\"colorbar\": {\"outlinewidth\": 0, \"ticks\": \"\"}, \"colorscale\": [[0.0, \"#0d0887\"], [0.1111111111111111, \"#46039f\"], [0.2222222222222222, \"#7201a8\"], [0.3333333333333333, \"#9c179e\"], [0.4444444444444444, \"#bd3786\"], [0.5555555555555556, \"#d8576b\"], [0.6666666666666666, \"#ed7953\"], [0.7777777777777778, \"#fb9f3a\"], [0.8888888888888888, \"#fdca26\"], [1.0, \"#f0f921\"]], \"type\": \"heatmapgl\"}], \"histogram\": [{\"marker\": {\"colorbar\": {\"outlinewidth\": 0, \"ticks\": \"\"}}, \"type\": \"histogram\"}], \"histogram2d\": [{\"colorbar\": {\"outlinewidth\": 0, \"ticks\": \"\"}, \"colorscale\": [[0.0, \"#0d0887\"], [0.1111111111111111, \"#46039f\"], [0.2222222222222222, \"#7201a8\"], [0.3333333333333333, \"#9c179e\"], [0.4444444444444444, \"#bd3786\"], [0.5555555555555556, \"#d8576b\"], [0.6666666666666666, \"#ed7953\"], [0.7777777777777778, \"#fb9f3a\"], [0.8888888888888888, \"#fdca26\"], [1.0, \"#f0f921\"]], \"type\": \"histogram2d\"}], \"histogram2dcontour\": [{\"colorbar\": {\"outlinewidth\": 0, \"ticks\": \"\"}, \"colorscale\": [[0.0, \"#0d0887\"], [0.1111111111111111, \"#46039f\"], [0.2222222222222222, \"#7201a8\"], [0.3333333333333333, \"#9c179e\"], [0.4444444444444444, \"#bd3786\"], [0.5555555555555556, \"#d8576b\"], [0.6666666666666666, \"#ed7953\"], [0.7777777777777778, \"#fb9f3a\"], [0.8888888888888888, \"#fdca26\"], [1.0, \"#f0f921\"]], \"type\": \"histogram2dcontour\"}], \"mesh3d\": [{\"colorbar\": {\"outlinewidth\": 0, \"ticks\": \"\"}, \"type\": \"mesh3d\"}], \"parcoords\": [{\"line\": {\"colorbar\": {\"outlinewidth\": 0, \"ticks\": \"\"}}, \"type\": \"parcoords\"}], \"pie\": [{\"automargin\": true, \"type\": \"pie\"}], \"scatter\": [{\"marker\": {\"colorbar\": {\"outlinewidth\": 0, \"ticks\": \"\"}}, \"type\": \"scatter\"}], \"scatter3d\": [{\"line\": {\"colorbar\": {\"outlinewidth\": 0, \"ticks\": \"\"}}, \"marker\": {\"colorbar\": {\"outlinewidth\": 0, \"ticks\": \"\"}}, \"type\": \"scatter3d\"}], \"scattercarpet\": [{\"marker\": {\"colorbar\": {\"outlinewidth\": 0, \"ticks\": \"\"}}, \"type\": \"scattercarpet\"}], \"scattergeo\": [{\"marker\": {\"colorbar\": {\"outlinewidth\": 0, \"ticks\": \"\"}}, \"type\": \"scattergeo\"}], \"scattergl\": [{\"marker\": {\"colorbar\": {\"outlinewidth\": 0, \"ticks\": \"\"}}, \"type\": \"scattergl\"}], \"scattermapbox\": [{\"marker\": {\"colorbar\": {\"outlinewidth\": 0, \"ticks\": \"\"}}, \"type\": \"scattermapbox\"}], \"scatterpolar\": [{\"marker\": {\"colorbar\": {\"outlinewidth\": 0, \"ticks\": \"\"}}, \"type\": \"scatterpolar\"}], \"scatterpolargl\": [{\"marker\": {\"colorbar\": {\"outlinewidth\": 0, \"ticks\": \"\"}}, \"type\": \"scatterpolargl\"}], \"scatterternary\": [{\"marker\": {\"colorbar\": {\"outlinewidth\": 0, \"ticks\": \"\"}}, \"type\": \"scatterternary\"}], \"surface\": [{\"colorbar\": {\"outlinewidth\": 0, \"ticks\": \"\"}, \"colorscale\": [[0.0, \"#0d0887\"], [0.1111111111111111, \"#46039f\"], [0.2222222222222222, \"#7201a8\"], [0.3333333333333333, \"#9c179e\"], [0.4444444444444444, \"#bd3786\"], [0.5555555555555556, \"#d8576b\"], [0.6666666666666666, \"#ed7953\"], [0.7777777777777778, \"#fb9f3a\"], [0.8888888888888888, \"#fdca26\"], [1.0, \"#f0f921\"]], \"type\": \"surface\"}], \"table\": [{\"cells\": {\"fill\": {\"color\": \"#EBF0F8\"}, \"line\": {\"color\": \"white\"}}, \"header\": {\"fill\": {\"color\": \"#C8D4E3\"}, \"line\": {\"color\": \"white\"}}, \"type\": \"table\"}]}, \"layout\": {\"annotationdefaults\": {\"arrowcolor\": \"#2a3f5f\", \"arrowhead\": 0, \"arrowwidth\": 1}, \"coloraxis\": {\"colorbar\": {\"outlinewidth\": 0, \"ticks\": \"\"}}, \"colorscale\": {\"diverging\": [[0, \"#8e0152\"], [0.1, \"#c51b7d\"], [0.2, \"#de77ae\"], [0.3, \"#f1b6da\"], [0.4, \"#fde0ef\"], [0.5, \"#f7f7f7\"], [0.6, \"#e6f5d0\"], [0.7, \"#b8e186\"], [0.8, \"#7fbc41\"], [0.9, \"#4d9221\"], [1, \"#276419\"]], \"sequential\": [[0.0, \"#0d0887\"], [0.1111111111111111, \"#46039f\"], [0.2222222222222222, \"#7201a8\"], [0.3333333333333333, \"#9c179e\"], [0.4444444444444444, \"#bd3786\"], [0.5555555555555556, \"#d8576b\"], [0.6666666666666666, \"#ed7953\"], [0.7777777777777778, \"#fb9f3a\"], [0.8888888888888888, \"#fdca26\"], [1.0, \"#f0f921\"]], \"sequentialminus\": [[0.0, \"#0d0887\"], [0.1111111111111111, \"#46039f\"], [0.2222222222222222, \"#7201a8\"], [0.3333333333333333, \"#9c179e\"], [0.4444444444444444, \"#bd3786\"], [0.5555555555555556, \"#d8576b\"], [0.6666666666666666, \"#ed7953\"], [0.7777777777777778, \"#fb9f3a\"], [0.8888888888888888, \"#fdca26\"], [1.0, \"#f0f921\"]]}, \"colorway\": [\"#636efa\", \"#EF553B\", \"#00cc96\", \"#ab63fa\", \"#FFA15A\", \"#19d3f3\", \"#FF6692\", \"#B6E880\", \"#FF97FF\", \"#FECB52\"], \"font\": {\"color\": \"#2a3f5f\"}, \"geo\": {\"bgcolor\": \"white\", \"lakecolor\": \"white\", \"landcolor\": \"#E5ECF6\", \"showlakes\": true, \"showland\": true, \"subunitcolor\": \"white\"}, \"hoverlabel\": {\"align\": \"left\"}, \"hovermode\": \"closest\", \"mapbox\": {\"style\": \"light\"}, \"paper_bgcolor\": \"white\", \"plot_bgcolor\": \"#E5ECF6\", \"polar\": {\"angularaxis\": {\"gridcolor\": \"white\", \"linecolor\": \"white\", \"ticks\": \"\"}, \"bgcolor\": \"#E5ECF6\", \"radialaxis\": {\"gridcolor\": \"white\", \"linecolor\": \"white\", \"ticks\": \"\"}}, \"scene\": {\"xaxis\": {\"backgroundcolor\": \"#E5ECF6\", \"gridcolor\": \"white\", \"gridwidth\": 2, \"linecolor\": \"white\", \"showbackground\": true, \"ticks\": \"\", \"zerolinecolor\": \"white\"}, \"yaxis\": {\"backgroundcolor\": \"#E5ECF6\", \"gridcolor\": \"white\", \"gridwidth\": 2, \"linecolor\": \"white\", \"showbackground\": true, \"ticks\": \"\", \"zerolinecolor\": \"white\"}, \"zaxis\": {\"backgroundcolor\": \"#E5ECF6\", \"gridcolor\": \"white\", \"gridwidth\": 2, \"linecolor\": \"white\", \"showbackground\": true, \"ticks\": \"\", \"zerolinecolor\": \"white\"}}, \"shapedefaults\": {\"line\": {\"color\": \"#2a3f5f\"}}, \"ternary\": {\"aaxis\": {\"gridcolor\": \"white\", \"linecolor\": \"white\", \"ticks\": \"\"}, \"baxis\": {\"gridcolor\": \"white\", \"linecolor\": \"white\", \"ticks\": \"\"}, \"bgcolor\": \"#E5ECF6\", \"caxis\": {\"gridcolor\": \"white\", \"linecolor\": \"white\", \"ticks\": \"\"}}, \"title\": {\"x\": 0.05}, \"xaxis\": {\"automargin\": true, \"gridcolor\": \"white\", \"linecolor\": \"white\", \"ticks\": \"\", \"title\": {\"standoff\": 15}, \"zerolinecolor\": \"white\", \"zerolinewidth\": 2}, \"yaxis\": {\"automargin\": true, \"gridcolor\": \"white\", \"linecolor\": \"white\", \"ticks\": \"\", \"title\": {\"standoff\": 15}, \"zerolinecolor\": \"white\", \"zerolinewidth\": 2}}}, \"title\": {\"text\": \"EDF Graph\"}, \"xaxis\": {\"title\": {\"text\": \"Time (s)\"}}, \"yaxis\": {\"title\": {\"text\": \"Task\"}}},                        {\"responsive\": true}                    ).then(function(){\n",
       "                            \n",
       "var gd = document.getElementById('9d3cb575-396a-4b8d-bbd2-19dd4a870c4a');\n",
       "var x = new MutationObserver(function (mutations, observer) {{\n",
       "        var display = window.getComputedStyle(gd).display;\n",
       "        if (!display || display === 'none') {{\n",
       "            console.log([gd, 'removed!']);\n",
       "            Plotly.purge(gd);\n",
       "            observer.disconnect();\n",
       "        }}\n",
       "}});\n",
       "\n",
       "// Listen for the removal of the full notebook cells\n",
       "var notebookContainer = gd.closest('#notebook-container');\n",
       "if (notebookContainer) {{\n",
       "    x.observe(notebookContainer, {childList: true});\n",
       "}}\n",
       "\n",
       "// Listen for the clearing of the current output cell\n",
       "var outputEl = gd.closest('.output');\n",
       "if (outputEl) {{\n",
       "    x.observe(outputEl, {childList: true});\n",
       "}}\n",
       "\n",
       "                        })                };                });            </script>        </div>"
      ]
     },
     "metadata": {},
     "output_type": "display_data"
    },
    {
     "data": {
      "application/javascript": [
       "\n",
       "            setTimeout(function() {\n",
       "                var nbb_cell_id = 12;\n",
       "                var nbb_unformatted_code = \"# Render graph\\nfig = go.Figure(data=data)\\nfig.update_layout(\\n    title=\\\"EDF Graph\\\",\\n    xaxis_title=\\\"Time (s)\\\",\\n    yaxis_title=\\\"Task\\\",\\n)\\nfig.show()\";\n",
       "                var nbb_formatted_code = \"# Render graph\\nfig = go.Figure(data=data)\\nfig.update_layout(\\n    title=\\\"EDF Graph\\\",\\n    xaxis_title=\\\"Time (s)\\\",\\n    yaxis_title=\\\"Task\\\",\\n)\\nfig.show()\";\n",
       "                var nbb_cells = Jupyter.notebook.get_cells();\n",
       "                for (var i = 0; i < nbb_cells.length; ++i) {\n",
       "                    if (nbb_cells[i].input_prompt_number == nbb_cell_id) {\n",
       "                        if (nbb_cells[i].get_text() == nbb_unformatted_code) {\n",
       "                             nbb_cells[i].set_text(nbb_formatted_code);\n",
       "                        }\n",
       "                        break;\n",
       "                    }\n",
       "                }\n",
       "            }, 500);\n",
       "            "
      ],
      "text/plain": [
       "<IPython.core.display.Javascript object>"
      ]
     },
     "metadata": {},
     "output_type": "display_data"
    }
   ],
   "source": [
    "# Render graph\n",
    "fig = go.Figure(data=data)\n",
    "fig.update_layout(\n",
    "    title=\"EDF Graph\",\n",
    "    xaxis_title=\"Time (s)\",\n",
    "    yaxis_title=\"Task\",\n",
    ")\n",
    "fig.show()"
   ]
  },
  {
   "cell_type": "code",
   "execution_count": 13,
   "metadata": {},
   "outputs": [
    {
     "data": {
      "application/javascript": [
       "\n",
       "            setTimeout(function() {\n",
       "                var nbb_cell_id = 13;\n",
       "                var nbb_unformatted_code = \"# TODO (Algo):\\n# 1. Test with multiple frequencies\\n# 2. Test more than 2 invocations, in specific the following cases\\n# 2.a Case where invocations all end early after 1st invocation\\n# 2.b Case where invocations all start at their period (seems to work ATM)\\n# Add fm_val functionality (I think this works) - basically just need to test above\\n\\n# TODO (Dashboard) - I can help\\n# 1. Hook up multiple frequencies with callback\\n# 2. Add line indicating that we missed a deadline or print it out\\n# 3. Edge cases. User enters multiple tasks with same task number. Limiting user input to range, etc.\\n\\n# TODO: Questions?\\n# Does this algorithim run items based on task or period first?\\n# If it's period first than we need to used Pandas to reorder the dataset in ascending order based on period. Really easy :)\";\n",
       "                var nbb_formatted_code = \"# TODO (Algo):\\n# 1. Test with multiple frequencies\\n# 2. Test more than 2 invocations, in specific the following cases\\n# 2.a Case where invocations all end early after 1st invocation\\n# 2.b Case where invocations all start at their period (seems to work ATM)\\n# Add fm_val functionality (I think this works) - basically just need to test above\\n\\n# TODO (Dashboard) - I can help\\n# 1. Hook up multiple frequencies with callback\\n# 2. Add line indicating that we missed a deadline or print it out\\n# 3. Edge cases. User enters multiple tasks with same task number. Limiting user input to range, etc.\\n\\n# TODO: Questions?\\n# Does this algorithim run items based on task or period first?\\n# If it's period first than we need to used Pandas to reorder the dataset in ascending order based on period. Really easy :)\";\n",
       "                var nbb_cells = Jupyter.notebook.get_cells();\n",
       "                for (var i = 0; i < nbb_cells.length; ++i) {\n",
       "                    if (nbb_cells[i].input_prompt_number == nbb_cell_id) {\n",
       "                        if (nbb_cells[i].get_text() == nbb_unformatted_code) {\n",
       "                             nbb_cells[i].set_text(nbb_formatted_code);\n",
       "                        }\n",
       "                        break;\n",
       "                    }\n",
       "                }\n",
       "            }, 500);\n",
       "            "
      ],
      "text/plain": [
       "<IPython.core.display.Javascript object>"
      ]
     },
     "metadata": {},
     "output_type": "display_data"
    }
   ],
   "source": [
    "# TODO (Algo):\n",
    "# 1. Test with multiple frequencies\n",
    "# 2. Test more than 2 invocations, in specific the following cases\n",
    "# 2.a Case where invocations all end early after 1st invocation\n",
    "# 2.b Case where invocations all start at their period (seems to work ATM)\n",
    "# Add fm_val functionality (I think this works) - basically just need to test above\n",
    "\n",
    "# TODO (Dashboard) - I can help\n",
    "# 1. Hook up multiple frequencies with callback\n",
    "# 2. Add line indicating that we missed a deadline or print it out\n",
    "# 3. Edge cases. User enters multiple tasks with same task number. Limiting user input to range, etc.\n",
    "\n",
    "# TODO: Questions?\n",
    "# Does this algorithim run items based on task or period first?\n",
    "# If it's period first than we need to used Pandas to reorder the dataset in ascending order based on period. Really easy :)"
   ]
  },
  {
   "cell_type": "code",
   "execution_count": 14,
   "metadata": {},
   "outputs": [
    {
     "name": "stdout",
     "output_type": "stream",
     "text": [
      "[{'name': 'Task', 'id': 'Task', 'type': 'numeric'}, {'name': 'Worst Case', 'id': 'Worst Case', 'type': 'numeric'}, {'name': 'Period', 'id': 'Period', 'type': 'numeric'}, {'name': 'Invocation-1', 'id': 'Invocation-1', 'type': 'numeric'}, {'name': 'Invocation-2', 'id': 'Invocation-2', 'type': 'numeric'}]\n",
      "[{'Task': 0, 'Worst Case': 3, 'Period': 8, 'Invocation-1': 2, 'Invocation-2': 1}, {'Task': 1, 'Worst Case': 3, 'Period': 10, 'Invocation-1': 1, 'Invocation-2': 1}, {'Task': 2, 'Worst Case': 1, 'Period': 14, 'Invocation-1': 1, 'Invocation-2': 1}]\n",
      "   Task  Worst Case  Period  Invocation-1  Invocation-2\n",
      "0     0           3       8             2             1\n",
      "1     1           3      10             1             1\n",
      "2     2           1      14             1             1\n",
      "start time: >>> [0, 2.679425837320574, 4.288621239619425, 8, 10, 14]\n",
      "end time: >>> [2.679425837320574, 4.288621239619425, 6.661502595551628, 9.830065359477125, 12.014388489208633, 17.373493975903614]\n",
      "Dash app running on http://127.0.0.1:8050/\n"
     ]
    },
    {
     "data": {
      "application/javascript": [
       "\n",
       "            setTimeout(function() {\n",
       "                var nbb_cell_id = 14;\n",
       "                var nbb_unformatted_code = \"import dash_table as dt\\nimport dash_core_components as dcc\\nimport dash_html_components as html\\nfrom dash.dependencies import Input, Output, State\\nfrom dash.exceptions import PreventUpdate\\nimport pandas as pd\\nimport plotly.graph_objects as go\\nfrom jupyter_dash import JupyterDash\\n\\n\\n# Build App\\ntable_data, table_cols = generate_init_data()\\nprint(table_cols)\\napp = JupyterDash(__name__)\\napp.layout = html.Div(\\n    [\\n        # Header\\n        html.Div(\\n            [\\n                html.H1(\\\"ENGR 451 - Cycle Conserving EDF Algorithim\\\"),\\n            ]\\n        ),\\n        html.Div(\\n            [\\n                html.Div(\\n                    [\\n                        dt.DataTable(\\n                            id=\\\"fm-table\\\",\\n                            columns=table_cols,\\n                            data=table_data,\\n                            editable=True,\\n                            row_deletable=True,\\n                        )\\n                    ],\\n                    style={\\\"margin\\\": \\\"1.5% 0%\\\"},\\n                    className=\\\"row\\\",\\n                ),\\n                html.Div(\\n                    [\\n                        html.Div(\\n                            [\\n                                html.Label(\\\"Input Fm\\\"),\\n                                dcc.Input(\\n                                    id=\\\"fm-input\\\",\\n                                    type=\\\"number\\\",\\n                                    value=1,\\n                                    min=1,\\n                                    max=10,\\n                                    step=1,\\n                                    style={\\\"width\\\": \\\"100%\\\"},\\n                                ),\\n                            ],\\n                            className=\\\"two columns\\\",\\n                        ),\\n                        html.Div(\\n                            [\\n                                html.Label(\\\"Select Fm\\\"),\\n                                dcc.Dropdown(\\n                                    id=\\\"fm-dropdown\\\",\\n                                    options=[\\n                                        {\\n                                            \\\"label\\\": \\\"Fm (All Frequencies)\\\",\\n                                            \\\"value\\\": 0,\\n                                        },\\n                                        {\\n                                            \\\"label\\\": \\\"Fm, 0.75Fm, & 0.5Fm\\\",\\n                                            \\\"value\\\": 1,\\n                                        },\\n                                    ],\\n                                    value=0,\\n                                ),\\n                            ],\\n                            className=\\\"three columns\\\",\\n                        ),\\n                        html.Div(\\n                            [\\n                                html.Br(),\\n                                html.Button(\\n                                    \\\"Add Invocation\\\",\\n                                    id=\\\"invocation-button\\\",\\n                                    n_clicks=0,\\n                                    style={\\\"width\\\": \\\"100%\\\"},\\n                                ),\\n                            ],\\n                            className=\\\"three columns\\\",\\n                        ),\\n                        html.Div(\\n                            [\\n                                html.Br(),\\n                                html.Button(\\n                                    \\\"Add Task\\\",\\n                                    id=\\\"rows-button\\\",\\n                                    n_clicks=0,\\n                                    style={\\\"width\\\": \\\"100%\\\"},\\n                                ),\\n                            ],\\n                            className=\\\"two columns\\\",\\n                        ),\\n                        html.Div(\\n                            [\\n                                html.Br(),\\n                                html.Button(\\n                                    \\\"Run\\\",\\n                                    id=\\\"run-button\\\",\\n                                    style={\\\"float\\\": \\\"right\\\"},\\n                                ),\\n                            ],\\n                            className=\\\"two columns\\\",\\n                        ),\\n                    ],\\n                    style={\\\"margin\\\": \\\"1.5% 0%\\\"},\\n                    className=\\\"row\\\",\\n                ),\\n            ],\\n            className=\\\"row\\\",\\n        ),\\n        html.Div(\\n            [\\n                dcc.Graph(id=\\\"fm-graph\\\"),\\n            ],\\n        ),\\n        dcc.Store(id=\\\"invocation-store\\\", data=2),\\n    ],\\n    style={\\\"margin\\\": \\\"0% 1%\\\"},\\n)\\n\\n# Update graph with algorithim\\n@app.callback(\\n    Output(\\\"fm-graph\\\", \\\"figure\\\"),\\n    [Input(\\\"run-button\\\", \\\"n_clicks\\\")],\\n    [\\n        State(\\\"fm-table\\\", \\\"columns\\\"),\\n        State(\\\"fm-table\\\", \\\"data\\\"),\\n        State(\\\"fm-input\\\", \\\"value\\\"),\\n        State(\\\"fm-dropdown\\\", \\\"value\\\"),\\n    ],\\n)\\ndef update_figure(run_button, table_cols, table_data, fm_val, fm_all):\\n    print(table_data)\\n    df_params = pd.DataFrame(table_data)\\n    print(df_params)\\n    data = edf_algo(df_params, fm_all=fm_all, fm_val=fm_val)\\n    fig = go.Figure(data=data)\\n    fig.update_layout(\\n        title=\\\"EDF Graph\\\",\\n        xaxis_title=\\\"Time (s)\\\",\\n        yaxis_title=\\\"Task\\\",\\n    )\\n    return fig\\n\\n\\n# Add invocation table column\\n@app.callback(\\n    [\\n        Output(\\\"invocation-store\\\", \\\"data\\\"),\\n        Output(\\\"fm-table\\\", \\\"columns\\\"),\\n    ],\\n    [Input(\\\"invocation-button\\\", \\\"n_clicks\\\")],\\n    [\\n        State(\\\"fm-table\\\", \\\"columns\\\"),\\n        State(\\\"fm-table\\\", \\\"data\\\"),\\n        State(\\\"invocation-store\\\", \\\"data\\\"),\\n    ],\\n)\\ndef add_table_col(invocation_button, table_cols, table_data, invoc_num):\\n    if invocation_button > 0:\\n        invoc_num += 1\\n        invoc_name = \\\"Invocation-{}\\\".format(invoc_num)\\n        table_cols.append(\\n            {\\\"id\\\": invoc_name, \\\"name\\\": invoc_name, \\\"deletable\\\": True, \\\"type\\\": \\\"numeric\\\"}\\n        )\\n\\n    return invoc_num, table_cols\\n\\n\\n# Add rows to table\\n@app.callback(\\n    Output(\\\"fm-table\\\", \\\"data\\\"),\\n    [Input(\\\"rows-button\\\", \\\"n_clicks\\\")],\\n    [State(\\\"fm-table\\\", \\\"data\\\"), State(\\\"fm-table\\\", \\\"columns\\\")],\\n)\\ndef add_rows(rows_button, table_rows, table_cols):\\n    if rows_button > 0:\\n        table_rows.append({c[\\\"id\\\"]: \\\"\\\" for c in table_cols})\\n    return table_rows\\n\\n\\n# Run app and display result inline in the notebook\\napp.run_server(mode=\\\"external\\\")\";\n",
       "                var nbb_formatted_code = \"import dash_table as dt\\nimport dash_core_components as dcc\\nimport dash_html_components as html\\nfrom dash.dependencies import Input, Output, State\\nfrom dash.exceptions import PreventUpdate\\nimport pandas as pd\\nimport plotly.graph_objects as go\\nfrom jupyter_dash import JupyterDash\\n\\n\\n# Build App\\ntable_data, table_cols = generate_init_data()\\nprint(table_cols)\\napp = JupyterDash(__name__)\\napp.layout = html.Div(\\n    [\\n        # Header\\n        html.Div(\\n            [\\n                html.H1(\\\"ENGR 451 - Cycle Conserving EDF Algorithim\\\"),\\n            ]\\n        ),\\n        html.Div(\\n            [\\n                html.Div(\\n                    [\\n                        dt.DataTable(\\n                            id=\\\"fm-table\\\",\\n                            columns=table_cols,\\n                            data=table_data,\\n                            editable=True,\\n                            row_deletable=True,\\n                        )\\n                    ],\\n                    style={\\\"margin\\\": \\\"1.5% 0%\\\"},\\n                    className=\\\"row\\\",\\n                ),\\n                html.Div(\\n                    [\\n                        html.Div(\\n                            [\\n                                html.Label(\\\"Input Fm\\\"),\\n                                dcc.Input(\\n                                    id=\\\"fm-input\\\",\\n                                    type=\\\"number\\\",\\n                                    value=1,\\n                                    min=1,\\n                                    max=10,\\n                                    step=1,\\n                                    style={\\\"width\\\": \\\"100%\\\"},\\n                                ),\\n                            ],\\n                            className=\\\"two columns\\\",\\n                        ),\\n                        html.Div(\\n                            [\\n                                html.Label(\\\"Select Fm\\\"),\\n                                dcc.Dropdown(\\n                                    id=\\\"fm-dropdown\\\",\\n                                    options=[\\n                                        {\\n                                            \\\"label\\\": \\\"Fm (All Frequencies)\\\",\\n                                            \\\"value\\\": 0,\\n                                        },\\n                                        {\\n                                            \\\"label\\\": \\\"Fm, 0.75Fm, & 0.5Fm\\\",\\n                                            \\\"value\\\": 1,\\n                                        },\\n                                    ],\\n                                    value=0,\\n                                ),\\n                            ],\\n                            className=\\\"three columns\\\",\\n                        ),\\n                        html.Div(\\n                            [\\n                                html.Br(),\\n                                html.Button(\\n                                    \\\"Add Invocation\\\",\\n                                    id=\\\"invocation-button\\\",\\n                                    n_clicks=0,\\n                                    style={\\\"width\\\": \\\"100%\\\"},\\n                                ),\\n                            ],\\n                            className=\\\"three columns\\\",\\n                        ),\\n                        html.Div(\\n                            [\\n                                html.Br(),\\n                                html.Button(\\n                                    \\\"Add Task\\\",\\n                                    id=\\\"rows-button\\\",\\n                                    n_clicks=0,\\n                                    style={\\\"width\\\": \\\"100%\\\"},\\n                                ),\\n                            ],\\n                            className=\\\"two columns\\\",\\n                        ),\\n                        html.Div(\\n                            [\\n                                html.Br(),\\n                                html.Button(\\n                                    \\\"Run\\\",\\n                                    id=\\\"run-button\\\",\\n                                    style={\\\"float\\\": \\\"right\\\"},\\n                                ),\\n                            ],\\n                            className=\\\"two columns\\\",\\n                        ),\\n                    ],\\n                    style={\\\"margin\\\": \\\"1.5% 0%\\\"},\\n                    className=\\\"row\\\",\\n                ),\\n            ],\\n            className=\\\"row\\\",\\n        ),\\n        html.Div(\\n            [\\n                dcc.Graph(id=\\\"fm-graph\\\"),\\n            ],\\n        ),\\n        dcc.Store(id=\\\"invocation-store\\\", data=2),\\n    ],\\n    style={\\\"margin\\\": \\\"0% 1%\\\"},\\n)\\n\\n# Update graph with algorithim\\n@app.callback(\\n    Output(\\\"fm-graph\\\", \\\"figure\\\"),\\n    [Input(\\\"run-button\\\", \\\"n_clicks\\\")],\\n    [\\n        State(\\\"fm-table\\\", \\\"columns\\\"),\\n        State(\\\"fm-table\\\", \\\"data\\\"),\\n        State(\\\"fm-input\\\", \\\"value\\\"),\\n        State(\\\"fm-dropdown\\\", \\\"value\\\"),\\n    ],\\n)\\ndef update_figure(run_button, table_cols, table_data, fm_val, fm_all):\\n    print(table_data)\\n    df_params = pd.DataFrame(table_data)\\n    print(df_params)\\n    data = edf_algo(df_params, fm_all=fm_all, fm_val=fm_val)\\n    fig = go.Figure(data=data)\\n    fig.update_layout(\\n        title=\\\"EDF Graph\\\",\\n        xaxis_title=\\\"Time (s)\\\",\\n        yaxis_title=\\\"Task\\\",\\n    )\\n    return fig\\n\\n\\n# Add invocation table column\\n@app.callback(\\n    [\\n        Output(\\\"invocation-store\\\", \\\"data\\\"),\\n        Output(\\\"fm-table\\\", \\\"columns\\\"),\\n    ],\\n    [Input(\\\"invocation-button\\\", \\\"n_clicks\\\")],\\n    [\\n        State(\\\"fm-table\\\", \\\"columns\\\"),\\n        State(\\\"fm-table\\\", \\\"data\\\"),\\n        State(\\\"invocation-store\\\", \\\"data\\\"),\\n    ],\\n)\\ndef add_table_col(invocation_button, table_cols, table_data, invoc_num):\\n    if invocation_button > 0:\\n        invoc_num += 1\\n        invoc_name = \\\"Invocation-{}\\\".format(invoc_num)\\n        table_cols.append(\\n            {\\\"id\\\": invoc_name, \\\"name\\\": invoc_name, \\\"deletable\\\": True, \\\"type\\\": \\\"numeric\\\"}\\n        )\\n\\n    return invoc_num, table_cols\\n\\n\\n# Add rows to table\\n@app.callback(\\n    Output(\\\"fm-table\\\", \\\"data\\\"),\\n    [Input(\\\"rows-button\\\", \\\"n_clicks\\\")],\\n    [State(\\\"fm-table\\\", \\\"data\\\"), State(\\\"fm-table\\\", \\\"columns\\\")],\\n)\\ndef add_rows(rows_button, table_rows, table_cols):\\n    if rows_button > 0:\\n        table_rows.append({c[\\\"id\\\"]: \\\"\\\" for c in table_cols})\\n    return table_rows\\n\\n\\n# Run app and display result inline in the notebook\\napp.run_server(mode=\\\"external\\\")\";\n",
       "                var nbb_cells = Jupyter.notebook.get_cells();\n",
       "                for (var i = 0; i < nbb_cells.length; ++i) {\n",
       "                    if (nbb_cells[i].input_prompt_number == nbb_cell_id) {\n",
       "                        if (nbb_cells[i].get_text() == nbb_unformatted_code) {\n",
       "                             nbb_cells[i].set_text(nbb_formatted_code);\n",
       "                        }\n",
       "                        break;\n",
       "                    }\n",
       "                }\n",
       "            }, 500);\n",
       "            "
      ],
      "text/plain": [
       "<IPython.core.display.Javascript object>"
      ]
     },
     "metadata": {},
     "output_type": "display_data"
    },
    {
     "name": "stdout",
     "output_type": "stream",
     "text": [
      "[{'Task': 0, 'Worst Case': 3, 'Period': 8, 'Invocation-1': 2, 'Invocation-2': 1}, {'Task': 1, 'Worst Case': 3, 'Period': 10, 'Invocation-1': 1, 'Invocation-2': 1}, {'Task': 2, 'Worst Case': 1, 'Period': 14, 'Invocation-1': 1, 'Invocation-2': 1}]\n",
      "   Task  Worst Case  Period  Invocation-1  Invocation-2\n",
      "0     0           3       8             2             1\n",
      "1     1           3      10             1             1\n",
      "2     2           1      14             1             1\n",
      "start time: >>> [0, 2.6666666666666665, 4.0, 8, 10, 14]\n",
      "end time: >>> [2.6666666666666665, 4.0, 6.0, 9.333333333333334, 12.0, 16.0]\n",
      "[{'Task': 0, 'Worst Case': 3, 'Period': 8, 'Invocation-1': 2, 'Invocation-2': 1}, {'Task': 1, 'Worst Case': 3, 'Period': 10, 'Invocation-1': 1, 'Invocation-2': 1}, {'Task': 2, 'Worst Case': 1, 'Period': 14, 'Invocation-1': 1, 'Invocation-2': 1}]\n",
      "   Task  Worst Case  Period  Invocation-1  Invocation-2\n",
      "0     0           3       8             2             1\n",
      "1     1           3      10             1             1\n",
      "2     2           1      14             1             1\n",
      "start time: >>> [0, 0.8931419457735247, 1.4295404132064748, 8, 10, 14]\n",
      "end time: >>> [0.8931419457735247, 1.4295404132064748, 2.220500865183876, 8.610021786492375, 10.67146282973621, 15.124497991967871]\n",
      "[{'Task': 0, 'Worst Case': 3, 'Period': 8, 'Invocation-1': 2, 'Invocation-2': 1}, {'Task': 1, 'Worst Case': 3, 'Period': 10, 'Invocation-1': 1, 'Invocation-2': 1}, {'Task': 2, 'Worst Case': 1, 'Period': 14, 'Invocation-1': 1, 'Invocation-2': 1}, {'Task': 1, 'Worst Case': 2, 'Period': 32, 'Invocation-1': 1, 'Invocation-2': 1}]\n",
      "   Task  Worst Case  Period  Invocation-1  Invocation-2\n",
      "0     0           3       8             2             1\n",
      "1     1           3      10             1             1\n",
      "2     2           1      14             1             1\n",
      "3     1           2      32             1             1\n",
      "start time: >>> [0, 2.4724061810154523, 3.8057395143487858, 5.805739514348786, 8, 10, 14, 32]\n",
      "end time: >>> [2.4724061810154523, 3.8057395143487858, 5.805739514348786, 7.805739514348786, 9.333333333333334, 11.333333333333334, 16.0, 34.0]\n",
      "[{'Task': 0, 'Worst Case': 3, 'Period': 8, 'Invocation-1': 2, 'Invocation-2': 1, 'Invocation-3': 2}, {'Task': 1, 'Worst Case': 3, 'Period': 10, 'Invocation-1': 1, 'Invocation-2': 1, 'Invocation-3': 1}, {'Task': 2, 'Worst Case': 1, 'Period': 14, 'Invocation-1': 1, 'Invocation-2': 1, 'Invocation-3': 3}, {'Task': 1, 'Worst Case': 2, 'Period': 32, 'Invocation-1': 1, 'Invocation-2': 1, 'Invocation-3': 4}]\n",
      "   Task  Worst Case  Period  Invocation-1  Invocation-2  Invocation-3\n",
      "0     0           3       8             2             1             2\n",
      "1     1           3      10             1             1             1\n",
      "2     2           1      14             1             1             3\n",
      "3     1           2      32             1             1             4\n",
      "start time: >>> [0, 2.4724061810154523, 3.8057395143487858, 5.805739514348786, 8, 10, 14, 32, 34.0, 36.666666666666664, 38.0, 44.0]\n",
      "end time: >>> [2.4724061810154523, 3.8057395143487858, 5.805739514348786, 7.805739514348786, 9.333333333333334, 11.333333333333334, 16.0, 34.0, 36.666666666666664, 38.0, 44.0, 49.333333333333336]\n"
     ]
    }
   ],
   "source": [
    "import dash_table as dt\n",
    "import dash_core_components as dcc\n",
    "import dash_html_components as html\n",
    "from dash.dependencies import Input, Output, State\n",
    "from dash.exceptions import PreventUpdate\n",
    "import pandas as pd\n",
    "import plotly.graph_objects as go\n",
    "from jupyter_dash import JupyterDash\n",
    "\n",
    "\n",
    "# Build App\n",
    "table_data, table_cols = generate_init_data()\n",
    "print(table_cols)\n",
    "app = JupyterDash(__name__)\n",
    "app.layout = html.Div(\n",
    "    [\n",
    "        # Header\n",
    "        html.Div(\n",
    "            [\n",
    "                html.H1(\"ENGR 451 - Cycle Conserving EDF Algorithim\"),\n",
    "            ]\n",
    "        ),\n",
    "        html.Div(\n",
    "            [\n",
    "                html.Div(\n",
    "                    [\n",
    "                        dt.DataTable(\n",
    "                            id=\"fm-table\",\n",
    "                            columns=table_cols,\n",
    "                            data=table_data,\n",
    "                            editable=True,\n",
    "                            row_deletable=True,\n",
    "                        )\n",
    "                    ],\n",
    "                    style={\"margin\": \"1.5% 0%\"},\n",
    "                    className=\"row\",\n",
    "                ),\n",
    "                html.Div(\n",
    "                    [\n",
    "                        html.Div(\n",
    "                            [\n",
    "                                html.Label(\"Input Fm\"),\n",
    "                                dcc.Input(\n",
    "                                    id=\"fm-input\",\n",
    "                                    type=\"number\",\n",
    "                                    value=1,\n",
    "                                    min=1,\n",
    "                                    max=10,\n",
    "                                    step=1,\n",
    "                                    style={\"width\": \"100%\"},\n",
    "                                ),\n",
    "                            ],\n",
    "                            className=\"two columns\",\n",
    "                        ),\n",
    "                        html.Div(\n",
    "                            [\n",
    "                                html.Label(\"Select Fm\"),\n",
    "                                dcc.Dropdown(\n",
    "                                    id=\"fm-dropdown\",\n",
    "                                    options=[\n",
    "                                        {\n",
    "                                            \"label\": \"Fm (All Frequencies)\",\n",
    "                                            \"value\": 0,\n",
    "                                        },\n",
    "                                        {\n",
    "                                            \"label\": \"Fm, 0.75Fm, & 0.5Fm\",\n",
    "                                            \"value\": 1,\n",
    "                                        },\n",
    "                                    ],\n",
    "                                    value=0,\n",
    "                                ),\n",
    "                            ],\n",
    "                            className=\"three columns\",\n",
    "                        ),\n",
    "                        html.Div(\n",
    "                            [\n",
    "                                html.Br(),\n",
    "                                html.Button(\n",
    "                                    \"Add Invocation\",\n",
    "                                    id=\"invocation-button\",\n",
    "                                    n_clicks=0,\n",
    "                                    style={\"width\": \"100%\"},\n",
    "                                ),\n",
    "                            ],\n",
    "                            className=\"three columns\",\n",
    "                        ),\n",
    "                        html.Div(\n",
    "                            [\n",
    "                                html.Br(),\n",
    "                                html.Button(\n",
    "                                    \"Add Task\",\n",
    "                                    id=\"rows-button\",\n",
    "                                    n_clicks=0,\n",
    "                                    style={\"width\": \"100%\"},\n",
    "                                ),\n",
    "                            ],\n",
    "                            className=\"two columns\",\n",
    "                        ),\n",
    "                        html.Div(\n",
    "                            [\n",
    "                                html.Br(),\n",
    "                                html.Button(\n",
    "                                    \"Run\",\n",
    "                                    id=\"run-button\",\n",
    "                                    style={\"float\": \"right\"},\n",
    "                                ),\n",
    "                            ],\n",
    "                            className=\"two columns\",\n",
    "                        ),\n",
    "                    ],\n",
    "                    style={\"margin\": \"1.5% 0%\"},\n",
    "                    className=\"row\",\n",
    "                ),\n",
    "            ],\n",
    "            className=\"row\",\n",
    "        ),\n",
    "        html.Div(\n",
    "            [\n",
    "                dcc.Graph(id=\"fm-graph\"),\n",
    "            ],\n",
    "        ),\n",
    "        dcc.Store(id=\"invocation-store\", data=2),\n",
    "    ],\n",
    "    style={\"margin\": \"0% 1%\"},\n",
    ")\n",
    "\n",
    "# Update graph with algorithim\n",
    "@app.callback(\n",
    "    Output(\"fm-graph\", \"figure\"),\n",
    "    [Input(\"run-button\", \"n_clicks\")],\n",
    "    [\n",
    "        State(\"fm-table\", \"columns\"),\n",
    "        State(\"fm-table\", \"data\"),\n",
    "        State(\"fm-input\", \"value\"),\n",
    "        State(\"fm-dropdown\", \"value\"),\n",
    "    ],\n",
    ")\n",
    "def update_figure(run_button, table_cols, table_data, fm_val, fm_all):\n",
    "    print(table_data)\n",
    "    df_params = pd.DataFrame(table_data)\n",
    "    print(df_params)\n",
    "    data = edf_algo(df_params, fm_all=fm_all, fm_val=fm_val)\n",
    "    fig = go.Figure(data=data)\n",
    "    fig.update_layout(\n",
    "        title=\"EDF Graph\",\n",
    "        xaxis_title=\"Time (s)\",\n",
    "        yaxis_title=\"Task\",\n",
    "    )\n",
    "    return fig\n",
    "\n",
    "\n",
    "# Add invocation table column\n",
    "@app.callback(\n",
    "    [\n",
    "        Output(\"invocation-store\", \"data\"),\n",
    "        Output(\"fm-table\", \"columns\"),\n",
    "    ],\n",
    "    [Input(\"invocation-button\", \"n_clicks\")],\n",
    "    [\n",
    "        State(\"fm-table\", \"columns\"),\n",
    "        State(\"fm-table\", \"data\"),\n",
    "        State(\"invocation-store\", \"data\"),\n",
    "    ],\n",
    ")\n",
    "def add_table_col(invocation_button, table_cols, table_data, invoc_num):\n",
    "    if invocation_button > 0:\n",
    "        invoc_num += 1\n",
    "        invoc_name = \"Invocation-{}\".format(invoc_num)\n",
    "        table_cols.append(\n",
    "            {\"id\": invoc_name, \"name\": invoc_name, \"deletable\": True, \"type\": \"numeric\"}\n",
    "        )\n",
    "\n",
    "    return invoc_num, table_cols\n",
    "\n",
    "\n",
    "# Add rows to table\n",
    "@app.callback(\n",
    "    Output(\"fm-table\", \"data\"),\n",
    "    [Input(\"rows-button\", \"n_clicks\")],\n",
    "    [State(\"fm-table\", \"data\"), State(\"fm-table\", \"columns\")],\n",
    ")\n",
    "def add_rows(rows_button, table_rows, table_cols):\n",
    "    if rows_button > 0:\n",
    "        table_rows.append({c[\"id\"]: \"\" for c in table_cols})\n",
    "    return table_rows\n",
    "\n",
    "\n",
    "# Run app and display result inline in the notebook\n",
    "app.run_server(mode=\"external\")"
   ]
  },
  {
   "cell_type": "code",
   "execution_count": null,
   "metadata": {},
   "outputs": [],
   "source": []
  },
  {
   "cell_type": "code",
   "execution_count": null,
   "metadata": {},
   "outputs": [],
   "source": []
  }
 ],
 "metadata": {
  "kernelspec": {
   "display_name": "Python 3",
   "language": "python",
   "name": "python3"
  },
  "language_info": {
   "codemirror_mode": {
    "name": "ipython",
    "version": 3
   },
   "file_extension": ".py",
   "mimetype": "text/x-python",
   "name": "python",
   "nbconvert_exporter": "python",
   "pygments_lexer": "ipython3",
   "version": "3.7.9"
  }
 },
 "nbformat": 4,
 "nbformat_minor": 4
}
