{
 "cells": [
  {
   "cell_type": "code",
   "execution_count": 6,
   "metadata": {},
   "outputs": [
    {
     "data": {
      "application/javascript": [
       "\n",
       "            setTimeout(function() {\n",
       "                var nbb_cell_id = 6;\n",
       "                var nbb_unformatted_code = \"# Auto PEP8: pip install nb_black\\n# Loading extension\\n%load_ext nb_black\";\n",
       "                var nbb_formatted_code = \"# Auto PEP8: pip install nb_black\\n# Loading extension\\n%load_ext nb_black\";\n",
       "                var nbb_cells = Jupyter.notebook.get_cells();\n",
       "                for (var i = 0; i < nbb_cells.length; ++i) {\n",
       "                    if (nbb_cells[i].input_prompt_number == nbb_cell_id) {\n",
       "                        if (nbb_cells[i].get_text() == nbb_unformatted_code) {\n",
       "                             nbb_cells[i].set_text(nbb_formatted_code);\n",
       "                        }\n",
       "                        break;\n",
       "                    }\n",
       "                }\n",
       "            }, 500);\n",
       "            "
      ],
      "text/plain": [
       "<IPython.core.display.Javascript object>"
      ]
     },
     "metadata": {},
     "output_type": "display_data"
    }
   ],
   "source": [
    "# Auto PEP8: pip install nb_black\n",
    "# Loading extension\n",
    "%load_ext nb_black"
   ]
  },
  {
   "cell_type": "code",
   "execution_count": 7,
   "metadata": {},
   "outputs": [
    {
     "data": {
      "application/javascript": [
       "\n",
       "            setTimeout(function() {\n",
       "                var nbb_cell_id = 7;\n",
       "                var nbb_unformatted_code = \"from typing import Union\\n\\nimport plotly.graph_objects as go\\nimport pandas as pd\";\n",
       "                var nbb_formatted_code = \"from typing import Union\\n\\nimport plotly.graph_objects as go\\nimport pandas as pd\";\n",
       "                var nbb_cells = Jupyter.notebook.get_cells();\n",
       "                for (var i = 0; i < nbb_cells.length; ++i) {\n",
       "                    if (nbb_cells[i].input_prompt_number == nbb_cell_id) {\n",
       "                        if (nbb_cells[i].get_text() == nbb_unformatted_code) {\n",
       "                             nbb_cells[i].set_text(nbb_formatted_code);\n",
       "                        }\n",
       "                        break;\n",
       "                    }\n",
       "                }\n",
       "            }, 500);\n",
       "            "
      ],
      "text/plain": [
       "<IPython.core.display.Javascript object>"
      ]
     },
     "metadata": {},
     "output_type": "display_data"
    }
   ],
   "source": [
    "from typing import Union\n",
    "\n",
    "import plotly.graph_objects as go\n",
    "import pandas as pd"
   ]
  },
  {
   "cell_type": "code",
   "execution_count": 20,
   "metadata": {},
   "outputs": [
    {
     "name": "stdout",
     "output_type": "stream",
     "text": [
      "Table Data: \n",
      " [{'Task': 0, 'Worst Case': 3, 'Period': 8, 'Invocation-1': 2, 'Invocation-2': 1}, {'Task': 1, 'Worst Case': 3, 'Period': 10, 'Invocation-1': 1, 'Invocation-2': 1}, {'Task': 2, 'Worst Case': 1, 'Period': 14, 'Invocation-1': 1, 'Invocation-2': 1}]\n",
      "Table Columns: \n",
      " [{'name': 'Task', 'id': 'Task', 'type': 'numeric', 'editable': False}, {'name': 'Worst Case', 'id': 'Worst Case', 'type': 'numeric'}, {'name': 'Period', 'id': 'Period', 'type': 'numeric'}, {'name': 'Invocation-1', 'id': 'Invocation-1', 'type': 'numeric'}, {'name': 'Invocation-2', 'id': 'Invocation-2', 'type': 'numeric'}]\n"
     ]
    },
    {
     "data": {
      "application/javascript": [
       "\n",
       "            setTimeout(function() {\n",
       "                var nbb_cell_id = 20;\n",
       "                var nbb_unformatted_code = \"def generate_init_data() -> Union[list, list]:\\n    # Create mock dataset for testing\\n    task_0 = [0, 3, 8, 2, 1]\\n    task_1 = [1, 3, 10, 1, 1]\\n    task_2 = [2, 1, 14, 1, 1]\\n    tasks = [task_0, task_1, task_2]\\n    \\n    # Dash table outputs its property \\\"data\\\" for every row, where key is the column, and value is the value\\n    task_template = [\\\"Task\\\", \\\"Worst Case\\\", \\\"Period\\\", \\\"Invocation-1\\\", \\\"Invocation-2\\\"]\\n\\n    table_data = []\\n\\n    for task in tasks:\\n        task_tup = tuple(zip(task_template, task))\\n        task_dict = {key: val for key, val in task_tup}\\n        table_data.append(task_dict)\\n        \\n    # Dash table outputs its property \\\"column\\\" for every column name, where key is the column_id, and value is the value\\n    table_col = [{\\\"name\\\": val, \\\"id\\\": val, 'type': 'numeric',} for val in task_template]\\n    table_col[0].update({'editable' : False})\\n    return table_data, table_col\\n\\ntable_data, table_col = generate_init_data()\\ndf_params = pd.DataFrame(table_data)\\nprint(\\\"Table Data: \\\\n\\\", table_data)\\nprint(\\\"Table Columns: \\\\n\\\", table_col)\";\n",
       "                var nbb_formatted_code = \"def generate_init_data() -> Union[list, list]:\\n    # Create mock dataset for testing\\n    task_0 = [0, 3, 8, 2, 1]\\n    task_1 = [1, 3, 10, 1, 1]\\n    task_2 = [2, 1, 14, 1, 1]\\n    tasks = [task_0, task_1, task_2]\\n\\n    # Dash table outputs its property \\\"data\\\" for every row, where key is the column, and value is the value\\n    task_template = [\\\"Task\\\", \\\"Worst Case\\\", \\\"Period\\\", \\\"Invocation-1\\\", \\\"Invocation-2\\\"]\\n\\n    table_data = []\\n\\n    for task in tasks:\\n        task_tup = tuple(zip(task_template, task))\\n        task_dict = {key: val for key, val in task_tup}\\n        table_data.append(task_dict)\\n\\n    # Dash table outputs its property \\\"column\\\" for every column name, where key is the column_id, and value is the value\\n    table_col = [\\n        {\\n            \\\"name\\\": val,\\n            \\\"id\\\": val,\\n            \\\"type\\\": \\\"numeric\\\",\\n        }\\n        for val in task_template\\n    ]\\n    table_col[0].update({\\\"editable\\\": False})\\n    return table_data, table_col\\n\\n\\ntable_data, table_col = generate_init_data()\\ndf_params = pd.DataFrame(table_data)\\nprint(\\\"Table Data: \\\\n\\\", table_data)\\nprint(\\\"Table Columns: \\\\n\\\", table_col)\";\n",
       "                var nbb_cells = Jupyter.notebook.get_cells();\n",
       "                for (var i = 0; i < nbb_cells.length; ++i) {\n",
       "                    if (nbb_cells[i].input_prompt_number == nbb_cell_id) {\n",
       "                        if (nbb_cells[i].get_text() == nbb_unformatted_code) {\n",
       "                             nbb_cells[i].set_text(nbb_formatted_code);\n",
       "                        }\n",
       "                        break;\n",
       "                    }\n",
       "                }\n",
       "            }, 500);\n",
       "            "
      ],
      "text/plain": [
       "<IPython.core.display.Javascript object>"
      ]
     },
     "metadata": {},
     "output_type": "display_data"
    }
   ],
   "source": [
    "def generate_init_data() -> Union[list, list]:\n",
    "    # Create mock dataset for testing\n",
    "    task_0 = [0, 3, 8, 2, 1]\n",
    "    task_1 = [1, 3, 10, 1, 1]\n",
    "    task_2 = [2, 1, 14, 1, 1]\n",
    "    tasks = [task_0, task_1, task_2]\n",
    "\n",
    "    # Dash table outputs its property \"data\" for every row, where key is the column, and value is the value\n",
    "    task_template = [\"Task\", \"Worst Case\", \"Period\", \"Invocation-1\", \"Invocation-2\"]\n",
    "\n",
    "    table_data = []\n",
    "\n",
    "    for task in tasks:\n",
    "        task_tup = tuple(zip(task_template, task))\n",
    "        task_dict = {key: val for key, val in task_tup}\n",
    "        table_data.append(task_dict)\n",
    "\n",
    "    # Dash table outputs its property \"column\" for every column name, where key is the column_id, and value is the value\n",
    "    table_col = [\n",
    "        {\n",
    "            \"name\": val,\n",
    "            \"id\": val,\n",
    "            \"type\": \"numeric\",\n",
    "        }\n",
    "        for val in task_template\n",
    "    ]\n",
    "    table_col[0].update({\"editable\": False})\n",
    "    return table_data, table_col\n",
    "\n",
    "\n",
    "table_data, table_col = generate_init_data()\n",
    "print(\"Table Data: \\n\", table_data)\n",
    "print(\"Table Columns: \\n\", table_col)"
   ]
  },
  {
   "cell_type": "code",
   "execution_count": 12,
   "metadata": {},
   "outputs": [
    {
     "data": {
      "application/javascript": [
       "\n",
       "            setTimeout(function() {\n",
       "                var nbb_cell_id = 12;\n",
       "                var nbb_unformatted_code = \"# Cycle conserving EDF algorithim and figure\\ndef fig_edf_data(df_params: pd.DataFrame, fm_all=False, fm_val=1) -> list:\\n    curr_period = 0\\n    start_time = []\\n    end_time = []\\n    plot_data = []\\n    deadline = {\\\"state\\\": False, \\\"x\\\": None, \\\"y\\\": None}\\n\\n    # Get lists from Pandas\\n    task_id = df_params[\\\"Task\\\"].tolist()\\n    task_state = df_params[\\\"Worst Case\\\"].tolist()\\n    task_wc = df_params[\\\"Worst Case\\\"].tolist()\\n    task_period = df_params[\\\"Period\\\"].tolist()\\n\\n    # Plotly data templating\\n    hovertemplate = (\\n        \\\"<b>Start:</b> %{base:.2f}s<br>\\\"\\n        + \\\"<b>Finish:</b> %{x:.2f}s<br>\\\"\\n        + \\\"<b>%{text}</b>\\\"\\n    )\\n\\n    for task in task_id:\\n        fig = {\\n            \\\"name\\\": \\\"Task-{}\\\".format(task),\\n            \\\"x\\\": [],\\n            \\\"y\\\": [],\\n            \\\"base\\\": [],\\n            \\\"text\\\": [],\\n            \\\"type\\\": \\\"bar\\\",\\n            \\\"orientation\\\": \\\"h\\\",\\n            \\\"hovertemplate\\\": hovertemplate,\\n        }\\n        plot_data.append(fig)\\n\\n    # Get a list of invocations\\n    df_invoc = df_params.filter(regex=\\\"Invocation\\\")\\n    task_invoc = [df_invoc[col].tolist() for col in df_invoc.columns]\\n\\n    # Iterate thru through each invocation of each task\\n    for inv_num, invocation in enumerate(task_invoc, start=1):\\n        for task_num in range(len(task_state)):\\n            # If at start of algo\\n            if inv_num == 1 and task_num == 0:\\n                t_start = 0\\n            # Check if this task has been released\\n            elif inv_num is not 1 and end_time[-1] < (\\n                curr_period * task_period[task_num]\\n            ):\\n                t_start = curr_period * task_period[task_num]\\n            # Else make last task's end time this task's start time (sequential)\\n            else:\\n                t_start = end_time[-1]\\n\\n            start_time.append(t_start)\\n\\n            # Set running task T as worst case\\n            task_state[task_num] = task_wc[task_num]\\n\\n            # Calculate utility\\n            util = [\\n                task_state[idx] / task_period[idx] for idx in range(len(task_state))\\n            ]\\n\\n            util = sum(util) * fm_val\\n\\n            # Round to other util if enabled\\n            if fm_all:\\n                if util < 0.5:\\n                    util = 0.5\\n                elif util < 0.75:\\n                    util = 0.75\\n\\n            if util > 1:\\n                util = 1\\n\\n            # Set the current task state to next invocation's execution time\\n            # for next iteration to use\\n            task_state[task_num] = invocation[task_num]\\n\\n            # Calculate t\\n            t = invocation[task_num] / util\\n\\n            # If waiting till next period\\n            if inv_num is not 1 and end_time[-1] < (\\n                curr_period * task_period[task_num]\\n            ):\\n                t_end = curr_period * task_period[task_num] + t\\n            #                 end_time.append(t_end)\\n            else:\\n                t_end = t + start_time[-1]\\n\\n            end_time.append(t_end)\\n\\n            # Append data to plotly figures\\n            fig = plot_data[task_num]\\n\\n            task_number = task_id[task_num]\\n            fig[\\\"x\\\"].append(t_end - t_start)\\n            fig[\\\"y\\\"].append(\\\"Task-{}\\\".format(task_number))\\n            fig[\\\"text\\\"].append(\\\"Frequency (Fm={}): {:.3f}\\\".format(fm_val, util))\\n            fig[\\\"base\\\"].append(t_start)\\n\\n            # Check if we past the deadline\\n            if t_end > (inv_num * task_period[task_num]):\\n                deadline[\\\"state\\\"] = True\\n                deadline[\\\"x\\\"] = inv_num * task_period[task_num]\\n                deadline[\\\"y\\\"] = \\\"Task-{}\\\".format(task_number)\\n\\n                break\\n\\n        if deadline[\\\"state\\\"]:\\n            break\\n\\n        curr_period += 1\\n\\n    # Generate Plotly figure\\n    plot_data = [go.Bar(fig) for fig in plot_data]\\n\\n    return plot_data, deadline\";\n",
       "                var nbb_formatted_code = \"# Cycle conserving EDF algorithim and figure\\ndef fig_edf_data(df_params: pd.DataFrame, fm_all=False, fm_val=1) -> list:\\n    curr_period = 0\\n    start_time = []\\n    end_time = []\\n    plot_data = []\\n    deadline = {\\\"state\\\": False, \\\"x\\\": None, \\\"y\\\": None}\\n\\n    # Get lists from Pandas\\n    task_id = df_params[\\\"Task\\\"].tolist()\\n    task_state = df_params[\\\"Worst Case\\\"].tolist()\\n    task_wc = df_params[\\\"Worst Case\\\"].tolist()\\n    task_period = df_params[\\\"Period\\\"].tolist()\\n\\n    # Plotly data templating\\n    hovertemplate = (\\n        \\\"<b>Start:</b> %{base:.2f}s<br>\\\"\\n        + \\\"<b>Finish:</b> %{x:.2f}s<br>\\\"\\n        + \\\"<b>%{text}</b>\\\"\\n    )\\n\\n    for task in task_id:\\n        fig = {\\n            \\\"name\\\": \\\"Task-{}\\\".format(task),\\n            \\\"x\\\": [],\\n            \\\"y\\\": [],\\n            \\\"base\\\": [],\\n            \\\"text\\\": [],\\n            \\\"type\\\": \\\"bar\\\",\\n            \\\"orientation\\\": \\\"h\\\",\\n            \\\"hovertemplate\\\": hovertemplate,\\n        }\\n        plot_data.append(fig)\\n\\n    # Get a list of invocations\\n    df_invoc = df_params.filter(regex=\\\"Invocation\\\")\\n    task_invoc = [df_invoc[col].tolist() for col in df_invoc.columns]\\n\\n    # Iterate thru through each invocation of each task\\n    for inv_num, invocation in enumerate(task_invoc, start=1):\\n        for task_num in range(len(task_state)):\\n            # If at start of algo\\n            if inv_num == 1 and task_num == 0:\\n                t_start = 0\\n            # Check if this task has been released\\n            elif inv_num is not 1 and end_time[-1] < (\\n                curr_period * task_period[task_num]\\n            ):\\n                t_start = curr_period * task_period[task_num]\\n            # Else make last task's end time this task's start time (sequential)\\n            else:\\n                t_start = end_time[-1]\\n\\n            start_time.append(t_start)\\n\\n            # Set running task T as worst case\\n            task_state[task_num] = task_wc[task_num]\\n\\n            # Calculate utility\\n            util = [\\n                task_state[idx] / task_period[idx] for idx in range(len(task_state))\\n            ]\\n\\n            util = sum(util) * fm_val\\n\\n            # Round to other util if enabled\\n            if fm_all:\\n                if util < 0.5:\\n                    util = 0.5\\n                elif util < 0.75:\\n                    util = 0.75\\n\\n            if util > 1:\\n                util = 1\\n\\n            # Set the current task state to next invocation's execution time\\n            # for next iteration to use\\n            task_state[task_num] = invocation[task_num]\\n\\n            # Calculate t\\n            t = invocation[task_num] / util\\n\\n            # If waiting till next period\\n            if inv_num is not 1 and end_time[-1] < (\\n                curr_period * task_period[task_num]\\n            ):\\n                t_end = curr_period * task_period[task_num] + t\\n            #                 end_time.append(t_end)\\n            else:\\n                t_end = t + start_time[-1]\\n\\n            end_time.append(t_end)\\n\\n            # Append data to plotly figures\\n            fig = plot_data[task_num]\\n\\n            task_number = task_id[task_num]\\n            fig[\\\"x\\\"].append(t_end - t_start)\\n            fig[\\\"y\\\"].append(\\\"Task-{}\\\".format(task_number))\\n            fig[\\\"text\\\"].append(\\\"Frequency (Fm={}): {:.3f}\\\".format(fm_val, util))\\n            fig[\\\"base\\\"].append(t_start)\\n\\n            # Check if we past the deadline\\n            if t_end > (inv_num * task_period[task_num]):\\n                deadline[\\\"state\\\"] = True\\n                deadline[\\\"x\\\"] = inv_num * task_period[task_num]\\n                deadline[\\\"y\\\"] = \\\"Task-{}\\\".format(task_number)\\n\\n                break\\n\\n        if deadline[\\\"state\\\"]:\\n            break\\n\\n        curr_period += 1\\n\\n    # Generate Plotly figure\\n    plot_data = [go.Bar(fig) for fig in plot_data]\\n\\n    return plot_data, deadline\";\n",
       "                var nbb_cells = Jupyter.notebook.get_cells();\n",
       "                for (var i = 0; i < nbb_cells.length; ++i) {\n",
       "                    if (nbb_cells[i].input_prompt_number == nbb_cell_id) {\n",
       "                        if (nbb_cells[i].get_text() == nbb_unformatted_code) {\n",
       "                             nbb_cells[i].set_text(nbb_formatted_code);\n",
       "                        }\n",
       "                        break;\n",
       "                    }\n",
       "                }\n",
       "            }, 500);\n",
       "            "
      ],
      "text/plain": [
       "<IPython.core.display.Javascript object>"
      ]
     },
     "metadata": {},
     "output_type": "display_data"
    }
   ],
   "source": [
    "# Cycle conserving EDF algorithim and figure\n",
    "def fig_edf_data(df_params: pd.DataFrame, fm_all=False, fm_val=1) -> list:\n",
    "    curr_period = 0\n",
    "    start_time = []\n",
    "    end_time = []\n",
    "    plot_data = []\n",
    "    deadline = {\"state\": False, \"x\": None, \"y\": None}\n",
    "\n",
    "    # Get lists from Pandas\n",
    "    task_id = df_params[\"Task\"].tolist()\n",
    "    task_state = df_params[\"Worst Case\"].tolist()\n",
    "    task_wc = df_params[\"Worst Case\"].tolist()\n",
    "    task_period = df_params[\"Period\"].tolist()\n",
    "\n",
    "    # Plotly data templating\n",
    "    hovertemplate = (\n",
    "        \"<b>Start:</b> %{base:.2f}s<br>\"\n",
    "        + \"<b>Finish:</b> %{x:.2f}s<br>\"\n",
    "        + \"<b>%{text}</b>\"\n",
    "    )\n",
    "\n",
    "    for task in task_id:\n",
    "        fig = {\n",
    "            \"name\": \"Task-{}\".format(task),\n",
    "            \"x\": [],\n",
    "            \"y\": [],\n",
    "            \"base\": [],\n",
    "            \"text\": [],\n",
    "            \"type\": \"bar\",\n",
    "            \"orientation\": \"h\",\n",
    "            \"hovertemplate\": hovertemplate,\n",
    "        }\n",
    "        plot_data.append(fig)\n",
    "\n",
    "    # Get a list of invocations\n",
    "    df_invoc = df_params.filter(regex=\"Invocation\")\n",
    "    task_invoc = [df_invoc[col].tolist() for col in df_invoc.columns]\n",
    "\n",
    "    # Iterate thru through each invocation of each task\n",
    "    for inv_num, invocation in enumerate(task_invoc, start=1):\n",
    "        for task_num in range(len(task_state)):\n",
    "            # If at start of algo\n",
    "            if inv_num == 1 and task_num == 0:\n",
    "                t_start = 0\n",
    "            # Check if this task has been released\n",
    "            elif inv_num is not 1 and end_time[-1] < (\n",
    "                curr_period * task_period[task_num]\n",
    "            ):\n",
    "                t_start = curr_period * task_period[task_num]\n",
    "            # Else make last task's end time this task's start time (sequential)\n",
    "            else:\n",
    "                t_start = end_time[-1]\n",
    "\n",
    "            start_time.append(t_start)\n",
    "\n",
    "            # Set running task T as worst case\n",
    "            task_state[task_num] = task_wc[task_num]\n",
    "\n",
    "            # Calculate utility\n",
    "            util = [\n",
    "                task_state[idx] / task_period[idx] for idx in range(len(task_state))\n",
    "            ]\n",
    "\n",
    "            util = sum(util) * fm_val\n",
    "\n",
    "            # Round to other util if enabled\n",
    "            if fm_all:\n",
    "                if util < 0.5:\n",
    "                    util = 0.5\n",
    "                elif util < 0.75:\n",
    "                    util = 0.75\n",
    "\n",
    "            if util > 1:\n",
    "                util = 1\n",
    "\n",
    "            # Set the current task state to next invocation's execution time\n",
    "            # for next iteration to use\n",
    "            task_state[task_num] = invocation[task_num]\n",
    "\n",
    "            # Calculate t\n",
    "            t = invocation[task_num] / util\n",
    "\n",
    "            # If waiting till next period\n",
    "            if inv_num is not 1 and end_time[-1] < (\n",
    "                curr_period * task_period[task_num]\n",
    "            ):\n",
    "                t_end = curr_period * task_period[task_num] + t\n",
    "            #                 end_time.append(t_end)\n",
    "            else:\n",
    "                t_end = t + start_time[-1]\n",
    "\n",
    "            end_time.append(t_end)\n",
    "\n",
    "            # Append data to plotly figures\n",
    "            fig = plot_data[task_num]\n",
    "\n",
    "            task_number = task_id[task_num]\n",
    "            fig[\"x\"].append(t_end - t_start)\n",
    "            fig[\"y\"].append(\"Task-{}\".format(task_number))\n",
    "            fig[\"text\"].append(\"Frequency (Fm={}): {:.3f}\".format(fm_val, util))\n",
    "            fig[\"base\"].append(t_start)\n",
    "\n",
    "            # Check if we past the deadline\n",
    "            if t_end > (inv_num * task_period[task_num]):\n",
    "                deadline[\"state\"] = True\n",
    "                deadline[\"x\"] = inv_num * task_period[task_num]\n",
    "                deadline[\"y\"] = \"Task-{}\".format(task_number)\n",
    "\n",
    "                break\n",
    "\n",
    "        if deadline[\"state\"]:\n",
    "            break\n",
    "\n",
    "        curr_period += 1\n",
    "\n",
    "    # Generate Plotly figure\n",
    "    plot_data = [go.Bar(fig) for fig in plot_data]\n",
    "\n",
    "    return plot_data, deadline"
   ]
  },
  {
   "cell_type": "code",
   "execution_count": 91,
   "metadata": {},
   "outputs": [
    {
     "data": {
      "text/plain": [
       "2"
      ]
     },
     "execution_count": 91,
     "metadata": {},
     "output_type": "execute_result"
    },
    {
     "data": {
      "application/javascript": [
       "\n",
       "            setTimeout(function() {\n",
       "                var nbb_cell_id = 91;\n",
       "                var nbb_unformatted_code = \"def fig_period_layout(df_params: pd.DataFrame) -> list:\\n    # Invocations to list\\n    df_invoc = df_params.filter(regex=\\\"Invocation\\\")\\n    period_list = df_params[\\\"Period\\\"].to_list()\\n\\n    y_init_pos = [-0.5, 0]\\n    per_shapes = []\\n\\n    # Draw deadlines on Plotly figure\\n    for i in range(1, len(df_invoc.columns) + 1):\\n        for idx, period in enumerate(period_list):\\n            # Equation to map positions of y-coordinates of period lines\\n            #             y_pos = list(map(lambda pos: pos + 1.25 * idx, y_init_pos))\\n            per = dict(\\n                type=\\\"line\\\",\\n                x0=period * i,\\n                #                 y0=y_pos[0],\\n                y0=\\\"Task-{}\\\".format(0),\\n                x1=period * i,\\n                #                 y1=y_pos[1],\\n                y1=\\\"Task-{}\\\".format(0),\\n                line=dict(color=\\\"Red\\\", width=3),\\n            )\\n            per_shapes.append(per)\\n\\n    return per_shapes\\n\\n\\ndf_params = pd.DataFrame(table_data)\\ndata, deadline = fig_edf_data(df_params)\\ndf_params[\\\"Period\\\"]\\ndf_invoc = df_params.filter(regex=\\\"Invocation\\\")\\nlen(df_invoc.columns)\";\n",
       "                var nbb_formatted_code = \"def fig_period_layout(df_params: pd.DataFrame) -> list:\\n    # Invocations to list\\n    df_invoc = df_params.filter(regex=\\\"Invocation\\\")\\n    period_list = df_params[\\\"Period\\\"].to_list()\\n\\n    y_init_pos = [-0.5, 0]\\n    per_shapes = []\\n\\n    # Draw deadlines on Plotly figure\\n    for i in range(1, len(df_invoc.columns) + 1):\\n        for idx, period in enumerate(period_list):\\n            # Equation to map positions of y-coordinates of period lines\\n            #             y_pos = list(map(lambda pos: pos + 1.25 * idx, y_init_pos))\\n            per = dict(\\n                type=\\\"line\\\",\\n                x0=period * i,\\n                #                 y0=y_pos[0],\\n                y0=\\\"Task-{}\\\".format(0),\\n                x1=period * i,\\n                #                 y1=y_pos[1],\\n                y1=\\\"Task-{}\\\".format(0),\\n                line=dict(color=\\\"Red\\\", width=3),\\n            )\\n            per_shapes.append(per)\\n\\n    return per_shapes\\n\\n\\ndf_params = pd.DataFrame(table_data)\\ndata, deadline = fig_edf_data(df_params)\\ndf_params[\\\"Period\\\"]\\ndf_invoc = df_params.filter(regex=\\\"Invocation\\\")\\nlen(df_invoc.columns)\";\n",
       "                var nbb_cells = Jupyter.notebook.get_cells();\n",
       "                for (var i = 0; i < nbb_cells.length; ++i) {\n",
       "                    if (nbb_cells[i].input_prompt_number == nbb_cell_id) {\n",
       "                        if (nbb_cells[i].get_text() == nbb_unformatted_code) {\n",
       "                             nbb_cells[i].set_text(nbb_formatted_code);\n",
       "                        }\n",
       "                        break;\n",
       "                    }\n",
       "                }\n",
       "            }, 500);\n",
       "            "
      ],
      "text/plain": [
       "<IPython.core.display.Javascript object>"
      ]
     },
     "metadata": {},
     "output_type": "display_data"
    }
   ],
   "source": [
    "def fig_period_layout(df_params: pd.DataFrame) -> list:\n",
    "    # Invocations to list\n",
    "    df_invoc = df_params.filter(regex=\"Invocation\")\n",
    "    period_list = df_params[\"Period\"].to_list()\n",
    "\n",
    "    y_init_pos = [-0.5, 0]\n",
    "    per_shapes = []\n",
    "\n",
    "    # Draw deadlines on Plotly figure\n",
    "    for i in range(1, len(df_invoc.columns) + 1):\n",
    "        for idx, period in enumerate(period_list):\n",
    "            # Equation to map positions of y-coordinates of period lines\n",
    "            #             y_pos = list(map(lambda pos: pos + 1.25 * idx, y_init_pos))\n",
    "            per = dict(\n",
    "                type=\"line\",\n",
    "                x0=period * i,\n",
    "                #                 y0=y_pos[0],\n",
    "                y0=\"Task-{}\".format(0),\n",
    "                x1=period * i,\n",
    "                #                 y1=y_pos[1],\n",
    "                y1=\"Task-{}\".format(0),\n",
    "                line=dict(color=\"Red\", width=3),\n",
    "            )\n",
    "            per_shapes.append(per)\n",
    "\n",
    "    return per_shapes\n",
    "\n",
    "\n",
    "df_params = pd.DataFrame(table_data)\n",
    "data, deadline = fig_edf_data(df_params)"
   ]
  },
  {
   "cell_type": "code",
   "execution_count": 98,
   "metadata": {
    "scrolled": true
   },
   "outputs": [
    {
     "data": {
      "application/vnd.plotly.v1+json": {
       "config": {
        "plotlyServerURL": "https://plot.ly"
       },
       "data": [
        {
         "base": [
          0,
          8
         ],
         "hovertemplate": "<b>Start:</b> %{base:.2f}s<br><b>Finish:</b> %{x:.2f}s<br><b>%{text}</b>",
         "name": "Task-0",
         "orientation": "h",
         "text": [
          "Frequency (Fm=1): 0.746",
          "Frequency (Fm=1): 0.546"
         ],
         "type": "bar",
         "x": [
          2.679425837320574,
          1.8300653594771248
         ],
         "y": [
          "Task-0",
          "Task-0"
         ]
        },
        {
         "base": [
          2.679425837320574,
          10
         ],
         "hovertemplate": "<b>Start:</b> %{base:.2f}s<br><b>Finish:</b> %{x:.2f}s<br><b>%{text}</b>",
         "name": "Task-1",
         "orientation": "h",
         "text": [
          "Frequency (Fm=1): 0.621",
          "Frequency (Fm=1): 0.496"
         ],
         "type": "bar",
         "x": [
          1.6091954022988508,
          2.014388489208633
         ],
         "y": [
          "Task-1",
          "Task-1"
         ]
        },
        {
         "base": [
          4.288621239619425,
          14
         ],
         "hovertemplate": "<b>Start:</b> %{base:.2f}s<br><b>Finish:</b> %{x:.2f}s<br><b>%{text}</b>",
         "name": "Task-2",
         "orientation": "h",
         "text": [
          "Frequency (Fm=1): 0.421",
          "Frequency (Fm=1): 0.296"
         ],
         "type": "bar",
         "x": [
          2.3728813559322033,
          3.3734939759036138
         ],
         "y": [
          "Task-2",
          "Task-2"
         ]
        }
       ],
       "layout": {
        "shapes": [
         {
          "fillcolor": "#636EFA",
          "layer": "below",
          "line": {
           "width": 0.1
          },
          "opacity": 1,
          "type": "rect",
          "x0": 8,
          "x1": 8.05,
          "xref": "x",
          "y0": 0,
          "y1": 1,
          "yref": "y domain"
         },
         {
          "fillcolor": "#EF553B",
          "layer": "below",
          "line": {
           "width": 0.1
          },
          "opacity": 1,
          "type": "rect",
          "x0": 10,
          "x1": 10.05,
          "xref": "x",
          "y0": 0,
          "y1": 1,
          "yref": "y domain"
         },
         {
          "fillcolor": "#00CC96",
          "layer": "below",
          "line": {
           "width": 0.1
          },
          "opacity": 1,
          "type": "rect",
          "x0": 14,
          "x1": 14.05,
          "xref": "x",
          "y0": 0,
          "y1": 1,
          "yref": "y domain"
         },
         {
          "fillcolor": "#636EFA",
          "layer": "below",
          "line": {
           "width": 0.1
          },
          "opacity": 1,
          "type": "rect",
          "x0": 8,
          "x1": 8.05,
          "xref": "x",
          "y0": 0,
          "y1": 1,
          "yref": "y domain"
         },
         {
          "fillcolor": "#EF553B",
          "layer": "below",
          "line": {
           "width": 0.1
          },
          "opacity": 1,
          "type": "rect",
          "x0": 10,
          "x1": 10.05,
          "xref": "x",
          "y0": 0,
          "y1": 1,
          "yref": "y domain"
         },
         {
          "fillcolor": "#00CC96",
          "layer": "below",
          "line": {
           "width": 0.1
          },
          "opacity": 1,
          "type": "rect",
          "x0": 14,
          "x1": 14.05,
          "xref": "x",
          "y0": 0,
          "y1": 1,
          "yref": "y domain"
         }
        ],
        "template": {
         "data": {
          "bar": [
           {
            "error_x": {
             "color": "#2a3f5f"
            },
            "error_y": {
             "color": "#2a3f5f"
            },
            "marker": {
             "line": {
              "color": "#E5ECF6",
              "width": 0.5
             }
            },
            "type": "bar"
           }
          ],
          "barpolar": [
           {
            "marker": {
             "line": {
              "color": "#E5ECF6",
              "width": 0.5
             }
            },
            "type": "barpolar"
           }
          ],
          "carpet": [
           {
            "aaxis": {
             "endlinecolor": "#2a3f5f",
             "gridcolor": "white",
             "linecolor": "white",
             "minorgridcolor": "white",
             "startlinecolor": "#2a3f5f"
            },
            "baxis": {
             "endlinecolor": "#2a3f5f",
             "gridcolor": "white",
             "linecolor": "white",
             "minorgridcolor": "white",
             "startlinecolor": "#2a3f5f"
            },
            "type": "carpet"
           }
          ],
          "choropleth": [
           {
            "colorbar": {
             "outlinewidth": 0,
             "ticks": ""
            },
            "type": "choropleth"
           }
          ],
          "contour": [
           {
            "colorbar": {
             "outlinewidth": 0,
             "ticks": ""
            },
            "colorscale": [
             [
              0,
              "#0d0887"
             ],
             [
              0.1111111111111111,
              "#46039f"
             ],
             [
              0.2222222222222222,
              "#7201a8"
             ],
             [
              0.3333333333333333,
              "#9c179e"
             ],
             [
              0.4444444444444444,
              "#bd3786"
             ],
             [
              0.5555555555555556,
              "#d8576b"
             ],
             [
              0.6666666666666666,
              "#ed7953"
             ],
             [
              0.7777777777777778,
              "#fb9f3a"
             ],
             [
              0.8888888888888888,
              "#fdca26"
             ],
             [
              1,
              "#f0f921"
             ]
            ],
            "type": "contour"
           }
          ],
          "contourcarpet": [
           {
            "colorbar": {
             "outlinewidth": 0,
             "ticks": ""
            },
            "type": "contourcarpet"
           }
          ],
          "heatmap": [
           {
            "colorbar": {
             "outlinewidth": 0,
             "ticks": ""
            },
            "colorscale": [
             [
              0,
              "#0d0887"
             ],
             [
              0.1111111111111111,
              "#46039f"
             ],
             [
              0.2222222222222222,
              "#7201a8"
             ],
             [
              0.3333333333333333,
              "#9c179e"
             ],
             [
              0.4444444444444444,
              "#bd3786"
             ],
             [
              0.5555555555555556,
              "#d8576b"
             ],
             [
              0.6666666666666666,
              "#ed7953"
             ],
             [
              0.7777777777777778,
              "#fb9f3a"
             ],
             [
              0.8888888888888888,
              "#fdca26"
             ],
             [
              1,
              "#f0f921"
             ]
            ],
            "type": "heatmap"
           }
          ],
          "heatmapgl": [
           {
            "colorbar": {
             "outlinewidth": 0,
             "ticks": ""
            },
            "colorscale": [
             [
              0,
              "#0d0887"
             ],
             [
              0.1111111111111111,
              "#46039f"
             ],
             [
              0.2222222222222222,
              "#7201a8"
             ],
             [
              0.3333333333333333,
              "#9c179e"
             ],
             [
              0.4444444444444444,
              "#bd3786"
             ],
             [
              0.5555555555555556,
              "#d8576b"
             ],
             [
              0.6666666666666666,
              "#ed7953"
             ],
             [
              0.7777777777777778,
              "#fb9f3a"
             ],
             [
              0.8888888888888888,
              "#fdca26"
             ],
             [
              1,
              "#f0f921"
             ]
            ],
            "type": "heatmapgl"
           }
          ],
          "histogram": [
           {
            "marker": {
             "colorbar": {
              "outlinewidth": 0,
              "ticks": ""
             }
            },
            "type": "histogram"
           }
          ],
          "histogram2d": [
           {
            "colorbar": {
             "outlinewidth": 0,
             "ticks": ""
            },
            "colorscale": [
             [
              0,
              "#0d0887"
             ],
             [
              0.1111111111111111,
              "#46039f"
             ],
             [
              0.2222222222222222,
              "#7201a8"
             ],
             [
              0.3333333333333333,
              "#9c179e"
             ],
             [
              0.4444444444444444,
              "#bd3786"
             ],
             [
              0.5555555555555556,
              "#d8576b"
             ],
             [
              0.6666666666666666,
              "#ed7953"
             ],
             [
              0.7777777777777778,
              "#fb9f3a"
             ],
             [
              0.8888888888888888,
              "#fdca26"
             ],
             [
              1,
              "#f0f921"
             ]
            ],
            "type": "histogram2d"
           }
          ],
          "histogram2dcontour": [
           {
            "colorbar": {
             "outlinewidth": 0,
             "ticks": ""
            },
            "colorscale": [
             [
              0,
              "#0d0887"
             ],
             [
              0.1111111111111111,
              "#46039f"
             ],
             [
              0.2222222222222222,
              "#7201a8"
             ],
             [
              0.3333333333333333,
              "#9c179e"
             ],
             [
              0.4444444444444444,
              "#bd3786"
             ],
             [
              0.5555555555555556,
              "#d8576b"
             ],
             [
              0.6666666666666666,
              "#ed7953"
             ],
             [
              0.7777777777777778,
              "#fb9f3a"
             ],
             [
              0.8888888888888888,
              "#fdca26"
             ],
             [
              1,
              "#f0f921"
             ]
            ],
            "type": "histogram2dcontour"
           }
          ],
          "mesh3d": [
           {
            "colorbar": {
             "outlinewidth": 0,
             "ticks": ""
            },
            "type": "mesh3d"
           }
          ],
          "parcoords": [
           {
            "line": {
             "colorbar": {
              "outlinewidth": 0,
              "ticks": ""
             }
            },
            "type": "parcoords"
           }
          ],
          "pie": [
           {
            "automargin": true,
            "type": "pie"
           }
          ],
          "scatter": [
           {
            "marker": {
             "colorbar": {
              "outlinewidth": 0,
              "ticks": ""
             }
            },
            "type": "scatter"
           }
          ],
          "scatter3d": [
           {
            "line": {
             "colorbar": {
              "outlinewidth": 0,
              "ticks": ""
             }
            },
            "marker": {
             "colorbar": {
              "outlinewidth": 0,
              "ticks": ""
             }
            },
            "type": "scatter3d"
           }
          ],
          "scattercarpet": [
           {
            "marker": {
             "colorbar": {
              "outlinewidth": 0,
              "ticks": ""
             }
            },
            "type": "scattercarpet"
           }
          ],
          "scattergeo": [
           {
            "marker": {
             "colorbar": {
              "outlinewidth": 0,
              "ticks": ""
             }
            },
            "type": "scattergeo"
           }
          ],
          "scattergl": [
           {
            "marker": {
             "colorbar": {
              "outlinewidth": 0,
              "ticks": ""
             }
            },
            "type": "scattergl"
           }
          ],
          "scattermapbox": [
           {
            "marker": {
             "colorbar": {
              "outlinewidth": 0,
              "ticks": ""
             }
            },
            "type": "scattermapbox"
           }
          ],
          "scatterpolar": [
           {
            "marker": {
             "colorbar": {
              "outlinewidth": 0,
              "ticks": ""
             }
            },
            "type": "scatterpolar"
           }
          ],
          "scatterpolargl": [
           {
            "marker": {
             "colorbar": {
              "outlinewidth": 0,
              "ticks": ""
             }
            },
            "type": "scatterpolargl"
           }
          ],
          "scatterternary": [
           {
            "marker": {
             "colorbar": {
              "outlinewidth": 0,
              "ticks": ""
             }
            },
            "type": "scatterternary"
           }
          ],
          "surface": [
           {
            "colorbar": {
             "outlinewidth": 0,
             "ticks": ""
            },
            "colorscale": [
             [
              0,
              "#0d0887"
             ],
             [
              0.1111111111111111,
              "#46039f"
             ],
             [
              0.2222222222222222,
              "#7201a8"
             ],
             [
              0.3333333333333333,
              "#9c179e"
             ],
             [
              0.4444444444444444,
              "#bd3786"
             ],
             [
              0.5555555555555556,
              "#d8576b"
             ],
             [
              0.6666666666666666,
              "#ed7953"
             ],
             [
              0.7777777777777778,
              "#fb9f3a"
             ],
             [
              0.8888888888888888,
              "#fdca26"
             ],
             [
              1,
              "#f0f921"
             ]
            ],
            "type": "surface"
           }
          ],
          "table": [
           {
            "cells": {
             "fill": {
              "color": "#EBF0F8"
             },
             "line": {
              "color": "white"
             }
            },
            "header": {
             "fill": {
              "color": "#C8D4E3"
             },
             "line": {
              "color": "white"
             }
            },
            "type": "table"
           }
          ]
         },
         "layout": {
          "annotationdefaults": {
           "arrowcolor": "#2a3f5f",
           "arrowhead": 0,
           "arrowwidth": 1
          },
          "coloraxis": {
           "colorbar": {
            "outlinewidth": 0,
            "ticks": ""
           }
          },
          "colorscale": {
           "diverging": [
            [
             0,
             "#8e0152"
            ],
            [
             0.1,
             "#c51b7d"
            ],
            [
             0.2,
             "#de77ae"
            ],
            [
             0.3,
             "#f1b6da"
            ],
            [
             0.4,
             "#fde0ef"
            ],
            [
             0.5,
             "#f7f7f7"
            ],
            [
             0.6,
             "#e6f5d0"
            ],
            [
             0.7,
             "#b8e186"
            ],
            [
             0.8,
             "#7fbc41"
            ],
            [
             0.9,
             "#4d9221"
            ],
            [
             1,
             "#276419"
            ]
           ],
           "sequential": [
            [
             0,
             "#0d0887"
            ],
            [
             0.1111111111111111,
             "#46039f"
            ],
            [
             0.2222222222222222,
             "#7201a8"
            ],
            [
             0.3333333333333333,
             "#9c179e"
            ],
            [
             0.4444444444444444,
             "#bd3786"
            ],
            [
             0.5555555555555556,
             "#d8576b"
            ],
            [
             0.6666666666666666,
             "#ed7953"
            ],
            [
             0.7777777777777778,
             "#fb9f3a"
            ],
            [
             0.8888888888888888,
             "#fdca26"
            ],
            [
             1,
             "#f0f921"
            ]
           ],
           "sequentialminus": [
            [
             0,
             "#0d0887"
            ],
            [
             0.1111111111111111,
             "#46039f"
            ],
            [
             0.2222222222222222,
             "#7201a8"
            ],
            [
             0.3333333333333333,
             "#9c179e"
            ],
            [
             0.4444444444444444,
             "#bd3786"
            ],
            [
             0.5555555555555556,
             "#d8576b"
            ],
            [
             0.6666666666666666,
             "#ed7953"
            ],
            [
             0.7777777777777778,
             "#fb9f3a"
            ],
            [
             0.8888888888888888,
             "#fdca26"
            ],
            [
             1,
             "#f0f921"
            ]
           ]
          },
          "colorway": [
           "#636efa",
           "#EF553B",
           "#00cc96",
           "#ab63fa",
           "#FFA15A",
           "#19d3f3",
           "#FF6692",
           "#B6E880",
           "#FF97FF",
           "#FECB52"
          ],
          "font": {
           "color": "#2a3f5f"
          },
          "geo": {
           "bgcolor": "white",
           "lakecolor": "white",
           "landcolor": "#E5ECF6",
           "showlakes": true,
           "showland": true,
           "subunitcolor": "white"
          },
          "hoverlabel": {
           "align": "left"
          },
          "hovermode": "closest",
          "mapbox": {
           "style": "light"
          },
          "paper_bgcolor": "white",
          "plot_bgcolor": "#E5ECF6",
          "polar": {
           "angularaxis": {
            "gridcolor": "white",
            "linecolor": "white",
            "ticks": ""
           },
           "bgcolor": "#E5ECF6",
           "radialaxis": {
            "gridcolor": "white",
            "linecolor": "white",
            "ticks": ""
           }
          },
          "scene": {
           "xaxis": {
            "backgroundcolor": "#E5ECF6",
            "gridcolor": "white",
            "gridwidth": 2,
            "linecolor": "white",
            "showbackground": true,
            "ticks": "",
            "zerolinecolor": "white"
           },
           "yaxis": {
            "backgroundcolor": "#E5ECF6",
            "gridcolor": "white",
            "gridwidth": 2,
            "linecolor": "white",
            "showbackground": true,
            "ticks": "",
            "zerolinecolor": "white"
           },
           "zaxis": {
            "backgroundcolor": "#E5ECF6",
            "gridcolor": "white",
            "gridwidth": 2,
            "linecolor": "white",
            "showbackground": true,
            "ticks": "",
            "zerolinecolor": "white"
           }
          },
          "shapedefaults": {
           "line": {
            "color": "#2a3f5f"
           }
          },
          "ternary": {
           "aaxis": {
            "gridcolor": "white",
            "linecolor": "white",
            "ticks": ""
           },
           "baxis": {
            "gridcolor": "white",
            "linecolor": "white",
            "ticks": ""
           },
           "bgcolor": "#E5ECF6",
           "caxis": {
            "gridcolor": "white",
            "linecolor": "white",
            "ticks": ""
           }
          },
          "title": {
           "x": 0.05
          },
          "xaxis": {
           "automargin": true,
           "gridcolor": "white",
           "linecolor": "white",
           "ticks": "",
           "title": {
            "standoff": 15
           },
           "zerolinecolor": "white",
           "zerolinewidth": 2
          },
          "yaxis": {
           "automargin": true,
           "gridcolor": "white",
           "linecolor": "white",
           "ticks": "",
           "title": {
            "standoff": 15
           },
           "zerolinecolor": "white",
           "zerolinewidth": 2
          }
         }
        },
        "title": {
         "text": "EDF Graph"
        },
        "xaxis": {
         "dtick": 0.5,
         "tick0": 0.5,
         "tickmode": "linear",
         "title": {
          "text": "Time (s)"
         }
        },
        "yaxis": {
         "title": {
          "text": "Task"
         }
        }
       }
      },
      "text/html": [
       "<div>                            <div id=\"4b31fb89-bff8-4951-8b52-ec1ca70d1bb6\" class=\"plotly-graph-div\" style=\"height:525px; width:100%;\"></div>            <script type=\"text/javascript\">                require([\"plotly\"], function(Plotly) {                    window.PLOTLYENV=window.PLOTLYENV || {};                                    if (document.getElementById(\"4b31fb89-bff8-4951-8b52-ec1ca70d1bb6\")) {                    Plotly.newPlot(                        \"4b31fb89-bff8-4951-8b52-ec1ca70d1bb6\",                        [{\"base\": [0, 8], \"hovertemplate\": \"<b>Start:</b> %{base:.2f}s<br><b>Finish:</b> %{x:.2f}s<br><b>%{text}</b>\", \"name\": \"Task-0\", \"orientation\": \"h\", \"text\": [\"Frequency (Fm=1): 0.746\", \"Frequency (Fm=1): 0.546\"], \"type\": \"bar\", \"x\": [2.679425837320574, 1.8300653594771248], \"y\": [\"Task-0\", \"Task-0\"]}, {\"base\": [2.679425837320574, 10], \"hovertemplate\": \"<b>Start:</b> %{base:.2f}s<br><b>Finish:</b> %{x:.2f}s<br><b>%{text}</b>\", \"name\": \"Task-1\", \"orientation\": \"h\", \"text\": [\"Frequency (Fm=1): 0.621\", \"Frequency (Fm=1): 0.496\"], \"type\": \"bar\", \"x\": [1.6091954022988508, 2.014388489208633], \"y\": [\"Task-1\", \"Task-1\"]}, {\"base\": [4.288621239619425, 14], \"hovertemplate\": \"<b>Start:</b> %{base:.2f}s<br><b>Finish:</b> %{x:.2f}s<br><b>%{text}</b>\", \"name\": \"Task-2\", \"orientation\": \"h\", \"text\": [\"Frequency (Fm=1): 0.421\", \"Frequency (Fm=1): 0.296\"], \"type\": \"bar\", \"x\": [2.3728813559322033, 3.3734939759036138], \"y\": [\"Task-2\", \"Task-2\"]}],                        {\"shapes\": [{\"fillcolor\": \"#636EFA\", \"layer\": \"below\", \"line\": {\"width\": 0.1}, \"opacity\": 1, \"type\": \"rect\", \"x0\": 8, \"x1\": 8.05, \"xref\": \"x\", \"y0\": 0, \"y1\": 1, \"yref\": \"y domain\"}, {\"fillcolor\": \"#EF553B\", \"layer\": \"below\", \"line\": {\"width\": 0.1}, \"opacity\": 1, \"type\": \"rect\", \"x0\": 10, \"x1\": 10.05, \"xref\": \"x\", \"y0\": 0, \"y1\": 1, \"yref\": \"y domain\"}, {\"fillcolor\": \"#00CC96\", \"layer\": \"below\", \"line\": {\"width\": 0.1}, \"opacity\": 1, \"type\": \"rect\", \"x0\": 14, \"x1\": 14.05, \"xref\": \"x\", \"y0\": 0, \"y1\": 1, \"yref\": \"y domain\"}, {\"fillcolor\": \"#636EFA\", \"layer\": \"below\", \"line\": {\"width\": 0.1}, \"opacity\": 1, \"type\": \"rect\", \"x0\": 8, \"x1\": 8.05, \"xref\": \"x\", \"y0\": 0, \"y1\": 1, \"yref\": \"y domain\"}, {\"fillcolor\": \"#EF553B\", \"layer\": \"below\", \"line\": {\"width\": 0.1}, \"opacity\": 1, \"type\": \"rect\", \"x0\": 10, \"x1\": 10.05, \"xref\": \"x\", \"y0\": 0, \"y1\": 1, \"yref\": \"y domain\"}, {\"fillcolor\": \"#00CC96\", \"layer\": \"below\", \"line\": {\"width\": 0.1}, \"opacity\": 1, \"type\": \"rect\", \"x0\": 14, \"x1\": 14.05, \"xref\": \"x\", \"y0\": 0, \"y1\": 1, \"yref\": \"y domain\"}], \"template\": {\"data\": {\"bar\": [{\"error_x\": {\"color\": \"#2a3f5f\"}, \"error_y\": {\"color\": \"#2a3f5f\"}, \"marker\": {\"line\": {\"color\": \"#E5ECF6\", \"width\": 0.5}}, \"type\": \"bar\"}], \"barpolar\": [{\"marker\": {\"line\": {\"color\": \"#E5ECF6\", \"width\": 0.5}}, \"type\": \"barpolar\"}], \"carpet\": [{\"aaxis\": {\"endlinecolor\": \"#2a3f5f\", \"gridcolor\": \"white\", \"linecolor\": \"white\", \"minorgridcolor\": \"white\", \"startlinecolor\": \"#2a3f5f\"}, \"baxis\": {\"endlinecolor\": \"#2a3f5f\", \"gridcolor\": \"white\", \"linecolor\": \"white\", \"minorgridcolor\": \"white\", \"startlinecolor\": \"#2a3f5f\"}, \"type\": \"carpet\"}], \"choropleth\": [{\"colorbar\": {\"outlinewidth\": 0, \"ticks\": \"\"}, \"type\": \"choropleth\"}], \"contour\": [{\"colorbar\": {\"outlinewidth\": 0, \"ticks\": \"\"}, \"colorscale\": [[0.0, \"#0d0887\"], [0.1111111111111111, \"#46039f\"], [0.2222222222222222, \"#7201a8\"], [0.3333333333333333, \"#9c179e\"], [0.4444444444444444, \"#bd3786\"], [0.5555555555555556, \"#d8576b\"], [0.6666666666666666, \"#ed7953\"], [0.7777777777777778, \"#fb9f3a\"], [0.8888888888888888, \"#fdca26\"], [1.0, \"#f0f921\"]], \"type\": \"contour\"}], \"contourcarpet\": [{\"colorbar\": {\"outlinewidth\": 0, \"ticks\": \"\"}, \"type\": \"contourcarpet\"}], \"heatmap\": [{\"colorbar\": {\"outlinewidth\": 0, \"ticks\": \"\"}, \"colorscale\": [[0.0, \"#0d0887\"], [0.1111111111111111, \"#46039f\"], [0.2222222222222222, \"#7201a8\"], [0.3333333333333333, \"#9c179e\"], [0.4444444444444444, \"#bd3786\"], [0.5555555555555556, \"#d8576b\"], [0.6666666666666666, \"#ed7953\"], [0.7777777777777778, \"#fb9f3a\"], [0.8888888888888888, \"#fdca26\"], [1.0, \"#f0f921\"]], \"type\": \"heatmap\"}], \"heatmapgl\": [{\"colorbar\": {\"outlinewidth\": 0, \"ticks\": \"\"}, \"colorscale\": [[0.0, \"#0d0887\"], [0.1111111111111111, \"#46039f\"], [0.2222222222222222, \"#7201a8\"], [0.3333333333333333, \"#9c179e\"], [0.4444444444444444, \"#bd3786\"], [0.5555555555555556, \"#d8576b\"], [0.6666666666666666, \"#ed7953\"], [0.7777777777777778, \"#fb9f3a\"], [0.8888888888888888, \"#fdca26\"], [1.0, \"#f0f921\"]], \"type\": \"heatmapgl\"}], \"histogram\": [{\"marker\": {\"colorbar\": {\"outlinewidth\": 0, \"ticks\": \"\"}}, \"type\": \"histogram\"}], \"histogram2d\": [{\"colorbar\": {\"outlinewidth\": 0, \"ticks\": \"\"}, \"colorscale\": [[0.0, \"#0d0887\"], [0.1111111111111111, \"#46039f\"], [0.2222222222222222, \"#7201a8\"], [0.3333333333333333, \"#9c179e\"], [0.4444444444444444, \"#bd3786\"], [0.5555555555555556, \"#d8576b\"], [0.6666666666666666, \"#ed7953\"], [0.7777777777777778, \"#fb9f3a\"], [0.8888888888888888, \"#fdca26\"], [1.0, \"#f0f921\"]], \"type\": \"histogram2d\"}], \"histogram2dcontour\": [{\"colorbar\": {\"outlinewidth\": 0, \"ticks\": \"\"}, \"colorscale\": [[0.0, \"#0d0887\"], [0.1111111111111111, \"#46039f\"], [0.2222222222222222, \"#7201a8\"], [0.3333333333333333, \"#9c179e\"], [0.4444444444444444, \"#bd3786\"], [0.5555555555555556, \"#d8576b\"], [0.6666666666666666, \"#ed7953\"], [0.7777777777777778, \"#fb9f3a\"], [0.8888888888888888, \"#fdca26\"], [1.0, \"#f0f921\"]], \"type\": \"histogram2dcontour\"}], \"mesh3d\": [{\"colorbar\": {\"outlinewidth\": 0, \"ticks\": \"\"}, \"type\": \"mesh3d\"}], \"parcoords\": [{\"line\": {\"colorbar\": {\"outlinewidth\": 0, \"ticks\": \"\"}}, \"type\": \"parcoords\"}], \"pie\": [{\"automargin\": true, \"type\": \"pie\"}], \"scatter\": [{\"marker\": {\"colorbar\": {\"outlinewidth\": 0, \"ticks\": \"\"}}, \"type\": \"scatter\"}], \"scatter3d\": [{\"line\": {\"colorbar\": {\"outlinewidth\": 0, \"ticks\": \"\"}}, \"marker\": {\"colorbar\": {\"outlinewidth\": 0, \"ticks\": \"\"}}, \"type\": \"scatter3d\"}], \"scattercarpet\": [{\"marker\": {\"colorbar\": {\"outlinewidth\": 0, \"ticks\": \"\"}}, \"type\": \"scattercarpet\"}], \"scattergeo\": [{\"marker\": {\"colorbar\": {\"outlinewidth\": 0, \"ticks\": \"\"}}, \"type\": \"scattergeo\"}], \"scattergl\": [{\"marker\": {\"colorbar\": {\"outlinewidth\": 0, \"ticks\": \"\"}}, \"type\": \"scattergl\"}], \"scattermapbox\": [{\"marker\": {\"colorbar\": {\"outlinewidth\": 0, \"ticks\": \"\"}}, \"type\": \"scattermapbox\"}], \"scatterpolar\": [{\"marker\": {\"colorbar\": {\"outlinewidth\": 0, \"ticks\": \"\"}}, \"type\": \"scatterpolar\"}], \"scatterpolargl\": [{\"marker\": {\"colorbar\": {\"outlinewidth\": 0, \"ticks\": \"\"}}, \"type\": \"scatterpolargl\"}], \"scatterternary\": [{\"marker\": {\"colorbar\": {\"outlinewidth\": 0, \"ticks\": \"\"}}, \"type\": \"scatterternary\"}], \"surface\": [{\"colorbar\": {\"outlinewidth\": 0, \"ticks\": \"\"}, \"colorscale\": [[0.0, \"#0d0887\"], [0.1111111111111111, \"#46039f\"], [0.2222222222222222, \"#7201a8\"], [0.3333333333333333, \"#9c179e\"], [0.4444444444444444, \"#bd3786\"], [0.5555555555555556, \"#d8576b\"], [0.6666666666666666, \"#ed7953\"], [0.7777777777777778, \"#fb9f3a\"], [0.8888888888888888, \"#fdca26\"], [1.0, \"#f0f921\"]], \"type\": \"surface\"}], \"table\": [{\"cells\": {\"fill\": {\"color\": \"#EBF0F8\"}, \"line\": {\"color\": \"white\"}}, \"header\": {\"fill\": {\"color\": \"#C8D4E3\"}, \"line\": {\"color\": \"white\"}}, \"type\": \"table\"}]}, \"layout\": {\"annotationdefaults\": {\"arrowcolor\": \"#2a3f5f\", \"arrowhead\": 0, \"arrowwidth\": 1}, \"coloraxis\": {\"colorbar\": {\"outlinewidth\": 0, \"ticks\": \"\"}}, \"colorscale\": {\"diverging\": [[0, \"#8e0152\"], [0.1, \"#c51b7d\"], [0.2, \"#de77ae\"], [0.3, \"#f1b6da\"], [0.4, \"#fde0ef\"], [0.5, \"#f7f7f7\"], [0.6, \"#e6f5d0\"], [0.7, \"#b8e186\"], [0.8, \"#7fbc41\"], [0.9, \"#4d9221\"], [1, \"#276419\"]], \"sequential\": [[0.0, \"#0d0887\"], [0.1111111111111111, \"#46039f\"], [0.2222222222222222, \"#7201a8\"], [0.3333333333333333, \"#9c179e\"], [0.4444444444444444, \"#bd3786\"], [0.5555555555555556, \"#d8576b\"], [0.6666666666666666, \"#ed7953\"], [0.7777777777777778, \"#fb9f3a\"], [0.8888888888888888, \"#fdca26\"], [1.0, \"#f0f921\"]], \"sequentialminus\": [[0.0, \"#0d0887\"], [0.1111111111111111, \"#46039f\"], [0.2222222222222222, \"#7201a8\"], [0.3333333333333333, \"#9c179e\"], [0.4444444444444444, \"#bd3786\"], [0.5555555555555556, \"#d8576b\"], [0.6666666666666666, \"#ed7953\"], [0.7777777777777778, \"#fb9f3a\"], [0.8888888888888888, \"#fdca26\"], [1.0, \"#f0f921\"]]}, \"colorway\": [\"#636efa\", \"#EF553B\", \"#00cc96\", \"#ab63fa\", \"#FFA15A\", \"#19d3f3\", \"#FF6692\", \"#B6E880\", \"#FF97FF\", \"#FECB52\"], \"font\": {\"color\": \"#2a3f5f\"}, \"geo\": {\"bgcolor\": \"white\", \"lakecolor\": \"white\", \"landcolor\": \"#E5ECF6\", \"showlakes\": true, \"showland\": true, \"subunitcolor\": \"white\"}, \"hoverlabel\": {\"align\": \"left\"}, \"hovermode\": \"closest\", \"mapbox\": {\"style\": \"light\"}, \"paper_bgcolor\": \"white\", \"plot_bgcolor\": \"#E5ECF6\", \"polar\": {\"angularaxis\": {\"gridcolor\": \"white\", \"linecolor\": \"white\", \"ticks\": \"\"}, \"bgcolor\": \"#E5ECF6\", \"radialaxis\": {\"gridcolor\": \"white\", \"linecolor\": \"white\", \"ticks\": \"\"}}, \"scene\": {\"xaxis\": {\"backgroundcolor\": \"#E5ECF6\", \"gridcolor\": \"white\", \"gridwidth\": 2, \"linecolor\": \"white\", \"showbackground\": true, \"ticks\": \"\", \"zerolinecolor\": \"white\"}, \"yaxis\": {\"backgroundcolor\": \"#E5ECF6\", \"gridcolor\": \"white\", \"gridwidth\": 2, \"linecolor\": \"white\", \"showbackground\": true, \"ticks\": \"\", \"zerolinecolor\": \"white\"}, \"zaxis\": {\"backgroundcolor\": \"#E5ECF6\", \"gridcolor\": \"white\", \"gridwidth\": 2, \"linecolor\": \"white\", \"showbackground\": true, \"ticks\": \"\", \"zerolinecolor\": \"white\"}}, \"shapedefaults\": {\"line\": {\"color\": \"#2a3f5f\"}}, \"ternary\": {\"aaxis\": {\"gridcolor\": \"white\", \"linecolor\": \"white\", \"ticks\": \"\"}, \"baxis\": {\"gridcolor\": \"white\", \"linecolor\": \"white\", \"ticks\": \"\"}, \"bgcolor\": \"#E5ECF6\", \"caxis\": {\"gridcolor\": \"white\", \"linecolor\": \"white\", \"ticks\": \"\"}}, \"title\": {\"x\": 0.05}, \"xaxis\": {\"automargin\": true, \"gridcolor\": \"white\", \"linecolor\": \"white\", \"ticks\": \"\", \"title\": {\"standoff\": 15}, \"zerolinecolor\": \"white\", \"zerolinewidth\": 2}, \"yaxis\": {\"automargin\": true, \"gridcolor\": \"white\", \"linecolor\": \"white\", \"ticks\": \"\", \"title\": {\"standoff\": 15}, \"zerolinecolor\": \"white\", \"zerolinewidth\": 2}}}, \"title\": {\"text\": \"EDF Graph\"}, \"xaxis\": {\"dtick\": 0.5, \"tick0\": 0.5, \"tickmode\": \"linear\", \"title\": {\"text\": \"Time (s)\"}}, \"yaxis\": {\"title\": {\"text\": \"Task\"}}},                        {\"responsive\": true}                    ).then(function(){\n",
       "                            \n",
       "var gd = document.getElementById('4b31fb89-bff8-4951-8b52-ec1ca70d1bb6');\n",
       "var x = new MutationObserver(function (mutations, observer) {{\n",
       "        var display = window.getComputedStyle(gd).display;\n",
       "        if (!display || display === 'none') {{\n",
       "            console.log([gd, 'removed!']);\n",
       "            Plotly.purge(gd);\n",
       "            observer.disconnect();\n",
       "        }}\n",
       "}});\n",
       "\n",
       "// Listen for the removal of the full notebook cells\n",
       "var notebookContainer = gd.closest('#notebook-container');\n",
       "if (notebookContainer) {{\n",
       "    x.observe(notebookContainer, {childList: true});\n",
       "}}\n",
       "\n",
       "// Listen for the clearing of the current output cell\n",
       "var outputEl = gd.closest('.output');\n",
       "if (outputEl) {{\n",
       "    x.observe(outputEl, {childList: true});\n",
       "}}\n",
       "\n",
       "                        })                };                });            </script>        </div>"
      ]
     },
     "metadata": {},
     "output_type": "display_data"
    },
    {
     "data": {
      "application/javascript": [
       "\n",
       "            setTimeout(function() {\n",
       "                var nbb_cell_id = 98;\n",
       "                var nbb_unformatted_code = \"# Render graph\\nimport plotly.express as px\\n\\ndata, deadlines = fig_edf_data(df_params)\\n# shapes = fig_period_layout(df_params)\\n# shapes = [\\n#     dict(\\n#         type=\\\"line\\\",\\n#         xref=\\\"x\\\",\\n#         yref=\\\"y\\\",\\n#         x0=2.5,\\n#         y0=0,\\n#         x1=2.5,\\n#         y1=\\\"Task-0\\\",\\n#         line=dict(color=\\\"Red\\\", width=3),\\n#     )\\n# ]\\n\\nfig = go.Figure(data=data)\\nfig.update_layout(\\n    title=\\\"EDF Graph\\\",\\n    xaxis_title=\\\"Time (s)\\\",\\n    yaxis_title=\\\"Task\\\",\\n    #     shapes=shapes,\\n    xaxis=dict(tickmode=\\\"linear\\\", tick0=0.5, dtick=0.5),\\n)\\n\\ndf_params[\\\"Period\\\"]\\ndf_invoc = df_params.filter(regex=\\\"Invocation\\\")\\nnum_cols = len(df_invoc.columns)\\ncolors = px.colors.qualitative.Plotly\\nfor invoc in range(num_cols):\\n    for task_idx, period in enumerate(df_params[\\\"Period\\\"]):    \\n        fig.add_vrect(\\n            x0=period,\\n            x1=period + 0.05,\\n            fillcolor=colors[task_idx],\\n            opacity=1,\\n            layer=\\\"below\\\",\\n            line_width=0.1,\\n        )\\n\\nfig.show()\";\n",
       "                var nbb_formatted_code = \"# Render graph\\nimport plotly.express as px\\n\\ndata, deadlines = fig_edf_data(df_params)\\n# shapes = fig_period_layout(df_params)\\n# shapes = [\\n#     dict(\\n#         type=\\\"line\\\",\\n#         xref=\\\"x\\\",\\n#         yref=\\\"y\\\",\\n#         x0=2.5,\\n#         y0=0,\\n#         x1=2.5,\\n#         y1=\\\"Task-0\\\",\\n#         line=dict(color=\\\"Red\\\", width=3),\\n#     )\\n# ]\\n\\nfig = go.Figure(data=data)\\nfig.update_layout(\\n    title=\\\"EDF Graph\\\",\\n    xaxis_title=\\\"Time (s)\\\",\\n    yaxis_title=\\\"Task\\\",\\n    #     shapes=shapes,\\n    xaxis=dict(tickmode=\\\"linear\\\", tick0=0.5, dtick=0.5),\\n)\\n\\ndf_params[\\\"Period\\\"]\\ndf_invoc = df_params.filter(regex=\\\"Invocation\\\")\\nnum_cols = len(df_invoc.columns)\\ncolors = px.colors.qualitative.Plotly\\nfor invoc in range(num_cols):\\n    for task_idx, period in enumerate(df_params[\\\"Period\\\"]):\\n        fig.add_vrect(\\n            x0=period,\\n            x1=period + 0.05,\\n            fillcolor=colors[task_idx],\\n            opacity=1,\\n            layer=\\\"below\\\",\\n            line_width=0.1,\\n        )\\n\\nfig.show()\";\n",
       "                var nbb_cells = Jupyter.notebook.get_cells();\n",
       "                for (var i = 0; i < nbb_cells.length; ++i) {\n",
       "                    if (nbb_cells[i].input_prompt_number == nbb_cell_id) {\n",
       "                        if (nbb_cells[i].get_text() == nbb_unformatted_code) {\n",
       "                             nbb_cells[i].set_text(nbb_formatted_code);\n",
       "                        }\n",
       "                        break;\n",
       "                    }\n",
       "                }\n",
       "            }, 500);\n",
       "            "
      ],
      "text/plain": [
       "<IPython.core.display.Javascript object>"
      ]
     },
     "metadata": {},
     "output_type": "display_data"
    }
   ],
   "source": [
    "# Render graph\n",
    "import plotly.express as px\n",
    "\n",
    "data, deadlines = fig_edf_data(df_params)\n",
    "\n",
    "fig = go.Figure(data=data)\n",
    "fig.update_layout(\n",
    "    title=\"EDF Graph\",\n",
    "    xaxis_title=\"Time (s)\",\n",
    "    yaxis_title=\"Task\",\n",
    "    #     shapes=shapes,\n",
    "    xaxis=dict(tickmode=\"linear\", tick0=0.5, dtick=0.5),\n",
    ")\n",
    "\n",
    "df_invoc = df_params.filter(regex=\"Invocation\")\n",
    "num_cols = len(df_invoc.columns)\n",
    "colors = px.colors.qualitative.Plotly\n",
    "for invoc in range(num_cols):\n",
    "    for task_idx, period in enumerate(df_params[\"Period\"]):    \n",
    "        fig.add_vrect(\n",
    "            x0=period,\n",
    "            x1=period + 0.05,\n",
    "            fillcolor=colors[task_idx],\n",
    "            opacity=1,\n",
    "            layer=\"below\",\n",
    "            line_width=0.1,\n",
    "        )\n",
    "\n",
    "fig.show()\n",
    "\n"
   ]
  },
  {
   "cell_type": "code",
   "execution_count": 103,
   "metadata": {},
   "outputs": [
    {
     "name": "stdout",
     "output_type": "stream",
     "text": [
      "Dash app running on http://127.0.0.1:8050/\n"
     ]
    },
    {
     "data": {
      "application/javascript": [
       "\n",
       "            setTimeout(function() {\n",
       "                var nbb_cell_id = 103;\n",
       "                var nbb_unformatted_code = \"import dash_table as dt\\nimport dash_core_components as dcc\\nimport dash_html_components as html\\nfrom dash.dependencies import Input, Output, State\\nfrom dash.exceptions import PreventUpdate\\nimport pandas as pd\\nimport plotly.graph_objects as go\\nfrom jupyter_dash import JupyterDash\\n\\n\\n# Build App\\ntable_data, table_cols = generate_init_data()\\n\\napp = JupyterDash(__name__)\\napp.layout = html.Div(\\n    [\\n        # Header\\n        html.Div(\\n            [\\n                html.H1(\\\"ENGR 467 - Cycle Conserving EDF Algorithim\\\"),\\n            ]\\n        ),\\n        html.Div(\\n            [\\n                html.H2(\\n                    \\\"Please enter each task in the order of shortest period to longest period\\\"\\n                ),\\n                html.Div(\\n                    [\\n                        dt.DataTable(\\n                            id=\\\"fm-table\\\",\\n                            columns=table_cols,\\n                            data=table_data,\\n                            editable=True,\\n                            row_deletable=True,\\n                        )\\n                    ],\\n                    style={\\\"margin\\\": \\\"1.5% 0%\\\"},\\n                    className=\\\"row\\\",\\n                ),\\n                html.Div(\\n                    [\\n                        html.Div(\\n                            [\\n                                html.Label(\\\"Select Fm\\\"),\\n                                dcc.Dropdown(\\n                                    id=\\\"fm-dropdown\\\",\\n                                    options=[\\n                                        {\\n                                            \\\"label\\\": \\\"Fm (All Frequencies)\\\",\\n                                            \\\"value\\\": 0,\\n                                        },\\n                                        {\\n                                            \\\"label\\\": \\\"Fm, 0.75Fm, & 0.5Fm\\\",\\n                                            \\\"value\\\": 1,\\n                                        },\\n                                    ],\\n                                    value=0,\\n                                ),\\n                            ],\\n                            className=\\\"three columns\\\",\\n                        ),\\n                        html.Div(\\n                            [\\n                                html.Br(),\\n                                html.Button(\\n                                    \\\"Add Invocation\\\",\\n                                    id=\\\"invocation-button\\\",\\n                                    n_clicks=0,\\n                                    style={\\\"width\\\": \\\"100%\\\"},\\n                                ),\\n                            ],\\n                            className=\\\"three columns\\\",\\n                        ),\\n                        html.Div(\\n                            [\\n                                html.Br(),\\n                                html.Button(\\n                                    \\\"Add Task\\\",\\n                                    id=\\\"rows-button\\\",\\n                                    n_clicks=0,\\n                                    style={\\\"width\\\": \\\"100%\\\"},\\n                                ),\\n                            ],\\n                            className=\\\"two columns\\\",\\n                        ),\\n                        html.Div(\\n                            [\\n                                html.Br(),\\n                                html.Button(\\n                                    \\\"Run\\\",\\n                                    id=\\\"run-button\\\",\\n                                    style={\\\"float\\\": \\\"right\\\", \\\"width\\\": \\\"40%\\\"},\\n                                ),\\n                            ],\\n                            className=\\\"four columns\\\",\\n                        ),\\n                    ],\\n                    style={\\\"margin\\\": \\\"1.5% 0%\\\"},\\n                    className=\\\"row\\\",\\n                ),\\n            ],\\n            className=\\\"row\\\",\\n        ),\\n        html.Div(\\n            [\\n                dcc.Graph(id=\\\"fm-graph\\\"),\\n            ],\\n        ),\\n        dcc.Store(id=\\\"invocation-store\\\", data=2),\\n    ],\\n    style={\\\"margin\\\": \\\"0% 1%\\\"},\\n)\\n\\n# Update graph with algorithim\\n@app.callback(\\n    Output(\\\"fm-graph\\\", \\\"figure\\\"),\\n    [Input(\\\"run-button\\\", \\\"n_clicks\\\")],\\n    [\\n        State(\\\"fm-table\\\", \\\"columns\\\"),\\n        State(\\\"fm-table\\\", \\\"data\\\"),\\n        State(\\\"fm-dropdown\\\", \\\"value\\\"),\\n    ],\\n)\\ndef update_figure(run_button, table_cols, table_data, fm_all):\\n    df_params = pd.DataFrame(table_data)\\n    data, deadline = fig_edf_data(df_params, fm_all=fm_all, fm_val=1)\\n    shapes = fig_period_layout(df_params)\\n    fig = go.Figure(data=data)\\n\\n    # Draw deadline\\n    if deadline[\\\"state\\\"]:\\n        title = \\\"EDF Graph:  Schedulable?  No!\\\"\\n        fig.add_annotation(\\n            x=deadline[\\\"x\\\"],\\n            y=deadline[\\\"y\\\"],\\n            text=\\\"Deadline Missed!\\\",\\n            showarrow=True,\\n            arrowhead=1,\\n        )\\n    else:\\n        title = \\\"EDF Graph:  Schedulable?  Yes!\\\"\\n\\n    fig.update_layout(\\n        title=title,\\n        xaxis_title=\\\"Time (s)\\\",\\n        yaxis_title=\\\"Task\\\",\\n        shapes=shapes,\\n        xaxis=dict(tickmode=\\\"linear\\\", tick0=0.5, dtick=0.5, fixedrange=True),\\n        yaxis=dict(fixedrange=True),\\n    )\\n\\n    # Draw periods on figure\\n    df_invoc = df_params.filter(regex=\\\"Invocation\\\")\\n    num_cols = len(df_invoc.columns)\\n    colors = px.colors.qualitative.Plotly\\n    for invoc in range(num_cols):\\n        for task_idx, period in enumerate(df_params[\\\"Period\\\"]):\\n            fig.add_vrect(\\n                x0=period,\\n                x1=period + 0.05,\\n                fillcolor=colors[task_idx],\\n                opacity=1,\\n                layer=\\\"below\\\",\\n                line_width=0.1,\\n            )\\n\\n    return fig\\n\\n\\n# Add invocation table column\\n@app.callback(\\n    [\\n        Output(\\\"invocation-store\\\", \\\"data\\\"),\\n        Output(\\\"fm-table\\\", \\\"columns\\\"),\\n    ],\\n    [Input(\\\"invocation-button\\\", \\\"n_clicks\\\")],\\n    [\\n        State(\\\"fm-table\\\", \\\"columns\\\"),\\n        State(\\\"fm-table\\\", \\\"data\\\"),\\n        State(\\\"invocation-store\\\", \\\"data\\\"),\\n    ],\\n)\\ndef add_table_col(invocation_button, table_cols, table_data, invoc_num):\\n    if invocation_button > 0:\\n        invoc_num += 1\\n        invoc_name = \\\"Invocation-{}\\\".format(invoc_num)\\n        table_cols.append(\\n            {\\\"id\\\": invoc_name, \\\"name\\\": invoc_name, \\\"deletable\\\": True, \\\"type\\\": \\\"numeric\\\"}\\n        )\\n    return invoc_num, table_cols\\n\\n\\n# Add rows to table\\n@app.callback(\\n    Output(\\\"fm-table\\\", \\\"data\\\"),\\n    [Input(\\\"rows-button\\\", \\\"n_clicks\\\")],\\n    [State(\\\"fm-table\\\", \\\"data\\\"), State(\\\"fm-table\\\", \\\"columns\\\")],\\n)\\ndef add_rows(rows_button, table_rows, table_cols):\\n    if rows_button > 0:\\n        row_default_data = {c[\\\"id\\\"]: None for c in table_cols}\\n        row_default_data[table_cols[0][\\\"id\\\"]] = len(table_rows)\\n        table_rows.append(row_default_data)\\n    return table_rows\\n\\n\\napp.run_server(mode=\\\"external\\\")\";\n",
       "                var nbb_formatted_code = \"import dash_table as dt\\nimport dash_core_components as dcc\\nimport dash_html_components as html\\nfrom dash.dependencies import Input, Output, State\\nfrom dash.exceptions import PreventUpdate\\nimport pandas as pd\\nimport plotly.graph_objects as go\\nfrom jupyter_dash import JupyterDash\\n\\n\\n# Build App\\ntable_data, table_cols = generate_init_data()\\n\\napp = JupyterDash(__name__)\\napp.layout = html.Div(\\n    [\\n        # Header\\n        html.Div(\\n            [\\n                html.H1(\\\"ENGR 467 - Cycle Conserving EDF Algorithim\\\"),\\n            ]\\n        ),\\n        html.Div(\\n            [\\n                html.H2(\\n                    \\\"Please enter each task in the order of shortest period to longest period\\\"\\n                ),\\n                html.Div(\\n                    [\\n                        dt.DataTable(\\n                            id=\\\"fm-table\\\",\\n                            columns=table_cols,\\n                            data=table_data,\\n                            editable=True,\\n                            row_deletable=True,\\n                        )\\n                    ],\\n                    style={\\\"margin\\\": \\\"1.5% 0%\\\"},\\n                    className=\\\"row\\\",\\n                ),\\n                html.Div(\\n                    [\\n                        html.Div(\\n                            [\\n                                html.Label(\\\"Select Fm\\\"),\\n                                dcc.Dropdown(\\n                                    id=\\\"fm-dropdown\\\",\\n                                    options=[\\n                                        {\\n                                            \\\"label\\\": \\\"Fm (All Frequencies)\\\",\\n                                            \\\"value\\\": 0,\\n                                        },\\n                                        {\\n                                            \\\"label\\\": \\\"Fm, 0.75Fm, & 0.5Fm\\\",\\n                                            \\\"value\\\": 1,\\n                                        },\\n                                    ],\\n                                    value=0,\\n                                ),\\n                            ],\\n                            className=\\\"three columns\\\",\\n                        ),\\n                        html.Div(\\n                            [\\n                                html.Br(),\\n                                html.Button(\\n                                    \\\"Add Invocation\\\",\\n                                    id=\\\"invocation-button\\\",\\n                                    n_clicks=0,\\n                                    style={\\\"width\\\": \\\"100%\\\"},\\n                                ),\\n                            ],\\n                            className=\\\"three columns\\\",\\n                        ),\\n                        html.Div(\\n                            [\\n                                html.Br(),\\n                                html.Button(\\n                                    \\\"Add Task\\\",\\n                                    id=\\\"rows-button\\\",\\n                                    n_clicks=0,\\n                                    style={\\\"width\\\": \\\"100%\\\"},\\n                                ),\\n                            ],\\n                            className=\\\"two columns\\\",\\n                        ),\\n                        html.Div(\\n                            [\\n                                html.Br(),\\n                                html.Button(\\n                                    \\\"Run\\\",\\n                                    id=\\\"run-button\\\",\\n                                    style={\\\"float\\\": \\\"right\\\", \\\"width\\\": \\\"40%\\\"},\\n                                ),\\n                            ],\\n                            className=\\\"four columns\\\",\\n                        ),\\n                    ],\\n                    style={\\\"margin\\\": \\\"1.5% 0%\\\"},\\n                    className=\\\"row\\\",\\n                ),\\n            ],\\n            className=\\\"row\\\",\\n        ),\\n        html.Div(\\n            [\\n                dcc.Graph(id=\\\"fm-graph\\\"),\\n            ],\\n        ),\\n        dcc.Store(id=\\\"invocation-store\\\", data=2),\\n    ],\\n    style={\\\"margin\\\": \\\"0% 1%\\\"},\\n)\\n\\n# Update graph with algorithim\\n@app.callback(\\n    Output(\\\"fm-graph\\\", \\\"figure\\\"),\\n    [Input(\\\"run-button\\\", \\\"n_clicks\\\")],\\n    [\\n        State(\\\"fm-table\\\", \\\"columns\\\"),\\n        State(\\\"fm-table\\\", \\\"data\\\"),\\n        State(\\\"fm-dropdown\\\", \\\"value\\\"),\\n    ],\\n)\\ndef update_figure(run_button, table_cols, table_data, fm_all):\\n    df_params = pd.DataFrame(table_data)\\n    data, deadline = fig_edf_data(df_params, fm_all=fm_all, fm_val=1)\\n    shapes = fig_period_layout(df_params)\\n    fig = go.Figure(data=data)\\n\\n    # Draw deadline\\n    if deadline[\\\"state\\\"]:\\n        title = \\\"EDF Graph:  Schedulable?  No!\\\"\\n        fig.add_annotation(\\n            x=deadline[\\\"x\\\"],\\n            y=deadline[\\\"y\\\"],\\n            text=\\\"Deadline Missed!\\\",\\n            showarrow=True,\\n            arrowhead=1,\\n        )\\n    else:\\n        title = \\\"EDF Graph:  Schedulable?  Yes!\\\"\\n\\n    fig.update_layout(\\n        title=title,\\n        xaxis_title=\\\"Time (s)\\\",\\n        yaxis_title=\\\"Task\\\",\\n        shapes=shapes,\\n        xaxis=dict(tickmode=\\\"linear\\\", tick0=0.5, dtick=0.5, fixedrange=True),\\n        yaxis=dict(fixedrange=True),\\n    )\\n\\n    # Draw periods on figure\\n    df_invoc = df_params.filter(regex=\\\"Invocation\\\")\\n    num_cols = len(df_invoc.columns)\\n    colors = px.colors.qualitative.Plotly\\n    for invoc in range(num_cols):\\n        for task_idx, period in enumerate(df_params[\\\"Period\\\"]):\\n            fig.add_vrect(\\n                x0=period,\\n                x1=period + 0.05,\\n                fillcolor=colors[task_idx],\\n                opacity=1,\\n                layer=\\\"below\\\",\\n                line_width=0.1,\\n            )\\n\\n    return fig\\n\\n\\n# Add invocation table column\\n@app.callback(\\n    [\\n        Output(\\\"invocation-store\\\", \\\"data\\\"),\\n        Output(\\\"fm-table\\\", \\\"columns\\\"),\\n    ],\\n    [Input(\\\"invocation-button\\\", \\\"n_clicks\\\")],\\n    [\\n        State(\\\"fm-table\\\", \\\"columns\\\"),\\n        State(\\\"fm-table\\\", \\\"data\\\"),\\n        State(\\\"invocation-store\\\", \\\"data\\\"),\\n    ],\\n)\\ndef add_table_col(invocation_button, table_cols, table_data, invoc_num):\\n    if invocation_button > 0:\\n        invoc_num += 1\\n        invoc_name = \\\"Invocation-{}\\\".format(invoc_num)\\n        table_cols.append(\\n            {\\\"id\\\": invoc_name, \\\"name\\\": invoc_name, \\\"deletable\\\": True, \\\"type\\\": \\\"numeric\\\"}\\n        )\\n    return invoc_num, table_cols\\n\\n\\n# Add rows to table\\n@app.callback(\\n    Output(\\\"fm-table\\\", \\\"data\\\"),\\n    [Input(\\\"rows-button\\\", \\\"n_clicks\\\")],\\n    [State(\\\"fm-table\\\", \\\"data\\\"), State(\\\"fm-table\\\", \\\"columns\\\")],\\n)\\ndef add_rows(rows_button, table_rows, table_cols):\\n    if rows_button > 0:\\n        row_default_data = {c[\\\"id\\\"]: None for c in table_cols}\\n        row_default_data[table_cols[0][\\\"id\\\"]] = len(table_rows)\\n        table_rows.append(row_default_data)\\n    return table_rows\\n\\n\\napp.run_server(mode=\\\"external\\\")\";\n",
       "                var nbb_cells = Jupyter.notebook.get_cells();\n",
       "                for (var i = 0; i < nbb_cells.length; ++i) {\n",
       "                    if (nbb_cells[i].input_prompt_number == nbb_cell_id) {\n",
       "                        if (nbb_cells[i].get_text() == nbb_unformatted_code) {\n",
       "                             nbb_cells[i].set_text(nbb_formatted_code);\n",
       "                        }\n",
       "                        break;\n",
       "                    }\n",
       "                }\n",
       "            }, 500);\n",
       "            "
      ],
      "text/plain": [
       "<IPython.core.display.Javascript object>"
      ]
     },
     "metadata": {},
     "output_type": "display_data"
    }
   ],
   "source": [
    "import dash_table as dt\n",
    "import dash_core_components as dcc\n",
    "import dash_html_components as html\n",
    "from dash.dependencies import Input, Output, State\n",
    "from dash.exceptions import PreventUpdate\n",
    "import pandas as pd\n",
    "import plotly.graph_objects as go\n",
    "from jupyter_dash import JupyterDash\n",
    "\n",
    "\n",
    "# Build App\n",
    "table_data, table_cols = generate_init_data()\n",
    "\n",
    "app = JupyterDash(__name__)\n",
    "app.layout = html.Div(\n",
    "    [\n",
    "        # Header\n",
    "        html.Div(\n",
    "            [\n",
    "                html.H1(\"ENGR 467 - Cycle Conserving EDF Algorithim\"),\n",
    "            ]\n",
    "        ),\n",
    "        html.Div(\n",
    "            [\n",
    "                html.H2(\n",
    "                    \"Please enter each task in the order of shortest period to longest period\"\n",
    "                ),\n",
    "                html.Div(\n",
    "                    [\n",
    "                        dt.DataTable(\n",
    "                            id=\"fm-table\",\n",
    "                            columns=table_cols,\n",
    "                            data=table_data,\n",
    "                            editable=True,\n",
    "                            row_deletable=True,\n",
    "                        )\n",
    "                    ],\n",
    "                    style={\"margin\": \"1.5% 0%\"},\n",
    "                    className=\"row\",\n",
    "                ),\n",
    "                html.Div(\n",
    "                    [\n",
    "                        html.Div(\n",
    "                            [\n",
    "                                html.Label(\"Select Fm\"),\n",
    "                                dcc.Dropdown(\n",
    "                                    id=\"fm-dropdown\",\n",
    "                                    options=[\n",
    "                                        {\n",
    "                                            \"label\": \"Fm (All Frequencies)\",\n",
    "                                            \"value\": 0,\n",
    "                                        },\n",
    "                                        {\n",
    "                                            \"label\": \"Fm, 0.75Fm, & 0.5Fm\",\n",
    "                                            \"value\": 1,\n",
    "                                        },\n",
    "                                    ],\n",
    "                                    value=0,\n",
    "                                ),\n",
    "                            ],\n",
    "                            className=\"three columns\",\n",
    "                        ),\n",
    "                        html.Div(\n",
    "                            [\n",
    "                                html.Br(),\n",
    "                                html.Button(\n",
    "                                    \"Add Invocation\",\n",
    "                                    id=\"invocation-button\",\n",
    "                                    n_clicks=0,\n",
    "                                    style={\"width\": \"100%\"},\n",
    "                                ),\n",
    "                            ],\n",
    "                            className=\"three columns\",\n",
    "                        ),\n",
    "                        html.Div(\n",
    "                            [\n",
    "                                html.Br(),\n",
    "                                html.Button(\n",
    "                                    \"Add Task\",\n",
    "                                    id=\"rows-button\",\n",
    "                                    n_clicks=0,\n",
    "                                    style={\"width\": \"100%\"},\n",
    "                                ),\n",
    "                            ],\n",
    "                            className=\"two columns\",\n",
    "                        ),\n",
    "                        html.Div(\n",
    "                            [\n",
    "                                html.Br(),\n",
    "                                html.Button(\n",
    "                                    \"Run\",\n",
    "                                    id=\"run-button\",\n",
    "                                    style={\"float\": \"right\", \"width\": \"40%\"},\n",
    "                                ),\n",
    "                            ],\n",
    "                            className=\"four columns\",\n",
    "                        ),\n",
    "                    ],\n",
    "                    style={\"margin\": \"1.5% 0%\"},\n",
    "                    className=\"row\",\n",
    "                ),\n",
    "            ],\n",
    "            className=\"row\",\n",
    "        ),\n",
    "        html.Div(\n",
    "            [\n",
    "                dcc.Graph(id=\"fm-graph\"),\n",
    "            ],\n",
    "        ),\n",
    "        dcc.Store(id=\"invocation-store\", data=2),\n",
    "    ],\n",
    "    style={\"margin\": \"0% 1%\"},\n",
    ")\n",
    "\n",
    "# Update graph with algorithim\n",
    "@app.callback(\n",
    "    Output(\"fm-graph\", \"figure\"),\n",
    "    [Input(\"run-button\", \"n_clicks\")],\n",
    "    [\n",
    "        State(\"fm-table\", \"columns\"),\n",
    "        State(\"fm-table\", \"data\"),\n",
    "        State(\"fm-dropdown\", \"value\"),\n",
    "    ],\n",
    ")\n",
    "def update_figure(run_button, table_cols, table_data, fm_all):\n",
    "    df_params = pd.DataFrame(table_data)\n",
    "    data, deadline = fig_edf_data(df_params, fm_all=fm_all, fm_val=1)\n",
    "    shapes = fig_period_layout(df_params)\n",
    "    fig = go.Figure(data=data)\n",
    "\n",
    "    # Draw deadline\n",
    "    if deadline[\"state\"]:\n",
    "        title = \"EDF Graph:  Schedulable?  No!\"\n",
    "        fig.add_annotation(\n",
    "            x=deadline[\"x\"],\n",
    "            y=deadline[\"y\"],\n",
    "            text=\"Deadline Missed!\",\n",
    "            showarrow=True,\n",
    "            arrowhead=1,\n",
    "        )\n",
    "    else:\n",
    "        title = \"EDF Graph:  Schedulable?  Yes!\"\n",
    "\n",
    "    fig.update_layout(\n",
    "        title=title,\n",
    "        xaxis_title=\"Time (s)\",\n",
    "        yaxis_title=\"Task\",\n",
    "        shapes=shapes,\n",
    "        xaxis=dict(tickmode=\"linear\", tick0=0.5, dtick=0.5, fixedrange=True),\n",
    "        yaxis=dict(fixedrange=True),\n",
    "    )\n",
    "\n",
    "    # Draw periods on figure\n",
    "    df_invoc = df_params.filter(regex=\"Invocation\")\n",
    "    num_cols = len(df_invoc.columns)\n",
    "    colors = px.colors.qualitative.Plotly\n",
    "    for invoc in range(num_cols):\n",
    "        for task_idx, period in enumerate(df_params[\"Period\"]):\n",
    "            fig.add_vrect(\n",
    "                x0=period,\n",
    "                x1=period + 0.05,\n",
    "                fillcolor=colors[task_idx],\n",
    "                opacity=1,\n",
    "                layer=\"below\",\n",
    "                line_width=0.1,\n",
    "            )\n",
    "\n",
    "    return fig\n",
    "\n",
    "\n",
    "# Add invocation table column\n",
    "@app.callback(\n",
    "    [\n",
    "        Output(\"invocation-store\", \"data\"),\n",
    "        Output(\"fm-table\", \"columns\"),\n",
    "    ],\n",
    "    [Input(\"invocation-button\", \"n_clicks\")],\n",
    "    [\n",
    "        State(\"fm-table\", \"columns\"),\n",
    "        State(\"fm-table\", \"data\"),\n",
    "        State(\"invocation-store\", \"data\"),\n",
    "    ],\n",
    ")\n",
    "def add_table_col(invocation_button, table_cols, table_data, invoc_num):\n",
    "    if invocation_button > 0:\n",
    "        invoc_num += 1\n",
    "        invoc_name = \"Invocation-{}\".format(invoc_num)\n",
    "        table_cols.append(\n",
    "            {\"id\": invoc_name, \"name\": invoc_name, \"deletable\": True, \"type\": \"numeric\"}\n",
    "        )\n",
    "    return invoc_num, table_cols\n",
    "\n",
    "\n",
    "# Add rows to table\n",
    "@app.callback(\n",
    "    Output(\"fm-table\", \"data\"),\n",
    "    [Input(\"rows-button\", \"n_clicks\")],\n",
    "    [State(\"fm-table\", \"data\"), State(\"fm-table\", \"columns\")],\n",
    ")\n",
    "def add_rows(rows_button, table_rows, table_cols):\n",
    "    if rows_button > 0:\n",
    "        row_default_data = {c[\"id\"]: None for c in table_cols}\n",
    "        row_default_data[table_cols[0][\"id\"]] = len(table_rows)\n",
    "        table_rows.append(row_default_data)\n",
    "    return table_rows\n",
    "\n",
    "\n",
    "app.run_server(mode=\"external\")"
   ]
  },
  {
   "cell_type": "code",
   "execution_count": null,
   "metadata": {},
   "outputs": [],
   "source": []
  }
 ],
 "metadata": {
  "kernelspec": {
   "display_name": "Python 3",
   "language": "python",
   "name": "python3"
  },
  "language_info": {
   "codemirror_mode": {
    "name": "ipython",
    "version": 3
   },
   "file_extension": ".py",
   "mimetype": "text/x-python",
   "name": "python",
   "nbconvert_exporter": "python",
   "pygments_lexer": "ipython3",
   "version": "3.7.9"
  }
 },
 "nbformat": 4,
 "nbformat_minor": 4
}
